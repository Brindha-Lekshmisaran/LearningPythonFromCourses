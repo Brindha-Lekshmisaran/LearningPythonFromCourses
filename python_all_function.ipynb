{
  "nbformat": 4,
  "nbformat_minor": 0,
  "metadata": {
    "colab": {
      "name": "python_all_function.ipynb",
      "provenance": [],
      "authorship_tag": "ABX9TyPSAHhtpXGlurO2j+U9WvDZ",
      "include_colab_link": true
    },
    "kernelspec": {
      "name": "python3",
      "display_name": "Python 3"
    }
  },
  "cells": [
    {
      "cell_type": "markdown",
      "metadata": {
        "id": "view-in-github",
        "colab_type": "text"
      },
      "source": [
        "<a href=\"https://colab.research.google.com/github/DataSciLearner/PythonPractice/blob/master/python_all_function.ipynb\" target=\"_parent\"><img src=\"https://colab.research.google.com/assets/colab-badge.svg\" alt=\"Open In Colab\"/></a>"
      ]
    },
    {
      "cell_type": "code",
      "metadata": {
        "id": "nycomHF8XOtD",
        "colab_type": "code",
        "colab": {
          "base_uri": "https://localhost:8080/",
          "height": 34
        },
        "outputId": "fcdb2dc0-7bfc-4585-c9e5-de5021ca81ef"
      },
      "source": [
        "mylist = [True, True, True]\n",
        "x = all(mylist)\n",
        "print(x)"
      ],
      "execution_count": 2,
      "outputs": [
        {
          "output_type": "stream",
          "text": [
            "True\n"
          ],
          "name": "stdout"
        }
      ]
    },
    {
      "cell_type": "code",
      "metadata": {
        "id": "AylmzqJCXcey",
        "colab_type": "code",
        "colab": {
          "base_uri": "https://localhost:8080/",
          "height": 34
        },
        "outputId": "f8e86243-35a7-4d83-f63d-698c6e067d11"
      },
      "source": [
        "mylist = [0, 1, 1]\n",
        "x = all(mylist)\n",
        "print(x)"
      ],
      "execution_count": 3,
      "outputs": [
        {
          "output_type": "stream",
          "text": [
            "False\n"
          ],
          "name": "stdout"
        }
      ]
    },
    {
      "cell_type": "code",
      "metadata": {
        "id": "lwz1vrpGXoQC",
        "colab_type": "code",
        "colab": {
          "base_uri": "https://localhost:8080/",
          "height": 34
        },
        "outputId": "0e18f636-092e-46bc-a995-69327f6bcc08"
      },
      "source": [
        "# In case of tuples\n",
        "\n",
        "mytuple = (0, True, False)\n",
        "x = all(mytuple)\n",
        "print(x)"
      ],
      "execution_count": 4,
      "outputs": [
        {
          "output_type": "stream",
          "text": [
            "False\n"
          ],
          "name": "stdout"
        }
      ]
    },
    {
      "cell_type": "code",
      "metadata": {
        "id": "cEBs9u4AX0Eh",
        "colab_type": "code",
        "colab": {
          "base_uri": "https://localhost:8080/",
          "height": 34
        },
        "outputId": "1fa6d86e-98f6-4e2a-c66c-268ad8d669e4"
      },
      "source": [
        "# In case of dictionary\n",
        "# Note: When used on a dictionary, the all() function checks if all the keys are true, not the values.\n",
        "mydict = {0: 'Apple', 1: 'Orange'}\n",
        "x = all(mydict)\n",
        "print(x)"
      ],
      "execution_count": 5,
      "outputs": [
        {
          "output_type": "stream",
          "text": [
            "False\n"
          ],
          "name": "stdout"
        }
      ]
    },
    {
      "cell_type": "code",
      "metadata": {
        "id": "MnV1iZEKYCk2",
        "colab_type": "code",
        "colab": {
          "base_uri": "https://localhost:8080/",
          "height": 34
        },
        "outputId": "4ac4f88d-b5a8-4642-e92f-2969a37031b8"
      },
      "source": [
        "# In case of sets\n",
        "myset = {0, 1, 0}\n",
        "x = all(myset)\n",
        "print(x)"
      ],
      "execution_count": 6,
      "outputs": [
        {
          "output_type": "stream",
          "text": [
            "False\n"
          ],
          "name": "stdout"
        }
      ]
    },
    {
      "cell_type": "code",
      "metadata": {
        "id": "kxkt2PLJYIsF",
        "colab_type": "code",
        "colab": {
          "base_uri": "https://localhost:8080/",
          "height": 34
        },
        "outputId": "faa7f9c6-574e-460f-cf5d-9e3445db6b47"
      },
      "source": [
        "# if empty iterable\n",
        "myempty = []\n",
        "x = all(myempty)\n",
        "print(x)"
      ],
      "execution_count": 7,
      "outputs": [
        {
          "output_type": "stream",
          "text": [
            "True\n"
          ],
          "name": "stdout"
        }
      ]
    },
    {
      "cell_type": "code",
      "metadata": {
        "id": "K3xvjMwqX8Bl",
        "colab_type": "code",
        "colab": {
          "base_uri": "https://localhost:8080/",
          "height": 67
        },
        "outputId": "4783ae35-f744-4098-e8be-0fe89632b48f"
      },
      "source": [
        "# How does it work with strings\n",
        "\n",
        "s = \"This is good\"\n",
        "print(all(s))\n",
        "\n",
        "s = '000'\n",
        "print(all(s))\n",
        "\n",
        "s = ''\n",
        "print(all(s))"
      ],
      "execution_count": 8,
      "outputs": [
        {
          "output_type": "stream",
          "text": [
            "True\n",
            "True\n",
            "True\n"
          ],
          "name": "stdout"
        }
      ]
    },
    {
      "cell_type": "code",
      "metadata": {
        "id": "JYCBWQGpZn2c",
        "colab_type": "code",
        "colab": {
          "base_uri": "https://localhost:8080/",
          "height": 50
        },
        "outputId": "1c55b829-55cb-41ce-eb19-bf8eb1348054"
      },
      "source": [
        "# What happens here\n",
        "\n",
        "s = {'0': 'True'}\n",
        "print(all(s))\n",
        "\n",
        "s = {0: 'True'}\n",
        "print(all(s))"
      ],
      "execution_count": 10,
      "outputs": [
        {
          "output_type": "stream",
          "text": [
            "True\n",
            "False\n"
          ],
          "name": "stdout"
        }
      ]
    },
    {
      "cell_type": "code",
      "metadata": {
        "id": "KzRgDtovZ79V",
        "colab_type": "code",
        "colab": {
          "base_uri": "https://localhost:8080/",
          "height": 34
        },
        "outputId": "428a4fb2-1f1c-4bd4-928f-db461ecb01d4"
      },
      "source": [
        "# With custom objects\n",
        "\n",
        "class Person:\n",
        "  name = ''\n",
        "  def __init__(self, n):\n",
        "    self.name = n\n",
        "\n",
        "list_objs = [Person('Pankaj'), Person('Lisa')]\n",
        "print(all(list_objs))"
      ],
      "execution_count": 11,
      "outputs": [
        {
          "output_type": "stream",
          "text": [
            "True\n"
          ],
          "name": "stdout"
        }
      ]
    },
    {
      "cell_type": "code",
      "metadata": {
        "id": "YgOO2Kgtabh7",
        "colab_type": "code",
        "colab": {}
      },
      "source": [
        ""
      ],
      "execution_count": 0,
      "outputs": []
    }
  ]
}