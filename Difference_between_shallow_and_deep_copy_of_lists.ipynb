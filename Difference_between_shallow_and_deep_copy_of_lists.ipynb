{
  "nbformat": 4,
  "nbformat_minor": 0,
  "metadata": {
    "colab": {
      "name": "Difference between shallow and deep  copy of lists.ipynb",
      "provenance": [],
      "authorship_tag": "ABX9TyNRTy0PQo9JPXhXtQAxAION",
      "include_colab_link": true
    },
    "kernelspec": {
      "name": "python3",
      "display_name": "Python 3"
    },
    "language_info": {
      "name": "python"
    }
  },
  "cells": [
    {
      "cell_type": "markdown",
      "metadata": {
        "id": "view-in-github",
        "colab_type": "text"
      },
      "source": [
        "<a href=\"https://colab.research.google.com/github/DataSciLearner/PythonPractice/blob/master/Difference_between_shallow_and_deep_copy_of_lists.ipynb\" target=\"_parent\"><img src=\"https://colab.research.google.com/assets/colab-badge.svg\" alt=\"Open In Colab\"/></a>"
      ]
    },
    {
      "cell_type": "code",
      "execution_count": null,
      "metadata": {
        "id": "7pbLqMXpeHcf",
        "colab": {
          "base_uri": "https://localhost:8080/"
        },
        "outputId": "65cf9960-c358-48e6-e99f-63f9cf48cb5b"
      },
      "outputs": [
        {
          "output_type": "stream",
          "name": "stdout",
          "text": [
            "[0, 0]\n"
          ]
        }
      ],
      "source": [
        "original = [1,2,3]\n",
        "other = original\n",
        "original[:] = [0,0]\n",
        "print(other)"
      ]
    },
    {
      "cell_type": "code",
      "source": [
        "original = [1,2,3]\n",
        "other = original\n",
        "original = [0,0]\n",
        "print(other) "
      ],
      "metadata": {
        "colab": {
          "base_uri": "https://localhost:8080/"
        },
        "id": "7cegCl-_eyly",
        "outputId": "d4294365-cfaf-4807-e358-bf7627279533"
      },
      "execution_count": null,
      "outputs": [
        {
          "output_type": "stream",
          "name": "stdout",
          "text": [
            "[1, 2, 3]\n"
          ]
        }
      ]
    }
  ]
}