{
  "nbformat": 4,
  "nbformat_minor": 0,
  "metadata": {
    "colab": {
      "name": "Python_lambda_functions.ipynb",
      "provenance": [],
      "collapsed_sections": [],
      "authorship_tag": "ABX9TyPy6FHIgI+RIXFYWPTzIAML",
      "include_colab_link": true
    },
    "kernelspec": {
      "name": "python3",
      "display_name": "Python 3"
    }
  },
  "cells": [
    {
      "cell_type": "markdown",
      "metadata": {
        "id": "view-in-github",
        "colab_type": "text"
      },
      "source": [
        "<a href=\"https://colab.research.google.com/github/DataSciLearner/PythonPractice/blob/master/Python_lambda_functions.ipynb\" target=\"_parent\"><img src=\"https://colab.research.google.com/assets/colab-badge.svg\" alt=\"Open In Colab\"/></a>"
      ]
    },
    {
      "cell_type": "markdown",
      "metadata": {
        "id": "f9ZNq0tPmJ4L",
        "colab_type": "text"
      },
      "source": [
        "Every anonymous function you define in Python will have 3 essential parts:\n",
        "\n",
        ". The lambda keyword.\n",
        ". The parameters (or bound variables), and\n",
        ". The function body.\n",
        "\n",
        "A lambda function can have any number of parameters, but the function body can only contain one expression."
      ]
    },
    {
      "cell_type": "markdown",
      "metadata": {
        "id": "du8NhVVkn8SD",
        "colab_type": "text"
      },
      "source": [
        "## Bibliography\n",
        "https://www.guru99.com/python-lambda-function.html\n"
      ]
    },
    {
      "cell_type": "markdown",
      "metadata": {
        "id": "cZScv-blnbT_",
        "colab_type": "text"
      },
      "source": [
        "## Lambda with two parameters"
      ]
    },
    {
      "cell_type": "code",
      "metadata": {
        "id": "VSNCepsjmEYV",
        "colab_type": "code",
        "colab": {
          "base_uri": "https://localhost:8080/",
          "height": 34
        },
        "outputId": "77569e71-6ec3-4f1b-be76-38a618d4d516"
      },
      "source": [
        "adder = lambda x, y : x + y\n",
        "print(adder(1,2))"
      ],
      "execution_count": 1,
      "outputs": [
        {
          "output_type": "stream",
          "text": [
            "3\n"
          ],
          "name": "stdout"
        }
      ]
    },
    {
      "cell_type": "markdown",
      "metadata": {
        "id": "HCae_4GambuB",
        "colab_type": "text"
      },
      "source": [
        "Code Explanation\n",
        "Here, we define a variable that will hold the result returned by the lambda function.\n",
        "\n",
        "1. The lambda keyword used to define an anonymous function.\n",
        "\n",
        "2. x and y are the parameters that we pass to the lambda function.\n",
        "\n",
        "3. This is the body of the function, which adds the 2 parameters we passed. Notice that it is a single expression. You cannot write multiple statements in the body of a lambda function.\n",
        "\n",
        "4. We call the function and print the returned value."
      ]
    },
    {
      "cell_type": "markdown",
      "metadata": {
        "id": "VdY480gYmsjv",
        "colab_type": "text"
      },
      "source": [
        "Note: Lambda itself returns a function object"
      ]
    },
    {
      "cell_type": "markdown",
      "metadata": {
        "id": "6Vvh8ccqnib3",
        "colab_type": "text"
      },
      "source": [
        "## Lambda and print string"
      ]
    },
    {
      "cell_type": "code",
      "metadata": {
        "id": "WG5DR3YlmZvg",
        "colab_type": "code",
        "colab": {
          "base_uri": "https://localhost:8080/",
          "height": 34
        },
        "outputId": "b704d658-8888-400e-f99c-45c65fa56edf"
      },
      "source": [
        "#What a lambda returns\n",
        "string='some kind of a useless lambda'\n",
        "print(lambda string : print(string))"
      ],
      "execution_count": 2,
      "outputs": [
        {
          "output_type": "stream",
          "text": [
            "<function <lambda> at 0x7fee5d251620>\n"
          ],
          "name": "stdout"
        }
      ]
    },
    {
      "cell_type": "code",
      "metadata": {
        "id": "GZ4ItyakmzhR",
        "colab_type": "code",
        "colab": {
          "base_uri": "https://localhost:8080/",
          "height": 34
        },
        "outputId": "0e9ece92-3c79-422b-8016-2bac01f0b6ae"
      },
      "source": [
        "#What a lambda returns #2\n",
        "x=\"some kind of a useless lambda\"\n",
        "(lambda x : print(x))(x)"
      ],
      "execution_count": 3,
      "outputs": [
        {
          "output_type": "stream",
          "text": [
            "some kind of a useless lambda\n"
          ],
          "name": "stdout"
        }
      ]
    },
    {
      "cell_type": "markdown",
      "metadata": {
        "id": "YZhcy3nAm9xs",
        "colab_type": "text"
      },
      "source": [
        "Code Explanation\n",
        "\n",
        "Here is the same string we defined in the previous example.\n",
        "In this part, we are defining a lambda and calling it immediately by passing the string as an argument. This is something called an IIFE"
      ]
    },
    {
      "cell_type": "markdown",
      "metadata": {
        "id": "VYDljmcAnPQ5",
        "colab_type": "text"
      },
      "source": [
        "## Lambda functions and regular functions"
      ]
    },
    {
      "cell_type": "code",
      "metadata": {
        "id": "5QzW8kjym1xh",
        "colab_type": "code",
        "colab": {
          "base_uri": "https://localhost:8080/",
          "height": 101
        },
        "outputId": "40f09ee2-bf15-4bd9-dd2f-78f222484473"
      },
      "source": [
        "#A REGULAR FUNCTION\n",
        "def guru( funct, *args ):\n",
        "  funct( *args )\n",
        "def printer_one( arg ):\n",
        "  return print (arg)\n",
        "def printer_two( arg ):\n",
        "  print(arg)\n",
        "#CALL A REGULAR FUNCTION \n",
        "guru( printer_one, 'printer 1 REGULAR CALL' )\n",
        "guru( printer_two, 'printer 2 REGULAR CALL \\n' )\n",
        "#CALL A REGULAR FUNCTION THRU A LAMBDA\n",
        "guru(lambda: printer_one('printer 1 LAMBDA CALL'))\n",
        "guru(lambda: printer_two('printer 2 LAMBDA CALL'))"
      ],
      "execution_count": 5,
      "outputs": [
        {
          "output_type": "stream",
          "text": [
            "printer 1 REGULAR CALL\n",
            "printer 2 REGULAR CALL \n",
            "\n",
            "printer 1 LAMBDA CALL\n",
            "printer 2 LAMBDA CALL\n"
          ],
          "name": "stdout"
        }
      ]
    },
    {
      "cell_type": "markdown",
      "metadata": {
        "id": "Q-g5cu1foCHp",
        "colab_type": "text"
      },
      "source": [
        "Code Explanation\n",
        "\n",
        "1. A function called guru that takes another function as the first parameter and any other arguments following it.\n",
        "2. printer_one is a simple function which prints the parameter passed to it and returns it.\n",
        "3. printer_two is similar to printer_one but without the return statement.\n",
        "4. In this part, we are calling the guru function and passing the printer functions and a string as parameters.\n",
        "5. This is the syntax to achieve the fourth step (i.e., calling the guru function) but using lambdas."
      ]
    },
    {
      "cell_type": "code",
      "metadata": {
        "id": "xTTF5L9mnTLK",
        "colab_type": "code",
        "colab": {}
      },
      "source": [
        ""
      ],
      "execution_count": 0,
      "outputs": []
    }
  ]
}