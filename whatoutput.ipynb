{
  "nbformat": 4,
  "nbformat_minor": 0,
  "metadata": {
    "colab": {
      "name": "whatoutput.ipynb",
      "provenance": [],
      "collapsed_sections": [
        "peatlYBhd8D5",
        "sI7Ja0OhetqB",
        "T5Meuq9WHU5w",
        "4X5xm_VHJ_rp",
        "3SBzlrGSlht7",
        "iII1WfQfncJC",
        "_Eg3WGBduBkX"
      ],
      "authorship_tag": "ABX9TyPgUqQMSKb+QB2hZJam5P56",
      "include_colab_link": true
    },
    "kernelspec": {
      "name": "python3",
      "display_name": "Python 3"
    }
  },
  "cells": [
    {
      "cell_type": "markdown",
      "metadata": {
        "id": "view-in-github",
        "colab_type": "text"
      },
      "source": [
        "<a href=\"https://colab.research.google.com/github/DataSciLearner/PythonPractice/blob/master/whatoutput.ipynb\" target=\"_parent\"><img src=\"https://colab.research.google.com/assets/colab-badge.svg\" alt=\"Open In Colab\"/></a>"
      ]
    },
    {
      "cell_type": "markdown",
      "metadata": {
        "id": "SG1BjAtOdPM1",
        "colab_type": "text"
      },
      "source": [
        "## What this code outputs and why?\n"
      ]
    },
    {
      "cell_type": "code",
      "metadata": {
        "id": "HEdegqvRdK_k",
        "colab_type": "code",
        "outputId": "cb773c2b-7781-44b8-a1fc-4578d4234db1",
        "colab": {
          "base_uri": "https://localhost:8080/",
          "height": 34
        }
      },
      "source": [
        "x = ['a', 'b', 'c', 'd']\n",
        "y = [i for i in enumerate(x)]\n",
        "print(y)"
      ],
      "execution_count": 0,
      "outputs": [
        {
          "output_type": "stream",
          "text": [
            "[(0, 'a'), (1, 'b'), (2, 'c'), (3, 'd')]\n"
          ],
          "name": "stdout"
        }
      ]
    },
    {
      "cell_type": "code",
      "metadata": {
        "id": "hg7MfWfYdWbT",
        "colab_type": "code",
        "outputId": "f664e22d-96cb-482c-b32d-5b4aa48dce4c",
        "colab": {
          "base_uri": "https://localhost:8080/",
          "height": 84
        }
      },
      "source": [
        "#This is because enumerate gives a tuples\n",
        "\n",
        "for i in enumerate(x):\n",
        "  print(i)"
      ],
      "execution_count": 0,
      "outputs": [
        {
          "output_type": "stream",
          "text": [
            "(0, 'a')\n",
            "(1, 'b')\n",
            "(2, 'c')\n",
            "(3, 'd')\n"
          ],
          "name": "stdout"
        }
      ]
    },
    {
      "cell_type": "code",
      "metadata": {
        "id": "__fY9CEVefCC",
        "colab_type": "code",
        "outputId": "17f831e9-f456-48eb-f238-f0fcdfcd2ec9",
        "colab": {
          "base_uri": "https://localhost:8080/",
          "height": 34
        }
      },
      "source": [
        "*a, b, c = [1, 2, 3, 4, 5]\n",
        "print(a, b, c)"
      ],
      "execution_count": 0,
      "outputs": [
        {
          "output_type": "stream",
          "text": [
            "[1, 2, 3] 4 5\n"
          ],
          "name": "stdout"
        }
      ]
    },
    {
      "cell_type": "code",
      "metadata": {
        "id": "Lnly_ejLkpD-",
        "colab_type": "code",
        "outputId": "82985e27-81b3-4ef9-fb2a-50e779dd2084",
        "colab": {
          "base_uri": "https://localhost:8080/",
          "height": 34
        }
      },
      "source": [
        "x =[4,5,6,5]\n",
        "x.remove(5)\n",
        "print(x)"
      ],
      "execution_count": 0,
      "outputs": [
        {
          "output_type": "stream",
          "text": [
            "[4, 6, 5]\n"
          ],
          "name": "stdout"
        }
      ]
    },
    {
      "cell_type": "code",
      "metadata": {
        "id": "FRiMor--J2up",
        "colab_type": "code",
        "outputId": "80c0a7b5-cd91-42df-cd88-6ee345608038",
        "colab": {
          "base_uri": "https://localhost:8080/",
          "height": 34
        }
      },
      "source": [
        "import itertools\n",
        "it1 = iter([1, 2, 3])\n",
        "it2 = iter([4, 5, 6])\n",
        "itertools.chain(it1, it2)\n"
      ],
      "execution_count": 0,
      "outputs": [
        {
          "output_type": "execute_result",
          "data": {
            "text/plain": [
              "<itertools.chain at 0x7fe15ae63ef0>"
            ]
          },
          "metadata": {
            "tags": []
          },
          "execution_count": 2
        }
      ]
    },
    {
      "cell_type": "code",
      "metadata": {
        "id": "NbUTeZXNt9kI",
        "colab_type": "code",
        "outputId": "6752f9d6-ed72-4734-d246-992e2c3c4c36",
        "colab": {
          "base_uri": "https://localhost:8080/",
          "height": 34
        }
      },
      "source": [
        "x = [['a','a','a'],['b','b','b'],['c','c','c']]\n",
        "y = zip(*x)\n",
        "print(list(y))"
      ],
      "execution_count": 0,
      "outputs": [
        {
          "output_type": "stream",
          "text": [
            "[('a', 'b', 'c'), ('a', 'b', 'c'), ('a', 'b', 'c')]\n"
          ],
          "name": "stdout"
        }
      ]
    },
    {
      "cell_type": "markdown",
      "metadata": {
        "id": "J-c0VKuou1uR",
        "colab_type": "text"
      },
      "source": [
        "Transposing a matrix using zip and tuple unpacking"
      ]
    },
    {
      "cell_type": "code",
      "metadata": {
        "id": "SWIhXIntutKd",
        "colab_type": "code",
        "outputId": "817cd6c6-aa1a-44ab-ae2e-12751b9a8af8",
        "colab": {
          "base_uri": "https://localhost:8080/",
          "height": 34
        }
      },
      "source": [
        "def wrap(func):\n",
        "    return 1\n",
        "\n",
        "@wrap\n",
        "def foo():\n",
        "    return 2\n",
        "\n",
        "print(foo, type(foo))\n"
      ],
      "execution_count": 0,
      "outputs": [
        {
          "output_type": "stream",
          "text": [
            "1 <class 'int'>\n"
          ],
          "name": "stdout"
        }
      ]
    },
    {
      "cell_type": "markdown",
      "metadata": {
        "id": "sZJ7nN7Bw2R0",
        "colab_type": "text"
      },
      "source": [
        "Decorator syntax. This is an equivalent of: \n",
        "foo = wrap(foo)\n",
        "so it turned foo into an int."
      ]
    },
    {
      "cell_type": "code",
      "metadata": {
        "id": "ys82f8O3yGFN",
        "colab_type": "code",
        "outputId": "1496be78-6a75-4a57-bc45-b3497e9c30ec",
        "colab": {
          "base_uri": "https://localhost:8080/",
          "height": 50
        }
      },
      "source": [
        "def func():\n",
        "    def nested():\n",
        "        nonlocal x\n",
        "        x = 1\n",
        "    x = 3\n",
        "    nested()\n",
        "    print(\"func:\", x)\n",
        "    \n",
        "x = 2    \n",
        "func()\n",
        "print(\"global:\", x)"
      ],
      "execution_count": 0,
      "outputs": [
        {
          "output_type": "stream",
          "text": [
            "func: 1\n",
            "global: 2\n"
          ],
          "name": "stdout"
        }
      ]
    },
    {
      "cell_type": "markdown",
      "metadata": {
        "id": "hCWHVfmZyqzF",
        "colab_type": "text"
      },
      "source": [
        "nested() assigned 1 to nonlocal x defined in func(). global x is unchanged"
      ]
    },
    {
      "cell_type": "code",
      "metadata": {
        "id": "pPgolyCoys37",
        "colab_type": "code",
        "outputId": "20f02876-0bdd-4a39-b8b3-70a9dcc80788",
        "colab": {
          "base_uri": "https://localhost:8080/",
          "height": 34
        }
      },
      "source": [
        "x = 'hello {{}}'.format('world')\n",
        "print(x)"
      ],
      "execution_count": 0,
      "outputs": [
        {
          "output_type": "stream",
          "text": [
            "hello {}\n"
          ],
          "name": "stdout"
        }
      ]
    },
    {
      "cell_type": "markdown",
      "metadata": {
        "id": "B6nVvNIbzqox",
        "colab_type": "text"
      },
      "source": [
        "String format method. Double curly braces are used to escape curly braces."
      ]
    },
    {
      "cell_type": "code",
      "metadata": {
        "id": "ARMwAck_zo4A",
        "colab_type": "code",
        "colab": {}
      },
      "source": [
        ""
      ],
      "execution_count": 0,
      "outputs": []
    },
    {
      "cell_type": "markdown",
      "metadata": {
        "id": "peatlYBhd8D5",
        "colab_type": "text"
      },
      "source": [
        "## Write if statement to test if statement is false\n",
        "\n",
        "s = False"
      ]
    },
    {
      "cell_type": "code",
      "metadata": {
        "id": "-y6yu1YOdtxe",
        "colab_type": "code",
        "outputId": "e25f38d6-76b5-40ab-bf7e-d1ce8c1799f3",
        "colab": {
          "base_uri": "https://localhost:8080/",
          "height": 34
        }
      },
      "source": [
        "s = False\n",
        "\n",
        "if not s:\n",
        "  print(\"False\")"
      ],
      "execution_count": 0,
      "outputs": [
        {
          "output_type": "stream",
          "text": [
            "False\n"
          ],
          "name": "stdout"
        }
      ]
    },
    {
      "cell_type": "markdown",
      "metadata": {
        "id": "sI7Ja0OhetqB",
        "colab_type": "text"
      },
      "source": [
        "## Write program to assign numbers to all alphabets as its position, starting from a = 0"
      ]
    },
    {
      "cell_type": "code",
      "metadata": {
        "id": "9nDkS1OfeVYH",
        "colab_type": "code",
        "colab": {}
      },
      "source": [
        "from string import ascii_lowercase as letters\n",
        "\n",
        "for i, letter in enumerate(letters):\n",
        "    print(letter, \"=\", i)"
      ],
      "execution_count": 0,
      "outputs": []
    },
    {
      "cell_type": "markdown",
      "metadata": {
        "id": "T5Meuq9WHU5w",
        "colab_type": "text"
      },
      "source": [
        "## Transpose the rows and columns of the matrix using list comprehension\n",
        "matrix = [\n",
        "...     [1, 2, 3, 4],\n",
        "...     [5, 6, 7, 8],\n",
        "...     [9, 10, 11, 12],\n",
        "... ]"
      ]
    },
    {
      "cell_type": "code",
      "metadata": {
        "id": "QK-KthS2el7C",
        "colab_type": "code",
        "outputId": "1211ebc9-9306-4d9b-a80f-44ad2226e8e5",
        "colab": {
          "base_uri": "https://localhost:8080/",
          "height": 34
        }
      },
      "source": [
        "matrix = [ [1, 2, 3, 4],  [5, 6, 7, 8],  [9, 10, 11, 12] ]\n",
        "\n",
        "length_of_elements = len(matrix[1])\n",
        "[[row[i] for row in matrix] for i in range(length_of_elements)]"
      ],
      "execution_count": 0,
      "outputs": [
        {
          "output_type": "execute_result",
          "data": {
            "text/plain": [
              "[[1, 5, 9], [2, 6, 10], [3, 7, 11], [4, 8, 12]]"
            ]
          },
          "metadata": {
            "tags": []
          },
          "execution_count": 8
        }
      ]
    },
    {
      "cell_type": "markdown",
      "metadata": {
        "id": "4X5xm_VHJ_rp",
        "colab_type": "text"
      },
      "source": [
        "## Write code to get 5 random integers"
      ]
    },
    {
      "cell_type": "code",
      "metadata": {
        "id": "lhlc5X3-JrFz",
        "colab_type": "code",
        "outputId": "61a63e03-7bb4-4b7d-8f12-a53d7458a172",
        "colab": {
          "base_uri": "https://localhost:8080/",
          "height": 34
        }
      },
      "source": [
        " from random import randint\n",
        " [randint(0, 10) for _ in range(5)]"
      ],
      "execution_count": 0,
      "outputs": [
        {
          "output_type": "execute_result",
          "data": {
            "text/plain": [
              "[6, 4, 10, 7, 6]"
            ]
          },
          "metadata": {
            "tags": []
          },
          "execution_count": 14
        }
      ]
    },
    {
      "cell_type": "markdown",
      "metadata": {
        "id": "3SBzlrGSlht7",
        "colab_type": "text"
      },
      "source": [
        "## isvowel function\n",
        "Define a function isVowel(char) that returns True if char is a vowel ('a', 'e', 'i', 'o', or 'u'), and False otherwise. \n",
        "\n",
        "Do this WITHOUT the in statement, and then WITH the in statement"
      ]
    },
    {
      "cell_type": "code",
      "metadata": {
        "id": "-GBqc6zYkuP9",
        "colab_type": "code",
        "outputId": "82ae4a3a-b938-4008-91bf-da626cd01aa1",
        "colab": {
          "base_uri": "https://localhost:8080/",
          "height": 34
        }
      },
      "source": [
        "def isvowel(letter):\n",
        "  if letter == 'a' or letter == 'e' or letter == 'i' or letter == 'o' or letter == 'u':\n",
        "    print(letter, \"is a vowel\")\n",
        "\n",
        "isvowel(\"a\")"
      ],
      "execution_count": 0,
      "outputs": [
        {
          "output_type": "stream",
          "text": [
            "a is a vowel\n"
          ],
          "name": "stdout"
        }
      ]
    },
    {
      "cell_type": "code",
      "metadata": {
        "id": "qeYnvItGmh3g",
        "colab_type": "code",
        "outputId": "aeaf9064-906a-493d-da79-33117b7b8a5e",
        "colab": {
          "base_uri": "https://localhost:8080/",
          "height": 34
        }
      },
      "source": [
        "#A better implementation\n",
        "def isvowel(letter):\n",
        "  letter = letter.lower()\n",
        "  return letter == 'a' or letter == 'e' or letter == 'i' or letter == 'o' or letter == 'u'\n",
        "\n",
        "isvowel(\"a\")"
      ],
      "execution_count": 0,
      "outputs": [
        {
          "output_type": "execute_result",
          "data": {
            "text/plain": [
              "True"
            ]
          },
          "metadata": {
            "tags": []
          },
          "execution_count": 9
        }
      ]
    },
    {
      "cell_type": "code",
      "metadata": {
        "id": "mrMwXW4Kko5s",
        "colab_type": "code",
        "outputId": "ccb592b4-448a-424e-c07d-517e1cb89c3b",
        "colab": {
          "base_uri": "https://localhost:8080/",
          "height": 34
        }
      },
      "source": [
        "def isvowel(letter):\n",
        "  if letter.lower() in ['a', 'e', 'i', 'o', 'u']:\n",
        "    print(letter, \"is a vowel\")\n",
        "\n",
        "isvowel(\"e\")"
      ],
      "execution_count": 0,
      "outputs": [
        {
          "output_type": "stream",
          "text": [
            "e is a vowel\n"
          ],
          "name": "stdout"
        }
      ]
    },
    {
      "cell_type": "markdown",
      "metadata": {
        "id": "iII1WfQfncJC",
        "colab_type": "text"
      },
      "source": [
        "## Plot 1000 random points between 1 - 100"
      ]
    },
    {
      "cell_type": "code",
      "metadata": {
        "id": "_wPnIRd0nfao",
        "colab_type": "code",
        "outputId": "4ddcacd7-30ce-4edb-a93e-acc01a9ef694",
        "colab": {
          "base_uri": "https://localhost:8080/",
          "height": 282
        }
      },
      "source": [
        "from random import randint\n",
        "from matplotlib.pyplot import scatter\n",
        "\n",
        "x = [randint(1,1000) for _ in range(101)]\n",
        "y = [randint(1,1000) for _ in range(101)]\n",
        "scatter(x,y)"
      ],
      "execution_count": 0,
      "outputs": [
        {
          "output_type": "execute_result",
          "data": {
            "text/plain": [
              "<matplotlib.collections.PathCollection at 0x7fe15ad157f0>"
            ]
          },
          "metadata": {
            "tags": []
          },
          "execution_count": 11
        },
        {
          "output_type": "display_data",
          "data": {
            "image/png": "[encoded data removed]",
            "text/plain": [
              "<Figure size 432x288 with 1 Axes>"
            ]
          },
          "metadata": {
            "tags": []
          }
        }
      ]
    },
    {
      "cell_type": "markdown",
      "metadata": {
        "id": "_Eg3WGBduBkX",
        "colab_type": "text"
      },
      "source": [
        "## Use format_map to print"
      ]
    },
    {
      "cell_type": "code",
      "metadata": {
        "id": "11K3Ot3Mn-A5",
        "colab_type": "code",
        "outputId": "5bcd354b-ba3d-4b27-a0f1-96dd9a65a3fc",
        "colab": {
          "base_uri": "https://localhost:8080/",
          "height": 34
        }
      },
      "source": [
        "meal = dict(main = \"rice\", dessert = \"pie\")\n",
        "print('Eat {main} and {dessert}'.format_map(meal))"
      ],
      "execution_count": 0,
      "outputs": [
        {
          "output_type": "stream",
          "text": [
            "Eat rice and pie\n"
          ],
          "name": "stdout"
        }
      ]
    },
    {
      "cell_type": "markdown",
      "metadata": {
        "id": "qPasY3gcv1sG",
        "colab_type": "text"
      },
      "source": [
        "## Write a function to check if all items in the list are the same\n",
        "\n",
        "#Test:\n",
        "assert all_same([1, 1, 1])\n",
        "assert all_same('a a a'.split())\n",
        "assert not all_same([1, 1, 2])\n"
      ]
    },
    {
      "cell_type": "code",
      "metadata": {
        "id": "dwOiDw9xv1Q8",
        "colab_type": "code",
        "colab": {}
      },
      "source": [
        "def all_same(items):\n",
        "    return all(x == items[0] for x in items)\n",
        "\n",
        "#Test:\n",
        "assert all_same([1, 1, 1])\n",
        "assert all_same('a a a'.split())\n",
        "assert not all_same([1, 1, 2])\n"
      ],
      "execution_count": 0,
      "outputs": []
    },
    {
      "cell_type": "markdown",
      "metadata": {
        "id": "AH5gwSGai2PG",
        "colab_type": "text"
      },
      "source": [
        "## Writes a program that counts up the number of vowels contained in the string s."
      ]
    },
    {
      "cell_type": "code",
      "metadata": {
        "id": "GC-Bxqwki5Qn",
        "colab_type": "code",
        "outputId": "09a650ca-4e02-4b11-cd4e-82d5d2bf9e94",
        "colab": {
          "base_uri": "https://localhost:8080/",
          "height": 34
        }
      },
      "source": [
        "def out(x):\n",
        "  print(\"Number of vowels:\", str(x))\n",
        "\n",
        "def vowel(string):\n",
        "  vowels = \"aeiou\"\n",
        "  counter = 0\n",
        "  string = string.lower()\n",
        "  for char in string:\n",
        "    if char in vowels:\n",
        "      counter += 1\n",
        "  out(counter)\n",
        "\n",
        "vowel(\"today\")"
      ],
      "execution_count": 0,
      "outputs": [
        {
          "output_type": "stream",
          "text": [
            "Number of vowels: 2\n"
          ],
          "name": "stdout"
        }
      ]
    },
    {
      "cell_type": "markdown",
      "metadata": {
        "id": "72Pv_LM8jcqZ",
        "colab_type": "text"
      },
      "source": [
        "## Write a function to reverse a string"
      ]
    },
    {
      "cell_type": "code",
      "metadata": {
        "id": "gecfvJ2RjORE",
        "colab_type": "code",
        "outputId": "b0c7ec4e-8bfb-43d8-efe5-a3fdfb461c8e",
        "colab": {
          "base_uri": "https://localhost:8080/",
          "height": 34
        }
      },
      "source": [
        "def reverse(string):\n",
        "  return string[::-1]\n",
        "\n",
        "reverse(\"awesome\")"
      ],
      "execution_count": 0,
      "outputs": [
        {
          "output_type": "execute_result",
          "data": {
            "text/plain": [
              "'emosewa'"
            ]
          },
          "metadata": {
            "tags": []
          },
          "execution_count": 2
        }
      ]
    },
    {
      "cell_type": "code",
      "metadata": {
        "id": "zG1U9ecFjscg",
        "colab_type": "code",
        "outputId": "140c9a0a-448d-4bd2-85cd-6dfb6bb5fab0",
        "colab": {
          "base_uri": "https://localhost:8080/",
          "height": 34
        }
      },
      "source": [
        "# To write the function in long form\n",
        "\n",
        "def reverse(string):\n",
        "  reversed = \"\"\n",
        "  for char in string:\n",
        "    reversed = char + reversed\n",
        "  return reversed\n",
        "\n",
        "reverse(\"awesome\")"
      ],
      "execution_count": 0,
      "outputs": [
        {
          "output_type": "execute_result",
          "data": {
            "text/plain": [
              "'emosewa'"
            ]
          },
          "metadata": {
            "tags": []
          },
          "execution_count": 3
        }
      ]
    },
    {
      "cell_type": "markdown",
      "metadata": {
        "id": "ykVRyriuk_iW",
        "colab_type": "text"
      },
      "source": [
        "## Write a function to find all self dividing numbers in a range of numbers.\n",
        "\n",
        "assert self_dividing(start=1, stop=22) == [1, 2, 3, 4, 5, 6, 7, 8, 9, 11, 12, 15, 22]"
      ]
    },
    {
      "cell_type": "code",
      "metadata": {
        "id": "TiliLEumj9R3",
        "colab_type": "code",
        "colab": {}
      },
      "source": [
        "def is_self_dividing(n):\n",
        "  #Check if the number is self dividing\n",
        "  return ('0' not in str(n)) and (all(n % int(digit) == 0 for digit in str(n)))\n",
        "\n",
        "\n",
        "def self_dividing(start, stop):\n",
        "  return list(filter(is_self_dividing, range(start, stop + 1)))\n",
        "\n",
        "assert self_dividing(start=1, stop=22) == [1, 2, 3, 4, 5, 6, 7, 8, 9, 11, 12, 15, 22]"
      ],
      "execution_count": 0,
      "outputs": []
    },
    {
      "cell_type": "markdown",
      "metadata": {
        "id": "LUxauXFI4rqY",
        "colab_type": "text"
      },
      "source": [
        "## Calculate the Hamming distance between two integers:"
      ]
    },
    {
      "cell_type": "code",
      "metadata": {
        "id": "lhsoIrbBl_GR",
        "colab_type": "code",
        "colab": {
          "base_uri": "https://localhost:8080/",
          "height": 34
        },
        "outputId": "28049335-3356-4167-fe7b-d3e54619777c"
      },
      "source": [
        "def hamming_distance(a, b):\n",
        "  # bin gives the binary equivalent of the integer\n",
        "  # ^ is bitwise XOR\n",
        "    return bin(a^b).count('1')\n",
        "\n",
        "assert hamming_distance(1, 4) == 2 \n",
        "print(hamming_distance(1,4))"
      ],
      "execution_count": 3,
      "outputs": [
        {
          "output_type": "stream",
          "text": [
            "2\n"
          ],
          "name": "stdout"
        }
      ]
    },
    {
      "cell_type": "markdown",
      "metadata": {
        "id": "64qTex8y6Czn",
        "colab_type": "text"
      },
      "source": [
        "## Write a function that returns a list of all words with only letters.\n",
        "\n",
        "words('d ds')\n",
        "['d', 'ds']\n",
        "\n",
        "words('d DDD sd1')\n",
        "['d', 'ddd', 'sd']"
      ]
    },
    {
      "cell_type": "code",
      "metadata": {
        "id": "kGTNORb-6D8P",
        "colab_type": "code",
        "colab": {
          "base_uri": "https://localhost:8080/",
          "height": 50
        },
        "outputId": "2fa02f18-cc93-4359-b48a-cf12937769bc"
      },
      "source": [
        "import re\n",
        "\n",
        "def words(text):\n",
        "  return re.findall('[a-z]+', text.lower())\n",
        "\n",
        "print(words('d ds'))\n",
        "print(words('d DDD sd1'))"
      ],
      "execution_count": 10,
      "outputs": [
        {
          "output_type": "stream",
          "text": [
            "['d', 'ds']\n",
            "['d', 'ddd', 'sd']\n"
          ],
          "name": "stdout"
        }
      ]
    },
    {
      "cell_type": "markdown",
      "metadata": {
        "id": "OoJqnu7g_cMu",
        "colab_type": "text"
      },
      "source": [
        "## Get a word count of words regardless of whether it has numbers or uppercase"
      ]
    },
    {
      "cell_type": "code",
      "metadata": {
        "id": "Ne97_0wK6PGK",
        "colab_type": "code",
        "colab": {
          "base_uri": "https://localhost:8080/",
          "height": 50
        },
        "outputId": "e10bb908-f5ea-4537-b11d-ebc4836a79d5"
      },
      "source": [
        "def words(text): \n",
        "  #This will return string with only letters and lowercase\n",
        "    return re.findall('[a-z]+', text.lower())\n",
        "\n",
        "def word_count(text):\n",
        "  import collections\n",
        "  return collections.Counter(words(text))\n",
        "\n",
        "print(word_count(\"hi there hi\"))\n",
        "print(word_count(\"hi1 HI2 what2 what8 WHAT!&\"))"
      ],
      "execution_count": 14,
      "outputs": [
        {
          "output_type": "stream",
          "text": [
            "Counter({'hi': 2, 'there': 1})\n",
            "Counter({'what': 3, 'hi': 2})\n"
          ],
          "name": "stdout"
        }
      ]
    },
    {
      "cell_type": "markdown",
      "metadata": {
        "id": "M9B1ddb_Adtf",
        "colab_type": "text"
      },
      "source": [
        "## Create linkedlist in Python"
      ]
    },
    {
      "cell_type": "code",
      "metadata": {
        "id": "uwooxSEVADwf",
        "colab_type": "code",
        "colab": {}
      },
      "source": [
        "class LinkedList:\n",
        "  def __init__(self, value=None):\n",
        "    self.head_node = Node(value)"
      ],
      "execution_count": 0,
      "outputs": []
    },
    {
      "cell_type": "markdown",
      "metadata": {
        "id": "MVkMDINHA6zx",
        "colab_type": "text"
      },
      "source": [
        "## Sort dict by value"
      ]
    },
    {
      "cell_type": "code",
      "metadata": {
        "id": "pqaxoHp47AoJ",
        "colab_type": "code",
        "colab": {
          "base_uri": "https://localhost:8080/",
          "height": 34
        },
        "outputId": "7fb827b0-0cd8-48f3-e560-462490a47324"
      },
      "source": [
        "d = {'a': 4, 'b': 3, 'c': 2, 'd': 1}\n",
        "sorted(d.items(), key = lambda x:x[1])"
      ],
      "execution_count": 15,
      "outputs": [
        {
          "output_type": "execute_result",
          "data": {
            "text/plain": [
              "[('d', 1), ('c', 2), ('b', 3), ('a', 4)]"
            ]
          },
          "metadata": {
            "tags": []
          },
          "execution_count": 15
        }
      ]
    },
    {
      "cell_type": "code",
      "metadata": {
        "id": "9GwwMX0HBC9P",
        "colab_type": "code",
        "colab": {
          "base_uri": "https://localhost:8080/",
          "height": 34
        },
        "outputId": "27f62776-6752-41c3-a540-159300353200"
      },
      "source": [
        "#another method\n",
        "d = {'a': 4, 'b': 3, 'c': 2, 'd': 1}\n",
        "import operator\n",
        "sorted(d.items(), key = operator.itemgetter(1))"
      ],
      "execution_count": 16,
      "outputs": [
        {
          "output_type": "execute_result",
          "data": {
            "text/plain": [
              "[('d', 1), ('c', 2), ('b', 3), ('a', 4)]"
            ]
          },
          "metadata": {
            "tags": []
          },
          "execution_count": 16
        }
      ]
    },
    {
      "cell_type": "markdown",
      "metadata": {
        "id": "i0Saf23MQZVj",
        "colab_type": "text"
      },
      "source": [
        "## Print each item from  two lists paired."
      ]
    },
    {
      "cell_type": "code",
      "metadata": {
        "id": "p1LflT1mBMjn",
        "colab_type": "code",
        "colab": {}
      },
      "source": [
        "names = ['raymond', 'rachel', 'matthew']\n",
        "colors = ['red', 'green', 'blue', 'yellow']"
      ],
      "execution_count": 0,
      "outputs": []
    },
    {
      "cell_type": "code",
      "metadata": {
        "id": "hf1k4hSvQu_7",
        "colab_type": "code",
        "colab": {
          "base_uri": "https://localhost:8080/",
          "height": 34
        },
        "outputId": "712638cc-6772-4b75-d371-9cf83d064508"
      },
      "source": [
        "#Method 1\n",
        "list(zip(names, colors))"
      ],
      "execution_count": 19,
      "outputs": [
        {
          "output_type": "execute_result",
          "data": {
            "text/plain": [
              "[('raymond', 'red'), ('rachel', 'green'), ('matthew', 'blue')]"
            ]
          },
          "metadata": {
            "tags": []
          },
          "execution_count": 19
        }
      ]
    },
    {
      "cell_type": "code",
      "metadata": {
        "id": "fUnr4hZxQ0LV",
        "colab_type": "code",
        "colab": {
          "base_uri": "https://localhost:8080/",
          "height": 34
        },
        "outputId": "805ffbe9-eac2-4d7a-8634-4039cb9064b7"
      },
      "source": [
        "#Method 2\n",
        "[_ for _ in zip(names, colors)]"
      ],
      "execution_count": 20,
      "outputs": [
        {
          "output_type": "execute_result",
          "data": {
            "text/plain": [
              "[('raymond', 'red'), ('rachel', 'green'), ('matthew', 'blue')]"
            ]
          },
          "metadata": {
            "tags": []
          },
          "execution_count": 20
        }
      ]
    },
    {
      "cell_type": "markdown",
      "metadata": {
        "id": "TcqiWQvnRzH0",
        "colab_type": "text"
      },
      "source": [
        "## Create a three dimensional numpy array with 70 items arranged as two lots of 7 columns x 5 rows."
      ]
    },
    {
      "cell_type": "code",
      "metadata": {
        "id": "0WH1acY2Q_wU",
        "colab_type": "code",
        "colab": {
          "base_uri": "https://localhost:8080/",
          "height": 269
        },
        "outputId": "0bd8b1c0-3a73-4242-c342-f0b9900eedd1"
      },
      "source": [
        "import numpy as np\n",
        "myarr = np.arange(70)\n",
        "myarr.shape = (2, 7, 5)\n",
        "print(myarr)"
      ],
      "execution_count": 28,
      "outputs": [
        {
          "output_type": "stream",
          "text": [
            "[[[ 0  1  2  3  4]\n",
            "  [ 5  6  7  8  9]\n",
            "  [10 11 12 13 14]\n",
            "  [15 16 17 18 19]\n",
            "  [20 21 22 23 24]\n",
            "  [25 26 27 28 29]\n",
            "  [30 31 32 33 34]]\n",
            "\n",
            " [[35 36 37 38 39]\n",
            "  [40 41 42 43 44]\n",
            "  [45 46 47 48 49]\n",
            "  [50 51 52 53 54]\n",
            "  [55 56 57 58 59]\n",
            "  [60 61 62 63 64]\n",
            "  [65 66 67 68 69]]]\n"
          ],
          "name": "stdout"
        }
      ]
    },
    {
      "cell_type": "markdown",
      "metadata": {
        "id": "fch5PHN0SYSv",
        "colab_type": "text"
      },
      "source": [
        "## Build a string with numbers from 0 to 100"
      ]
    },
    {
      "cell_type": "code",
      "metadata": {
        "id": "x_l-emW9SBeW",
        "colab_type": "code",
        "colab": {
          "base_uri": "https://localhost:8080/",
          "height": 54
        },
        "outputId": "6b7a3844-1da0-42ba-919b-da08c48b600f"
      },
      "source": [
        "# Method 1\n",
        "\"\".join([str(_) for _ in range(101)])"
      ],
      "execution_count": 29,
      "outputs": [
        {
          "output_type": "execute_result",
          "data": {
            "text/plain": [
              "'0123456789101112131415161718192021222324252627282930313233343536373839404142434445464748495051525354555657585960616263646566676869707172737475767778798081828384858687888990919293949596979899100'"
            ]
          },
          "metadata": {
            "tags": []
          },
          "execution_count": 29
        }
      ]
    },
    {
      "cell_type": "code",
      "metadata": {
        "id": "xFLKF67PSi0t",
        "colab_type": "code",
        "colab": {
          "base_uri": "https://localhost:8080/",
          "height": 54
        },
        "outputId": "a48d58d9-0a89-4fd2-c36b-c01f685ed2d4"
      },
      "source": [
        "# Method 2\n",
        "\"\".join(map(str, range(101)))"
      ],
      "execution_count": 30,
      "outputs": [
        {
          "output_type": "execute_result",
          "data": {
            "text/plain": [
              "'0123456789101112131415161718192021222324252627282930313233343536373839404142434445464748495051525354555657585960616263646566676869707172737475767778798081828384858687888990919293949596979899100'"
            ]
          },
          "metadata": {
            "tags": []
          },
          "execution_count": 30
        }
      ]
    },
    {
      "cell_type": "markdown",
      "metadata": {
        "id": "OfBRZy0KToHo",
        "colab_type": "text"
      },
      "source": [
        "## Write a right index function using built-in Python\n",
        "\n",
        "s = [2, 4, 6, 8, 10, 4]\n",
        "\n",
        "\n",
        "assert rindex(s, 4) == 5"
      ]
    },
    {
      "cell_type": "code",
      "metadata": {
        "id": "dv3Ljki7Snek",
        "colab_type": "code",
        "colab": {
          "base_uri": "https://localhost:8080/",
          "height": 34
        },
        "outputId": "6d77e0de-8dee-4b6c-a68e-77cbb8232fa8"
      },
      "source": [
        "def rindex(seq, x):\n",
        "  return len(seq) - 1 - seq[::-1].index(x)\n",
        "\n",
        "s = [2, 4, 6, 8, 10, 4] \n",
        "rindex(s,4)"
      ],
      "execution_count": 32,
      "outputs": [
        {
          "output_type": "execute_result",
          "data": {
            "text/plain": [
              "5"
            ]
          },
          "metadata": {
            "tags": []
          },
          "execution_count": 32
        }
      ]
    },
    {
      "cell_type": "markdown",
      "metadata": {
        "id": "UDX0oKUvUYkX",
        "colab_type": "text"
      },
      "source": [
        "## Write a coroutine that yields the minimum value seen so far in a stream of numbers:\n",
        "\n",
        "```\n",
        "m = minimum()\n",
        "next(m)            # Prime the generator\n",
        "print(m.send(10))\n",
        "print(m.send(4))\n",
        "print(m.send(22))\n",
        "print(m.send(-1))\n",
        "```\n",
        "\n"
      ]
    },
    {
      "cell_type": "code",
      "metadata": {
        "id": "bX8DTpCNT0JY",
        "colab_type": "code",
        "colab": {
          "base_uri": "https://localhost:8080/",
          "height": 34
        },
        "outputId": "84e791b1-2df1-4fb7-b509-2a8b9a3eda6f"
      },
      "source": [
        "def minimum():\n",
        "  current = yield\n",
        "  while True:\n",
        "    value = yield current\n",
        "    current = min(value, current)\n",
        "\n",
        "  \n",
        "m = minimum()\n",
        "next(m) # prime the generator\n",
        "print(m.send(10))\n"
      ],
      "execution_count": 33,
      "outputs": [
        {
          "output_type": "stream",
          "text": [
            "10\n"
          ],
          "name": "stdout"
        }
      ]
    },
    {
      "cell_type": "code",
      "metadata": {
        "id": "SDRFFAdcVVnI",
        "colab_type": "code",
        "colab": {
          "base_uri": "https://localhost:8080/",
          "height": 34
        },
        "outputId": "2e7e5f2c-616a-4804-9646-d36f8da99f2a"
      },
      "source": [
        "print(m.send(22))"
      ],
      "execution_count": 34,
      "outputs": [
        {
          "output_type": "stream",
          "text": [
            "10\n"
          ],
          "name": "stdout"
        }
      ]
    },
    {
      "cell_type": "code",
      "metadata": {
        "id": "GCQjaC9aVbyK",
        "colab_type": "code",
        "colab": {
          "base_uri": "https://localhost:8080/",
          "height": 34
        },
        "outputId": "96480d09-87f6-49b3-a8f1-6f7bb18266a9"
      },
      "source": [
        "print(m.send(-1))"
      ],
      "execution_count": 35,
      "outputs": [
        {
          "output_type": "stream",
          "text": [
            "-1\n"
          ],
          "name": "stdout"
        }
      ]
    },
    {
      "cell_type": "code",
      "metadata": {
        "id": "SvN6QjMrVfLc",
        "colab_type": "code",
        "colab": {}
      },
      "source": [
        ""
      ],
      "execution_count": 0,
      "outputs": []
    }
  ]
}