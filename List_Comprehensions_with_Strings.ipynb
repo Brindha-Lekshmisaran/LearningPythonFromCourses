{
 "cells": [
  {
   "cell_type": "markdown",
   "metadata": {},
   "source": [
    "#### Get the first letter of each word from a list"
   ]
  },
  {
   "cell_type": "code",
   "execution_count": 1,
   "metadata": {},
   "outputs": [
    {
     "name": "stdout",
     "output_type": "stream",
     "text": [
      "['E', 'L', 'F', 'T', 'E', 'S']\n"
     ]
    }
   ],
   "source": [
    "# Get the first letter of each word from a list\n",
    "\n",
    "# a list of the names of popular authors\n",
    "authors = [\"Ernest Hemingway\",\"Langston Hughes\",\"Frank Herbert\",\"Toni Morrison\",\n",
    "    \"Emily Dickson\",\"Stephen King\"]\n",
    "\n",
    "# create an acronym from the first letter of the author's names\n",
    "letters = [ name[0] for name in authors ]\n",
    "print(letters)"
   ]
  },
  {
   "cell_type": "markdown",
   "metadata": {},
   "source": [
    "### Seperate the characters in a string"
   ]
  },
  {
   "cell_type": "code",
   "execution_count": 2,
   "metadata": {},
   "outputs": [
    {
     "data": {
      "text/plain": [
       "['T', 'h', 'i', 's', ' ', 'i', 's', ' ', 'a', ' ', 'r', 'o', 's', 'e', '.']"
      ]
     },
     "execution_count": 2,
     "metadata": {},
     "output_type": "execute_result"
    }
   ],
   "source": [
    "# Seperating the characters in a string\n",
    "\n",
    "mystr = \"This is a rose.\"\n",
    "\n",
    "[letter for letter in mystr]"
   ]
  },
  {
   "cell_type": "markdown",
   "metadata": {},
   "source": [
    "#### Change the case in a String"
   ]
  },
  {
   "cell_type": "code",
   "execution_count": 3,
   "metadata": {},
   "outputs": [
    {
     "data": {
      "text/plain": [
       "['cat', 'b', 'd']"
      ]
     },
     "execution_count": 3,
     "metadata": {},
     "output_type": "execute_result"
    }
   ],
   "source": [
    "# Change to lowercase\n",
    "[letter.lower() for letter in [\"CAT\", \"B\", \"D\"]]"
   ]
  },
  {
   "cell_type": "code",
   "execution_count": 4,
   "metadata": {},
   "outputs": [
    {
     "data": {
      "text/plain": [
       "['MONKEY', 'HORSE']"
      ]
     },
     "execution_count": 4,
     "metadata": {},
     "output_type": "execute_result"
    }
   ],
   "source": [
    "# Change to uppercase\n",
    "[letter.upper() for letter in [\"monkey\", \"horse\"]]"
   ]
  },
  {
   "cell_type": "markdown",
   "metadata": {},
   "source": [
    "#### Print only numbers from a string"
   ]
  },
  {
   "cell_type": "code",
   "execution_count": 13,
   "metadata": {},
   "outputs": [
    {
     "name": "stdout",
     "output_type": "stream",
     "text": [
      "9876543210\n"
     ]
    }
   ],
   "source": [
    "# Print only numbers from a string\n",
    "\n",
    "# user data entered as name and phone number\n",
    "user_data = \"Elvis Presley 987-654-3210\"\n",
    "\n",
    "phone = [x for x in user_data if x.isdigit()]\n",
    "print(\"\".join(phone))"
   ]
  }
 ],
 "metadata": {
  "interpreter": {
   "hash": "1375eed38d21eb9e9e089e0e04a01124d5d52b46959431b6992384a893423222"
  },
  "kernelspec": {
   "display_name": "Python 3.9.7 ('base')",
   "language": "python",
   "name": "python3"
  },
  "language_info": {
   "codemirror_mode": {
    "name": "ipython",
    "version": 3
   },
   "file_extension": ".py",
   "mimetype": "text/x-python",
   "name": "python",
   "nbconvert_exporter": "python",
   "pygments_lexer": "ipython3",
   "version": "3.9.7"
  },
  "orig_nbformat": 4
 },
 "nbformat": 4,
 "nbformat_minor": 2
}
