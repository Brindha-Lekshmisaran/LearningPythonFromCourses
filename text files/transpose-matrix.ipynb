{
 "cells": [
  {
   "cell_type": "code",
   "execution_count": 3,
   "metadata": {},
   "outputs": [
    {
     "name": "stdout",
     "output_type": "stream",
     "text": [
      "[[1, 4, 7, 10], [2, 5, 8, 11], [3, 6, 9, 12]]\n"
     ]
    }
   ],
   "source": [
    "matrix = [(1,2,3), (4,5,6),(7,8,9),(10,11,12)]\n",
    "t_matrix = map(list, zip(*matrix))\n",
    "print(list(t_matrix))"
   ]
  }
 ],
 "metadata": {
  "kernelspec": {
   "display_name": "Python 3.10.2 64-bit",
   "language": "python",
   "name": "python3"
  },
  "language_info": {
   "codemirror_mode": {
    "name": "ipython",
    "version": 3
   },
   "file_extension": ".py",
   "mimetype": "text/x-python",
   "name": "python",
   "nbconvert_exporter": "python",
   "pygments_lexer": "ipython3",
   "version": "3.10.2"
  },
  "orig_nbformat": 4,
  "vscode": {
   "interpreter": {
    "hash": "09efc2dda3d7051b6c86259a0fb4c247e9e408a5b46a784c2f599b53144d4be5"
   }
  }
 },
 "nbformat": 4,
 "nbformat_minor": 2
}
