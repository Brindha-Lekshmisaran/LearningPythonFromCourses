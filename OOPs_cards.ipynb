{
 "cells": [
  {
   "cell_type": "code",
   "execution_count": 1,
   "metadata": {},
   "outputs": [],
   "source": [
    "# This code is creating a class called FrenchDeck. \n",
    "# The class is creating a list of 52 card objects. \n",
    "# The class is also creating a list of ranks and suits. \n",
    "# The class is also creating a function called __init__. \n",
    "# The function is creating a list of 52 card objects. \n",
    "# The class is also creating a function called __len__. \n",
    "# The function is returning the length of the list. \n",
    "# The class is also creating a function called __getitem__. \n",
    "# The function is returning the card at the given position.\n",
    "\n",
    "import collections\n",
    "# Create a namedtuple called Card. \n",
    "# The namedtuple is creating a list of ranks and suits. \n",
    "Card = collections.namedtuple('Card', ['rank', 'suit'])\n",
    "\n",
    "class FrenchDeck:\n",
    "    \"\"\" Description of FrenchDeck \"\"\"\n",
    "    \n",
    "  # Creating a list of ranks and suits.\n",
    "    ranks = [str(n) for n in range(2,11)] + list('JQKA')\n",
    "  # The split() method splits a string into a list.\n",
    "    suits = 'spaced diamonds clubs hearts'.split()\n",
    "    \n",
    "    \"\"\"\n",
    "    The __init__ function is the constructor for a class. It is called whenever an object of that class is instantiated. \n",
    "    The __init__ function can take arguments, but self is always the first one.\n",
    "    \n",
    "    :param self: Refer to the object itself\n",
    "    :return: A list of 52 card objects\n",
    "    :doc-author: Trelent\n",
    "    \"\"\"\n",
    "    # Creating a list of 52 card objects.\n",
    "    def __init__(self):\n",
    "        self._cards = [Card(rank, suit) \n",
    "                       for suit in self.suits \n",
    "                       for rank in self.ranks]\n",
    "        \n",
    "    # This is a special method that allows the object \n",
    "    # to be used with the len() function. \n",
    "    # The __len__ function takes one argument, \n",
    "    # which is the object itself. It returns the length of \n",
    "    # the list.\n",
    "    def __len__(self):\n",
    "        return len(self._cards)\n",
    "    \n",
    "    \"\"\"\n",
    "    The __getitem__ function is a special method that allows the object to be used with the [] syntax. \n",
    "    The __getitem__ function takes one argument, which is an index value. It returns whatever item or items are stored in \n",
    "    the list at that index.\n",
    "    \n",
    "    :param self: Access the instance of the object itself\n",
    "    :param position: Get the card at that position in the deck\n",
    "    :return: The card at the given position\n",
    "    :doc-author: Trelent\n",
    "    \"\"\"\n",
    "    # A special method that allows the object to be used with the [] syntax. The __getitem__ function takes one argument, which is an index value. It returns whatever item or items are stored in the list at that index.\n",
    "    def __getitem__(self, position):\n",
    "        return self._cards[position]"
   ]
  },
  {
   "cell_type": "code",
   "execution_count": null,
   "metadata": {},
   "outputs": [],
   "source": [
    "# from frenchdeck import FrenchDeck, Card"
   ]
  },
  {
   "cell_type": "code",
   "execution_count": 3,
   "metadata": {},
   "outputs": [
    {
     "name": "stdout",
     "output_type": "stream",
     "text": [
      "Card(rank='7', suit='diamonds')\n"
     ]
    }
   ],
   "source": [
    "beer_card = Card('7', 'diamonds')\n",
    "print(beer_card)"
   ]
  },
  {
   "cell_type": "code",
   "execution_count": 5,
   "metadata": {},
   "outputs": [
    {
     "data": {
      "text/plain": [
       "52"
      ]
     },
     "execution_count": 5,
     "metadata": {},
     "output_type": "execute_result"
    }
   ],
   "source": [
    "deck = FrenchDeck()\n",
    "len(deck)"
   ]
  },
  {
   "cell_type": "code",
   "execution_count": 6,
   "metadata": {},
   "outputs": [
    {
     "data": {
      "text/plain": [
       "[Card(rank='2', suit='spaced'),\n",
       " Card(rank='3', suit='spaced'),\n",
       " Card(rank='4', suit='spaced')]"
      ]
     },
     "execution_count": 6,
     "metadata": {},
     "output_type": "execute_result"
    }
   ],
   "source": [
    "deck[:3]"
   ]
  },
  {
   "cell_type": "code",
   "execution_count": 7,
   "metadata": {},
   "outputs": [
    {
     "data": {
      "text/plain": [
       "[Card(rank='A', suit='spaced'),\n",
       " Card(rank='A', suit='diamonds'),\n",
       " Card(rank='A', suit='clubs'),\n",
       " Card(rank='A', suit='hearts')]"
      ]
     },
     "execution_count": 7,
     "metadata": {},
     "output_type": "execute_result"
    }
   ],
   "source": [
    "deck[12::13]"
   ]
  },
  {
   "cell_type": "code",
   "execution_count": 8,
   "metadata": {},
   "outputs": [
    {
     "data": {
      "text/plain": [
       "True"
      ]
     },
     "execution_count": 8,
     "metadata": {},
     "output_type": "execute_result"
    }
   ],
   "source": [
    "Card('Q', 'hearts') in deck"
   ]
  },
  {
   "cell_type": "code",
   "execution_count": 9,
   "metadata": {},
   "outputs": [
    {
     "data": {
      "text/plain": [
       "False"
      ]
     },
     "execution_count": 9,
     "metadata": {},
     "output_type": "execute_result"
    }
   ],
   "source": [
    "Card('Z', 'clubs') in deck"
   ]
  },
  {
   "cell_type": "code",
   "execution_count": 10,
   "metadata": {},
   "outputs": [
    {
     "name": "stdout",
     "output_type": "stream",
     "text": [
      "Card(rank='2', suit='spaced')\n",
      "Card(rank='3', suit='spaced')\n",
      "Card(rank='4', suit='spaced')\n",
      "Card(rank='5', suit='spaced')\n",
      "Card(rank='6', suit='spaced')\n",
      "Card(rank='7', suit='spaced')\n",
      "Card(rank='8', suit='spaced')\n",
      "Card(rank='9', suit='spaced')\n",
      "Card(rank='10', suit='spaced')\n",
      "Card(rank='J', suit='spaced')\n",
      "Card(rank='Q', suit='spaced')\n",
      "Card(rank='K', suit='spaced')\n",
      "Card(rank='A', suit='spaced')\n",
      "Card(rank='2', suit='diamonds')\n",
      "Card(rank='3', suit='diamonds')\n",
      "Card(rank='4', suit='diamonds')\n",
      "Card(rank='5', suit='diamonds')\n",
      "Card(rank='6', suit='diamonds')\n",
      "Card(rank='7', suit='diamonds')\n",
      "Card(rank='8', suit='diamonds')\n",
      "Card(rank='9', suit='diamonds')\n",
      "Card(rank='10', suit='diamonds')\n",
      "Card(rank='J', suit='diamonds')\n",
      "Card(rank='Q', suit='diamonds')\n",
      "Card(rank='K', suit='diamonds')\n",
      "Card(rank='A', suit='diamonds')\n",
      "Card(rank='2', suit='clubs')\n",
      "Card(rank='3', suit='clubs')\n",
      "Card(rank='4', suit='clubs')\n",
      "Card(rank='5', suit='clubs')\n",
      "Card(rank='6', suit='clubs')\n",
      "Card(rank='7', suit='clubs')\n",
      "Card(rank='8', suit='clubs')\n",
      "Card(rank='9', suit='clubs')\n",
      "Card(rank='10', suit='clubs')\n",
      "Card(rank='J', suit='clubs')\n",
      "Card(rank='Q', suit='clubs')\n",
      "Card(rank='K', suit='clubs')\n",
      "Card(rank='A', suit='clubs')\n",
      "Card(rank='2', suit='hearts')\n",
      "Card(rank='3', suit='hearts')\n",
      "Card(rank='4', suit='hearts')\n",
      "Card(rank='5', suit='hearts')\n",
      "Card(rank='6', suit='hearts')\n",
      "Card(rank='7', suit='hearts')\n",
      "Card(rank='8', suit='hearts')\n",
      "Card(rank='9', suit='hearts')\n",
      "Card(rank='10', suit='hearts')\n",
      "Card(rank='J', suit='hearts')\n",
      "Card(rank='Q', suit='hearts')\n",
      "Card(rank='K', suit='hearts')\n",
      "Card(rank='A', suit='hearts')\n"
     ]
    }
   ],
   "source": [
    "for card in deck:\n",
    "    print(card)"
   ]
  },
  {
   "cell_type": "code",
   "execution_count": 11,
   "metadata": {},
   "outputs": [
    {
     "name": "stdout",
     "output_type": "stream",
     "text": [
      "Card(rank='A', suit='hearts')\n",
      "Card(rank='K', suit='hearts')\n",
      "Card(rank='Q', suit='hearts')\n",
      "Card(rank='J', suit='hearts')\n",
      "Card(rank='10', suit='hearts')\n",
      "Card(rank='9', suit='hearts')\n",
      "Card(rank='8', suit='hearts')\n",
      "Card(rank='7', suit='hearts')\n",
      "Card(rank='6', suit='hearts')\n",
      "Card(rank='5', suit='hearts')\n",
      "Card(rank='4', suit='hearts')\n",
      "Card(rank='3', suit='hearts')\n",
      "Card(rank='2', suit='hearts')\n",
      "Card(rank='A', suit='clubs')\n",
      "Card(rank='K', suit='clubs')\n",
      "Card(rank='Q', suit='clubs')\n",
      "Card(rank='J', suit='clubs')\n",
      "Card(rank='10', suit='clubs')\n",
      "Card(rank='9', suit='clubs')\n",
      "Card(rank='8', suit='clubs')\n",
      "Card(rank='7', suit='clubs')\n",
      "Card(rank='6', suit='clubs')\n",
      "Card(rank='5', suit='clubs')\n",
      "Card(rank='4', suit='clubs')\n",
      "Card(rank='3', suit='clubs')\n",
      "Card(rank='2', suit='clubs')\n",
      "Card(rank='A', suit='diamonds')\n",
      "Card(rank='K', suit='diamonds')\n",
      "Card(rank='Q', suit='diamonds')\n",
      "Card(rank='J', suit='diamonds')\n",
      "Card(rank='10', suit='diamonds')\n",
      "Card(rank='9', suit='diamonds')\n",
      "Card(rank='8', suit='diamonds')\n",
      "Card(rank='7', suit='diamonds')\n",
      "Card(rank='6', suit='diamonds')\n",
      "Card(rank='5', suit='diamonds')\n",
      "Card(rank='4', suit='diamonds')\n",
      "Card(rank='3', suit='diamonds')\n",
      "Card(rank='2', suit='diamonds')\n",
      "Card(rank='A', suit='spaced')\n",
      "Card(rank='K', suit='spaced')\n",
      "Card(rank='Q', suit='spaced')\n",
      "Card(rank='J', suit='spaced')\n",
      "Card(rank='10', suit='spaced')\n",
      "Card(rank='9', suit='spaced')\n",
      "Card(rank='8', suit='spaced')\n",
      "Card(rank='7', suit='spaced')\n",
      "Card(rank='6', suit='spaced')\n",
      "Card(rank='5', suit='spaced')\n",
      "Card(rank='4', suit='spaced')\n",
      "Card(rank='3', suit='spaced')\n",
      "Card(rank='2', suit='spaced')\n"
     ]
    }
   ],
   "source": [
    "for card in reversed(deck):\n",
    "    print(card)"
   ]
  },
  {
   "cell_type": "code",
   "execution_count": 12,
   "metadata": {},
   "outputs": [
    {
     "name": "stdout",
     "output_type": "stream",
     "text": [
      "1 Card(rank='2', suit='spaced')\n",
      "2 Card(rank='3', suit='spaced')\n",
      "3 Card(rank='4', suit='spaced')\n",
      "4 Card(rank='5', suit='spaced')\n",
      "5 Card(rank='6', suit='spaced')\n",
      "6 Card(rank='7', suit='spaced')\n",
      "7 Card(rank='8', suit='spaced')\n",
      "8 Card(rank='9', suit='spaced')\n",
      "9 Card(rank='10', suit='spaced')\n",
      "10 Card(rank='J', suit='spaced')\n",
      "11 Card(rank='Q', suit='spaced')\n",
      "12 Card(rank='K', suit='spaced')\n",
      "13 Card(rank='A', suit='spaced')\n",
      "14 Card(rank='2', suit='diamonds')\n",
      "15 Card(rank='3', suit='diamonds')\n",
      "16 Card(rank='4', suit='diamonds')\n",
      "17 Card(rank='5', suit='diamonds')\n",
      "18 Card(rank='6', suit='diamonds')\n",
      "19 Card(rank='7', suit='diamonds')\n",
      "20 Card(rank='8', suit='diamonds')\n",
      "21 Card(rank='9', suit='diamonds')\n",
      "22 Card(rank='10', suit='diamonds')\n",
      "23 Card(rank='J', suit='diamonds')\n",
      "24 Card(rank='Q', suit='diamonds')\n",
      "25 Card(rank='K', suit='diamonds')\n",
      "26 Card(rank='A', suit='diamonds')\n",
      "27 Card(rank='2', suit='clubs')\n",
      "28 Card(rank='3', suit='clubs')\n",
      "29 Card(rank='4', suit='clubs')\n",
      "30 Card(rank='5', suit='clubs')\n",
      "31 Card(rank='6', suit='clubs')\n",
      "32 Card(rank='7', suit='clubs')\n",
      "33 Card(rank='8', suit='clubs')\n",
      "34 Card(rank='9', suit='clubs')\n",
      "35 Card(rank='10', suit='clubs')\n",
      "36 Card(rank='J', suit='clubs')\n",
      "37 Card(rank='Q', suit='clubs')\n",
      "38 Card(rank='K', suit='clubs')\n",
      "39 Card(rank='A', suit='clubs')\n",
      "40 Card(rank='2', suit='hearts')\n",
      "41 Card(rank='3', suit='hearts')\n",
      "42 Card(rank='4', suit='hearts')\n",
      "43 Card(rank='5', suit='hearts')\n",
      "44 Card(rank='6', suit='hearts')\n",
      "45 Card(rank='7', suit='hearts')\n",
      "46 Card(rank='8', suit='hearts')\n",
      "47 Card(rank='9', suit='hearts')\n",
      "48 Card(rank='10', suit='hearts')\n",
      "49 Card(rank='J', suit='hearts')\n",
      "50 Card(rank='Q', suit='hearts')\n",
      "51 Card(rank='K', suit='hearts')\n",
      "52 Card(rank='A', suit='hearts')\n"
     ]
    }
   ],
   "source": [
    "for n, card in enumerate(deck, 1):\n",
    "    print(n, card)"
   ]
  },
  {
   "cell_type": "code",
   "execution_count": 13,
   "metadata": {},
   "outputs": [],
   "source": [
    "suit_values = dict(spades = 3, hearts = 2, diamonds = 1, clubs = 0)\n",
    "\n",
    "def spades_high(card):\n",
    "    rank_value = FrenchDeck.ranks.index(card.rank)\n",
    "    return rank_value * len(suit_values) + suit_values[card.suit]"
   ]
  },
  {
   "cell_type": "code",
   "execution_count": 18,
   "metadata": {},
   "outputs": [
    {
     "data": {
      "text/plain": [
       "0"
      ]
     },
     "execution_count": 18,
     "metadata": {},
     "output_type": "execute_result"
    }
   ],
   "source": [
    "spades_high(Card('2', 'clubs'))"
   ]
  },
  {
   "cell_type": "code",
   "execution_count": 16,
   "metadata": {},
   "outputs": [
    {
     "data": {
      "text/plain": [
       "51"
      ]
     },
     "execution_count": 16,
     "metadata": {},
     "output_type": "execute_result"
    }
   ],
   "source": [
    "spades_high(Card('A', 'spades'))"
   ]
  },
  {
   "cell_type": "code",
   "execution_count": 19,
   "metadata": {},
   "outputs": [
    {
     "ename": "KeyError",
     "evalue": "'spaced'",
     "output_type": "error",
     "traceback": [
      "\u001b[1;31m---------------------------------------------------------------------------\u001b[0m",
      "\u001b[1;31mKeyError\u001b[0m                                  Traceback (most recent call last)",
      "Cell \u001b[1;32mIn [19], line 1\u001b[0m\n\u001b[1;32m----> 1\u001b[0m \u001b[39mfor\u001b[39;00m card \u001b[39min\u001b[39;00m \u001b[39msorted\u001b[39;49m(deck, key \u001b[39m=\u001b[39;49m spades_high):\n\u001b[0;32m      2\u001b[0m     \u001b[39mprint\u001b[39m(card)\n",
      "Cell \u001b[1;32mIn [13], line 5\u001b[0m, in \u001b[0;36mspades_high\u001b[1;34m(card)\u001b[0m\n\u001b[0;32m      3\u001b[0m \u001b[39mdef\u001b[39;00m \u001b[39mspades_high\u001b[39m(card):\n\u001b[0;32m      4\u001b[0m     rank_value \u001b[39m=\u001b[39m FrenchDeck\u001b[39m.\u001b[39mranks\u001b[39m.\u001b[39mindex(card\u001b[39m.\u001b[39mrank)\n\u001b[1;32m----> 5\u001b[0m     \u001b[39mreturn\u001b[39;00m rank_value \u001b[39m*\u001b[39m \u001b[39mlen\u001b[39m(suit_values) \u001b[39m+\u001b[39m suit_values[card\u001b[39m.\u001b[39;49msuit]\n",
      "\u001b[1;31mKeyError\u001b[0m: 'spaced'"
     ]
    }
   ],
   "source": [
    "for card in sorted(deck, key = spades_high):\n",
    "    print(card)"
   ]
  },
  {
   "cell_type": "code",
   "execution_count": null,
   "metadata": {},
   "outputs": [],
   "source": []
  }
 ],
 "metadata": {
  "kernelspec": {
   "display_name": "Python 3.11.0 64-bit",
   "language": "python",
   "name": "python3"
  },
  "language_info": {
   "codemirror_mode": {
    "name": "ipython",
    "version": 3
   },
   "file_extension": ".py",
   "mimetype": "text/x-python",
   "name": "python",
   "nbconvert_exporter": "python",
   "pygments_lexer": "ipython3",
   "version": "3.11.0"
  },
  "orig_nbformat": 4,
  "vscode": {
   "interpreter": {
    "hash": "2d3806c16ef20be5697e4e7ff56f93892ebf8fd36e80081f977d5f918214dbcf"
   }
  }
 },
 "nbformat": 4,
 "nbformat_minor": 2
}
