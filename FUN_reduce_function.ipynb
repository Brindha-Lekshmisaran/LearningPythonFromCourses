{
  "nbformat": 4,
  "nbformat_minor": 0,
  "metadata": {
    "colab": {
      "name": "Python_reduce_function.ipynb",
      "provenance": [],
      "collapsed_sections": [],
      "authorship_tag": "ABX9TyOXpEuIg61nc0m6LP5IFHki",
      "include_colab_link": true
    },
    "kernelspec": {
      "name": "python3",
      "display_name": "Python 3"
    }
  },
  "cells": [
    {
      "cell_type": "markdown",
      "metadata": {
        "id": "view-in-github",
        "colab_type": "text"
      },
      "source": [
        "<a href=\"https://colab.research.google.com/github/DataSciLearner/PythonPractice/blob/master/Python_reduce_function.ipynb\" target=\"_parent\"><img src=\"https://colab.research.google.com/assets/colab-badge.svg\" alt=\"Open In Colab\"/></a>"
      ]
    },
    {
      "cell_type": "markdown",
      "metadata": {
        "id": "ocQGxlUsY4y7",
        "colab_type": "text"
      },
      "source": [
        "## Bibliography\n",
        "https://www.geeksforgeeks.org/reduce-in-python/"
      ]
    },
    {
      "cell_type": "markdown",
      "metadata": {
        "id": "t1zOh1QGZfsq",
        "colab_type": "text"
      },
      "source": [
        "reduce(fun,seq)"
      ]
    },
    {
      "cell_type": "markdown",
      "metadata": {
        "id": "x-czeNA6ZQgS",
        "colab_type": "text"
      },
      "source": [
        "## Compute sum of a list"
      ]
    },
    {
      "cell_type": "code",
      "metadata": {
        "id": "Zn0wX7tfY0Al",
        "colab_type": "code",
        "colab": {
          "base_uri": "https://localhost:8080/",
          "height": 34
        },
        "outputId": "45708612-ffd7-4855-ce11-0622f3697b89"
      },
      "source": [
        "import functools\n",
        "lis  = [1,3,5,7,4,3]\n",
        "print(functools.reduce(lambda a,b: a + b, lis))"
      ],
      "execution_count": 4,
      "outputs": [
        {
          "output_type": "stream",
          "text": [
            "23\n"
          ],
          "name": "stdout"
        }
      ]
    },
    {
      "cell_type": "code",
      "metadata": {
        "id": "1eMZe40JaI8L",
        "colab_type": "code",
        "colab": {
          "base_uri": "https://localhost:8080/",
          "height": 34
        },
        "outputId": "8aac6349-a4c2-44cd-a64b-586b5049be13"
      },
      "source": [
        "# Using operator functions\n",
        "import operator\n",
        "print(functools.reduce(operator.add, lis))"
      ],
      "execution_count": 7,
      "outputs": [
        {
          "output_type": "stream",
          "text": [
            "23\n"
          ],
          "name": "stdout"
        }
      ]
    },
    {
      "cell_type": "markdown",
      "metadata": {
        "id": "eP8lZJE6Zj1F",
        "colab_type": "text"
      },
      "source": [
        "## Compute maxium element from a list"
      ]
    },
    {
      "cell_type": "code",
      "metadata": {
        "id": "BVNw1uLjZiKX",
        "colab_type": "code",
        "colab": {
          "base_uri": "https://localhost:8080/",
          "height": 34
        },
        "outputId": "31113307-33a7-4a24-8774-5f973183d895"
      },
      "source": [
        "import functools\n",
        "lis = [1,3,5,6,3,5,7,8,4,2,15]\n",
        "print(functools.reduce(lambda a,b: a if a>b else b, lis))"
      ],
      "execution_count": 3,
      "outputs": [
        {
          "output_type": "stream",
          "text": [
            "15\n"
          ],
          "name": "stdout"
        }
      ]
    },
    {
      "cell_type": "markdown",
      "metadata": {
        "id": "EQqvZPw_Z0b-",
        "colab_type": "text"
      },
      "source": [
        "Working : \n",
        "\n",
        "1. At first step, first two elements of sequence are picked and the result is obtained.\n",
        "2. Next step is to apply the same function to the previously attained result and the number just succeeding the second element and the result is again stored.\n",
        "3. This process continues till no more elements are left in the container.\n",
        "4. The final returned result is returned and printed on console."
      ]
    },
    {
      "cell_type": "markdown",
      "metadata": {
        "id": "4WH2I0d5aF-d",
        "colab_type": "text"
      },
      "source": [
        "## Concatenate string"
      ]
    },
    {
      "cell_type": "code",
      "metadata": {
        "id": "n22iXYb5ZwXP",
        "colab_type": "code",
        "colab": {
          "base_uri": "https://localhost:8080/",
          "height": 34
        },
        "outputId": "4e3b15f2-2f53-49de-89e5-8d9f7a413ae1"
      },
      "source": [
        "import operator\n",
        "import functools\n",
        "\n",
        "lis = [\"apples\", \"oranges\", \"apricot\"]\n",
        "print(functools.reduce(operator.add, lis))"
      ],
      "execution_count": 8,
      "outputs": [
        {
          "output_type": "stream",
          "text": [
            "applesorangesapricot\n"
          ],
          "name": "stdout"
        }
      ]
    },
    {
      "cell_type": "markdown",
      "metadata": {
        "id": "c39ggVUxbJf7",
        "colab_type": "text"
      },
      "source": [
        "## Find the Number Occurring Odd Number of Times"
      ]
    },
    {
      "cell_type": "code",
      "metadata": {
        "id": "zKOiQdBAaimW",
        "colab_type": "code",
        "colab": {
          "base_uri": "https://localhost:8080/",
          "height": 34
        },
        "outputId": "70692fab-d557-42be-9897-5e4cf552fe00"
      },
      "source": [
        "from functools import reduce\n",
        "\n",
        "def oddTimes(input):\n",
        "  print(reduce(lambda a, b: a ^ b, input))\n",
        "\n",
        "#Driver program\n",
        "if __name__ == \"__main__\":\n",
        "  input = [1,2,3,2,3,1,3]\n",
        "  oddTimes(input)"
      ],
      "execution_count": 9,
      "outputs": [
        {
          "output_type": "stream",
          "text": [
            "3\n"
          ],
          "name": "stdout"
        }
      ]
    },
    {
      "cell_type": "code",
      "metadata": {
        "id": "PfQvStHVbhYu",
        "colab_type": "code",
        "colab": {
          "base_uri": "https://localhost:8080/",
          "height": 34
        },
        "outputId": "0bb645c6-1e47-473a-999e-7c837089409b"
      },
      "source": [
        "# Without reduce function\n",
        "\n",
        "# function to find the element occurring odd \n",
        "# number of times \n",
        "def getOddOccurrence(arr, arr_size): \n",
        "      \n",
        "    for i in range(0,arr_size): \n",
        "        count = 0\n",
        "        for j in range(0, arr_size): \n",
        "            if arr[i] == arr[j]: \n",
        "                count+=1\n",
        "              \n",
        "        if (count % 2 != 0): \n",
        "            return arr[i] \n",
        "          \n",
        "    return -1\n",
        "      \n",
        "      \n",
        "# driver code  \n",
        "arr = [1,2,3,2,3,1,3]\n",
        "n = len(arr) \n",
        "print(getOddOccurrence(arr, n)) \n"
      ],
      "execution_count": 10,
      "outputs": [
        {
          "output_type": "stream",
          "text": [
            "3\n"
          ],
          "name": "stdout"
        }
      ]
    },
    {
      "cell_type": "code",
      "metadata": {
        "id": "KKisrSEZcIob",
        "colab_type": "code",
        "colab": {
          "base_uri": "https://localhost:8080/",
          "height": 34
        },
        "outputId": "5f2cf886-1273-4577-e301-9346f55ee504"
      },
      "source": [
        "# Without using reduce, but using hash\n",
        "\n",
        "def getOddOccurrence(arr,size): \n",
        "       \n",
        "    # Defining HashMap in C++ \n",
        "    Hash=dict() \n",
        "   \n",
        "    # Putting all elements into the HashMap  \n",
        "    for i in range(size): \n",
        "        Hash[arr[i]]=Hash.get(arr[i],0) + 1; \n",
        "      \n",
        "    # Iterate through HashMap to check an element \n",
        "    # occurring odd number of times and return it \n",
        "    for i in Hash: \n",
        "  \n",
        "        if(Hash[i]% 2 != 0): \n",
        "            return i \n",
        "    return -1\n",
        "  \n",
        "   \n",
        "# Driver code \n",
        "arr=[1,2,3,2,3,1,3]\n",
        "n = len(arr) \n",
        "   \n",
        "# Function calling  \n",
        "print(getOddOccurrence(arr, n)) "
      ],
      "execution_count": 11,
      "outputs": [
        {
          "output_type": "stream",
          "text": [
            "3\n"
          ],
          "name": "stdout"
        }
      ]
    },
    {
      "cell_type": "code",
      "metadata": {
        "id": "ICODqbpAcVcK",
        "colab_type": "code",
        "colab": {
          "base_uri": "https://localhost:8080/",
          "height": 34
        },
        "outputId": "62bb933e-45ad-4dee-bf50-7c5e585fc1cd"
      },
      "source": [
        "# Using bitwise XOR\n",
        "\n",
        "def getOddOccurrence(arr): \n",
        "  \n",
        "    # Initialize result \n",
        "    res = 0\n",
        "      \n",
        "    # Traverse the array \n",
        "    for element in arr: \n",
        "        # XOR with the result \n",
        "        res = res ^ element \n",
        "  \n",
        "    return res \n",
        "\n",
        "\n",
        "# Driver code \n",
        "arr=[1,2,3,2,3,1,3]\n",
        "   \n",
        "# Function calling  \n",
        "print(getOddOccurrence(arr)) "
      ],
      "execution_count": 12,
      "outputs": [
        {
          "output_type": "stream",
          "text": [
            "3\n"
          ],
          "name": "stdout"
        }
      ]
    },
    {
      "cell_type": "markdown",
      "metadata": {
        "id": "jOlf0bHZk5kT",
        "colab_type": "text"
      },
      "source": [
        ""
      ]
    },
    {
      "cell_type": "code",
      "metadata": {
        "id": "gUxs8xKScjlS",
        "colab_type": "code",
        "colab": {}
      },
      "source": [
        ""
      ],
      "execution_count": 0,
      "outputs": []
    }
  ]
}