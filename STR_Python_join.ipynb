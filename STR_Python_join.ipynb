{
  "nbformat": 4,
  "nbformat_minor": 0,
  "metadata": {
    "colab": {
      "name": "Python-join.ipynb",
      "provenance": [],
      "collapsed_sections": [],
      "authorship_tag": "ABX9TyOvAyrzGHAK7p3k/91YiTDG",
      "include_colab_link": true
    },
    "kernelspec": {
      "name": "python3",
      "display_name": "Python 3"
    }
  },
  "cells": [
    {
      "cell_type": "markdown",
      "metadata": {
        "id": "view-in-github",
        "colab_type": "text"
      },
      "source": [
        "<a href=\"https://colab.research.google.com/github/DataSciLearner/PythonPractice/blob/master/Python_join.ipynb\" target=\"_parent\"><img src=\"https://colab.research.google.com/assets/colab-badge.svg\" alt=\"Open In Colab\"/></a>"
      ]
    },
    {
      "cell_type": "markdown",
      "metadata": {
        "id": "m-db8pOxWLCw",
        "colab_type": "text"
      },
      "source": [
        "## Join all items in a dictionary into a string, using a the word \"TEST\" as separator:"
      ]
    },
    {
      "cell_type": "code",
      "metadata": {
        "id": "63iekVVUV4L9",
        "colab_type": "code",
        "colab": {
          "base_uri": "https://localhost:8080/",
          "height": 35
        },
        "outputId": "0e8f80a7-ae4f-4aee-dae6-7244f3e29991"
      },
      "source": [
        "myDict = {\"name\": \"John\", \"country\": \"Norway\"}\n",
        "mySeparator = \"TEST\"\n",
        "\n",
        "x = mySeparator.join(myDict)\n",
        "\n",
        "print(x)"
      ],
      "execution_count": 1,
      "outputs": [
        {
          "output_type": "stream",
          "text": [
            "nameTESTcountry\n"
          ],
          "name": "stdout"
        }
      ]
    },
    {
      "cell_type": "markdown",
      "metadata": {
        "id": "MNfM9JDRWWn9",
        "colab_type": "text"
      },
      "source": [
        "Note: When using a dictionary as an iterable, the returned values are the keys, not the values."
      ]
    },
    {
      "cell_type": "markdown",
      "metadata": {
        "id": "vegOipI_WhDm",
        "colab_type": "text"
      },
      "source": [
        "## Join items in a list with seperator"
      ]
    },
    {
      "cell_type": "code",
      "metadata": {
        "id": "0xfroA-xWHFH",
        "colab_type": "code",
        "colab": {
          "base_uri": "https://localhost:8080/",
          "height": 35
        },
        "outputId": "353d6738-d151-485c-f8e8-97d3b5f2aaca"
      },
      "source": [
        "list1 = ['1', '2', '3', '4']\n",
        "s = \"-\"\n",
        "print(s.join(list1))"
      ],
      "execution_count": 2,
      "outputs": [
        {
          "output_type": "stream",
          "text": [
            "1-2-3-4\n"
          ],
          "name": "stdout"
        }
      ]
    },
    {
      "cell_type": "code",
      "metadata": {
        "id": "fOQqCgaIWseE",
        "colab_type": "code",
        "colab": {
          "base_uri": "https://localhost:8080/",
          "height": 35
        },
        "outputId": "668f1f41-e2cc-4bca-898b-f9db73936ffe"
      },
      "source": [
        "#join with empty character\n",
        "print(\"\".join(list1))"
      ],
      "execution_count": 3,
      "outputs": [
        {
          "output_type": "stream",
          "text": [
            "1234\n"
          ],
          "name": "stdout"
        }
      ]
    },
    {
      "cell_type": "markdown",
      "metadata": {
        "id": "dZhggrAAW9Qf",
        "colab_type": "text"
      },
      "source": [
        "## os.path.join method"
      ]
    },
    {
      "cell_type": "code",
      "metadata": {
        "id": "9RJZV46fWz1f",
        "colab_type": "code",
        "colab": {
          "base_uri": "https://localhost:8080/",
          "height": 35
        },
        "outputId": "30229ec1-144f-414c-dc48-853dda149b78"
      },
      "source": [
        "import os\n",
        "path = \"/home\"\n",
        "print(os.path.join(path, \"User/Desktop\", \"file.txt\"))"
      ],
      "execution_count": 4,
      "outputs": [
        {
          "output_type": "stream",
          "text": [
            "/home/User/Desktop/file.txt\n"
          ],
          "name": "stdout"
        }
      ]
    },
    {
      "cell_type": "code",
      "metadata": {
        "id": "YfylaeFvXKHV",
        "colab_type": "code",
        "colab": {}
      },
      "source": [
        ""
      ],
      "execution_count": 0,
      "outputs": []
    }
  ]
}