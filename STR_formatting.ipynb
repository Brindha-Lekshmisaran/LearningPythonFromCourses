{
 "cells": [
  {
   "cell_type": "markdown",
   "metadata": {},
   "source": [
    "### Simple formatting using %"
   ]
  },
  {
   "cell_type": "code",
   "execution_count": 1,
   "metadata": {},
   "outputs": [
    {
     "data": {
      "text/plain": [
       "'Hi Rick'"
      ]
     },
     "execution_count": 1,
     "metadata": {},
     "output_type": "execute_result"
    }
   ],
   "source": [
    "# Simple formatting using %\n",
    "name = \"Rick\"\n",
    "'Hi %s' % name"
   ]
  },
  {
   "cell_type": "markdown",
   "metadata": {},
   "source": [
    "### Simple formatting using str.format"
   ]
  },
  {
   "cell_type": "code",
   "execution_count": 2,
   "metadata": {},
   "outputs": [
    {
     "data": {
      "text/plain": [
       "'Hi Rick'"
      ]
     },
     "execution_count": 2,
     "metadata": {},
     "output_type": "execute_result"
    }
   ],
   "source": [
    "# Simple formatting using str.format\n",
    "name = \"Rick\"\n",
    "'Hi {}'.format(name)"
   ]
  },
  {
   "cell_type": "markdown",
   "metadata": {},
   "source": [
    "### Formatting a floating point number"
   ]
  },
  {
   "cell_type": "code",
   "execution_count": 4,
   "metadata": {},
   "outputs": [
    {
     "name": "stdout",
     "output_type": "stream",
     "text": [
      "0.33\n",
      "0.33\n"
     ]
    }
   ],
   "source": [
    "# formatting a floating point number\n",
    "value = 1/3\n",
    "print('%.2f' % value)\n",
    "print('{:.2f}'.format(value))"
   ]
  },
  {
   "cell_type": "markdown",
   "metadata": {},
   "source": [
    "### Formatting when using a variable multiple times"
   ]
  },
  {
   "cell_type": "code",
   "execution_count": 5,
   "metadata": {},
   "outputs": [
    {
     "data": {
      "text/plain": [
       "'Hi Rick, value:0.333. ByeRick'"
      ]
     },
     "execution_count": 5,
     "metadata": {},
     "output_type": "execute_result"
    }
   ],
   "source": [
    "# Formatting when using a variable multiple times\n",
    "name = \"Rick\"\n",
    "value = 1/3\n",
    "'Hi {0}, value:{1:.3f}. Bye{0}'.format(name, value)"
   ]
  },
  {
   "cell_type": "markdown",
   "metadata": {},
   "source": [
    "### Formatting using named variables"
   ]
  },
  {
   "cell_type": "code",
   "execution_count": 8,
   "metadata": {},
   "outputs": [
    {
     "name": "stdout",
     "output_type": "stream",
     "text": [
      "Hi Rick\n",
      "Hi Rick\n"
     ]
    }
   ],
   "source": [
    "# Formatting using named variables\n",
    "name = \"Rick\"\n",
    "print('Hi %(name)s' % dict(name = name))\n",
    "print('Hi {name}'.format(name = name))"
   ]
  },
  {
   "cell_type": "markdown",
   "metadata": {},
   "source": [
    "### Formatting using f-strings"
   ]
  },
  {
   "cell_type": "code",
   "execution_count": 1,
   "metadata": {},
   "outputs": [
    {
     "name": "stdout",
     "output_type": "stream",
     "text": [
      "Hi Rick\n"
     ]
    }
   ],
   "source": [
    "## Formatting using f-strings\n",
    "name = \"Rick\"\n",
    "print(f'Hi {name}')"
   ]
  },
  {
   "cell_type": "markdown",
   "metadata": {},
   "source": [
    "### Arbitrary expressions and f-strings"
   ]
  },
  {
   "cell_type": "code",
   "execution_count": 1,
   "metadata": {},
   "outputs": [
    {
     "name": "stdout",
     "output_type": "stream",
     "text": [
      "a: 123\n",
      "sum: 579\n"
     ]
    }
   ],
   "source": [
    "username = 'wolph'\n",
    "a = 123\n",
    "b = 456\n",
    "some_dict = dict(a=a, b=b)\n",
    "print(f'''a: {some_dict['a']}''')\n",
    "print(f'''sum: {some_dict['a'] + some_dict['b']}''')"
   ]
  },
  {
   "cell_type": "code",
   "execution_count": 2,
   "metadata": {},
   "outputs": [
    {
     "name": "stdout",
     "output_type": "stream",
     "text": [
      "if statement: 456\n"
     ]
    }
   ],
   "source": [
    "# f-string and inline if statement\n",
    "print(f'if statement: {a if a > b else b}')\n"
   ]
  },
  {
   "cell_type": "code",
   "execution_count": 3,
   "metadata": {},
   "outputs": [
    {
     "name": "stdout",
     "output_type": "stream",
     "text": [
      "min: 123\n",
      "Hi wolph. And in uppercase: WOLPH\n"
     ]
    }
   ],
   "source": [
    "# f-strings and function calls\n",
    "print(f'min: {min(a,b)}')\n",
    "print(f'Hi {username}. And in uppercase: {username.upper()}')"
   ]
  },
  {
   "cell_type": "code",
   "execution_count": 4,
   "metadata": {},
   "outputs": [
    {
     "name": "stdout",
     "output_type": "stream",
     "text": [
      "Squares: [0, 1, 4, 9, 16]\n"
     ]
    }
   ],
   "source": [
    "# f-strings and loops\n",
    "print(f'Squares: {[x ** 2 for x in range(5)]}')"
   ]
  },
  {
   "cell_type": "code",
   "execution_count": 5,
   "metadata": {},
   "outputs": [
    {
     "name": "stdout",
     "output_type": "stream",
     "text": [
      "My name is Fred, my age next year is 51, my anniversary is Saturday, October 12, 1991.\n"
     ]
    }
   ],
   "source": [
    "# f-strings and multiple expressions\n",
    "import datetime\n",
    "name = 'Fred'\n",
    "age = 50\n",
    "anniversary = datetime.date(1991, 10, 12)\n",
    "# print \"My name is {name}, my age next year is {age}, my anniversary is {day}, {mon} {date}, {year}.\"\n",
    "print(f'My name is {name}, my age next year is {age + 1}, my anniversary is {anniversary:%A, %B %d, %Y}.')\n"
   ]
  },
  {
   "cell_type": "code",
   "execution_count": null,
   "metadata": {},
   "outputs": [],
   "source": []
  }
 ],
 "metadata": {
  "kernelspec": {
   "display_name": "Python 3.10.2 64-bit",
   "language": "python",
   "name": "python3"
  },
  "language_info": {
   "codemirror_mode": {
    "name": "ipython",
    "version": 3
   },
   "file_extension": ".py",
   "mimetype": "text/x-python",
   "name": "python",
   "nbconvert_exporter": "python",
   "pygments_lexer": "ipython3",
   "version": "3.10.2"
  },
  "orig_nbformat": 4,
  "vscode": {
   "interpreter": {
    "hash": "09efc2dda3d7051b6c86259a0fb4c247e9e408a5b46a784c2f599b53144d4be5"
   }
  }
 },
 "nbformat": 4,
 "nbformat_minor": 2
}
