{
 "cells": [
  {
   "cell_type": "markdown",
   "metadata": {},
   "source": [
    "## Without assignment expression operation"
   ]
  },
  {
   "cell_type": "code",
   "execution_count": 2,
   "metadata": {},
   "outputs": [
    {
     "name": "stdout",
     "output_type": "stream",
     "text": [
      "['pistachio', 'malaga', 'vanilla', 'chocolate', 'strawberry']\n",
      "Sorry, 'mango' is not a valid option.\n",
      "You chose 'vanilla'.\n"
     ]
    }
   ],
   "source": [
    "flavours = [\"pistachio\", \"malaga\", \"vanilla\", \"chocolate\", \"strawberry\"]\n",
    "prompt = \"Choose your flavour: \"\n",
    "print(flavours)\n",
    "while True:\n",
    "    choice = input(prompt)\n",
    "    if choice in flavours:\n",
    "        break\n",
    "    print(f\"Sorry, '{choice}' is not a valid option.\")\n",
    "print(f\"You chose '{choice}'.\")"
   ]
  },
  {
   "cell_type": "markdown",
   "metadata": {},
   "source": [
    "## With assignment expression operation"
   ]
  },
  {
   "cell_type": "code",
   "execution_count": 5,
   "metadata": {},
   "outputs": [
    {
     "name": "stdout",
     "output_type": "stream",
     "text": [
      "['pistachio', 'malaga', 'vanilla', 'chocolate', 'strawberry']\n",
      "Sorry, 'mango' is not a valid option. \n",
      "You chose 'vanilla'. \n"
     ]
    }
   ],
   "source": [
    "flavors = [\"pistachio\", \"malaga\", \"vanilla\", \"chocolate\", \"strawberry\"]\n",
    "prompt = \"Choose your flavor: \"\n",
    "print(flavours)\n",
    "while (choice := input(prompt)) not in flavours:\n",
    "    print(f\"Sorry, '{choice}' is not a valid option. \")\n",
    "print(f\"You chose '{choice}'. \")"
   ]
  }
 ],
 "metadata": {
  "kernelspec": {
   "display_name": "Python 3",
   "language": "python",
   "name": "python3"
  },
  "language_info": {
   "codemirror_mode": {
    "name": "ipython",
    "version": 3
   },
   "file_extension": ".py",
   "mimetype": "text/x-python",
   "name": "python",
   "nbconvert_exporter": "python",
   "pygments_lexer": "ipython3",
   "version": "3.11.0"
  },
  "orig_nbformat": 4
 },
 "nbformat": 4,
 "nbformat_minor": 2
}
