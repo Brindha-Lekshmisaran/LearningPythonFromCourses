{
 "cells": [
  {
   "cell_type": "code",
   "execution_count": 2,
   "metadata": {},
   "outputs": [
    {
     "name": "stdout",
     "output_type": "stream",
     "text": [
      "10 -> [10]\n",
      " 0 -> [0, 10]\n",
      " 6 -> [0, 6, 10]\n",
      " 8 -> [0, 6, 8, 10]\n",
      " 7 -> [0, 6, 7, 8, 10]\n",
      " 2 -> [0, 2, 6, 7, 8, 10]\n",
      "10 -> [0, 2, 6, 7, 8, 10, 10]\n"
     ]
    }
   ],
   "source": [
    "# Generates random numbers and inserts them into a list in sorted order\n",
    "\n",
    "import bisect\n",
    "import random\n",
    "\n",
    "SIZE = 7\n",
    "\n",
    "random.seed(1729)\n",
    "\n",
    "my_list = []\n",
    "\n",
    "# This for loop generates random numbers and inserts them into a list in a sorted order\n",
    "\"\"\"\n",
    "The code snippet is doing the following:\n",
    "1. Create a new list, called my_list, and add the first item to it.\n",
    "2. Loop through the remaining items in the list.\n",
    "3. For each item, loop through the items in my_list.\n",
    "\"\"\"\n",
    "for i in range(SIZE):\n",
    "    # this returns an integer between 0 and size*2 \n",
    "    new_item = random.randrange(SIZE * 2)\n",
    "    # bisect.insort is a built-in function that inserts an item into a list in a sorted order.\n",
    "    # It uses the bisection algorithm to perform insertion in O(n) time.\n",
    "    bisect.insort(my_list, new_item)\n",
    "    # The value of new_item is formatted to be 2 digits wide.\n",
    "    print(f'{new_item:2d} -> {my_list}')"
   ]
  }
 ],
 "metadata": {
  "kernelspec": {
   "display_name": "Python 3.11.0 64-bit",
   "language": "python",
   "name": "python3"
  },
  "language_info": {
   "codemirror_mode": {
    "name": "ipython",
    "version": 3
   },
   "file_extension": ".py",
   "mimetype": "text/x-python",
   "name": "python",
   "nbconvert_exporter": "python",
   "pygments_lexer": "ipython3",
   "version": "3.11.0"
  },
  "orig_nbformat": 4,
  "vscode": {
   "interpreter": {
    "hash": "2d3806c16ef20be5697e4e7ff56f93892ebf8fd36e80081f977d5f918214dbcf"
   }
  }
 },
 "nbformat": 4,
 "nbformat_minor": 2
}
