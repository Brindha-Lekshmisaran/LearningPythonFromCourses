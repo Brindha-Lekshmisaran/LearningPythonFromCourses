{
 "cells": [
  {
   "cell_type": "code",
   "execution_count": 1,
   "metadata": {},
   "outputs": [],
   "source": [
    "names = ['Jerry', 'Kramer', 'Elaine', 'George', 'Newman']"
   ]
  },
  {
   "attachments": {},
   "cell_type": "markdown",
   "metadata": {},
   "source": [
    "To attach index to the person's arrival order at an event, you could use for loop. \n",
    "But enumerate is more efficient."
   ]
  },
  {
   "cell_type": "code",
   "execution_count": 3,
   "metadata": {},
   "outputs": [
    {
     "name": "stdout",
     "output_type": "stream",
     "text": [
      "[(0, 'Jerry'), (1, 'Kramer'), (2, 'Elaine'), (3, 'George'), (4, 'Newman')]\n"
     ]
    }
   ],
   "source": [
    "indexed_names = []\n",
    "for i in range(len(names)):\n",
    "    index_name = (i, names[i])\n",
    "    indexed_names.append(index_name)\n",
    "\n",
    "print(indexed_names)"
   ]
  },
  {
   "attachments": {},
   "cell_type": "markdown",
   "metadata": {},
   "source": [
    "For each element in the `names` list, create a tuple containing the index and the name itself.\n",
    "Append this tuple to the `indexed_names` list."
   ]
  },
  {
   "attachments": {},
   "cell_type": "markdown",
   "metadata": {},
   "source": [
    "Rewrite using markdown.\n",
    "Instead of using for i in range(len(names)), update the for loop to use i as the index variable and name as the \n",
    "iterator variable and use enumerate().\n"
   ]
  },
  {
   "cell_type": "code",
   "execution_count": 4,
   "metadata": {},
   "outputs": [
    {
     "name": "stdout",
     "output_type": "stream",
     "text": [
      "[(0, 'Jerry'), (1, 'Kramer'), (2, 'Elaine'), (3, 'George'), (4, 'Newman')]\n"
     ]
    }
   ],
   "source": [
    "indexed_names = []\n",
    "for i, name in enumerate(names):\n",
    "    index_name = (i, name)\n",
    "    indexed_names.append(index_name)\n",
    "\n",
    "print(indexed_names)"
   ]
  },
  {
   "attachments": {},
   "cell_type": "markdown",
   "metadata": {},
   "source": [
    "Rewrite the previous for loop using enumerate() and list comprehension to create a new list, indexed_names_comp."
   ]
  },
  {
   "cell_type": "code",
   "execution_count": 5,
   "metadata": {},
   "outputs": [
    {
     "name": "stdout",
     "output_type": "stream",
     "text": [
      "[(0, 'Jerry'), (1, 'Kramer'), (2, 'Elaine'), (3, 'George'), (4, 'Newman')]\n"
     ]
    }
   ],
   "source": [
    "indexed_names = [(i,name) for i, name in enumerate(names)]\n",
    "print(indexed_names)"
   ]
  },
  {
   "attachments": {},
   "cell_type": "markdown",
   "metadata": {},
   "source": [
    "Create another list (indexed_names_unpack) by using the star character (*) to unpack the enumerate object created from \n",
    "using enumerate() on names. This time, start the index for enumerate() at one instead of zero."
   ]
  },
  {
   "cell_type": "code",
   "execution_count": 9,
   "metadata": {},
   "outputs": [
    {
     "name": "stdout",
     "output_type": "stream",
     "text": [
      "[(1, 'Jerry'), (2, 'Kramer'), (3, 'Elaine'), (4, 'George'), (5, 'Newman')]\n"
     ]
    }
   ],
   "source": [
    "unpacked_names = [*enumerate(names, 1)]\n",
    "print(unpacked_names)"
   ]
  }
 ],
 "metadata": {
  "kernelspec": {
   "display_name": "Python 3",
   "language": "python",
   "name": "python3"
  },
  "language_info": {
   "codemirror_mode": {
    "name": "ipython",
    "version": 3
   },
   "file_extension": ".py",
   "mimetype": "text/x-python",
   "name": "python",
   "nbconvert_exporter": "python",
   "pygments_lexer": "ipython3",
   "version": "3.11.0"
  },
  "orig_nbformat": 4
 },
 "nbformat": 4,
 "nbformat_minor": 2
}
