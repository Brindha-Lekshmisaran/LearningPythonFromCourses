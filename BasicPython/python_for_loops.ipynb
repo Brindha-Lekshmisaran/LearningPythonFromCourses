{
  "cells": [
    {
      "cell_type": "markdown",
      "metadata": {
        "colab_type": "text",
        "id": "view-in-github"
      },
      "source": [
        "<a href=\"https://colab.research.google.com/github/DataSciLearner/PythonPractice/blob/master/python_for_loops.ipynb\" target=\"_parent\"><img src=\"https://colab.research.google.com/assets/colab-badge.svg\" alt=\"Open In Colab\"/></a>"
      ]
    },
    {
      "cell_type": "markdown",
      "metadata": {
        "colab_type": "text",
        "id": "Ve7ssZOB05sB"
      },
      "source": [
        "## Find all prime numbers in an interval\n",
        "https://medium.com/@GalarnykMichael/prime-numbers-using-python-824ff4b3ea19"
      ]
    },
    {
      "cell_type": "code",
      "execution_count": 15,
      "metadata": {
        "colab": {
          "base_uri": "https://localhost:8080/",
          "height": 35
        },
        "colab_type": "code",
        "id": "sv5QdwRf0vnh",
        "outputId": "7dcfa6c4-b4e2-4327-f878-373ca3939afc"
      },
      "outputs": [
        {
          "name": "stdout",
          "output_type": "stream",
          "text": [
            "[907, 911, 919, 929, 937, 941, 947, 953, 967, 971, 977, 983, 991, 997]\n"
          ]
        }
      ],
      "source": [
        "lower = 900\n",
        "upper = 1000\n",
        "\n",
        "primes = []\n",
        "for num in range(lower, upper + 1):\n",
        "  # all prime numbers greater than 1\n",
        "  if num > 1:\n",
        "    for i in range(2, num):\n",
        "      if(num %i) == 0:\n",
        "        break\n",
        "    else:\n",
        "      primes.append(num)\n",
        "\n",
        "print(primes)"
      ]
    },
    {
      "cell_type": "markdown",
      "metadata": {
        "colab_type": "text",
        "id": "lOGWpbi81023"
      },
      "source": [
        "### Code explanation\n",
        "1. The outer for loop iterates through all the numbers from 2 to n.\n",
        "\n",
        "2. The inner one iterates to all numbers from 2 to p. If it reaches a number that divides evenly into p, then it breaks out of the inner loop.\n",
        "\n",
        "3. The else block executes every time the for loop isn't broken out of "
      ]
    },
    {
      "cell_type": "markdown",
      "metadata": {
        "colab_type": "text",
        "id": "0h-NTYFmKRSC"
      },
      "source": [
        "To do with list comp, see this [colab](https://colab.research.google.com/drive/1_6QkvtEJ-2__81YwvBfXsweVAISpa5jU#scrollTo=DByuroSgv-Wo&line=2&uniqifier=1)."
      ]
    },
    {
      "cell_type": "markdown",
      "metadata": {
        "colab_type": "text",
        "id": "bCChR-X2u6cz"
      },
      "source": [
        "You can do a boolean to check if prime."
      ]
    },
    {
      "cell_type": "code",
      "execution_count": 26,
      "metadata": {
        "colab": {
          "base_uri": "https://localhost:8080/",
          "height": 35
        },
        "colab_type": "code",
        "id": "VHy0eY2gu-C5",
        "outputId": "e3c4e5b7-2381-4f48-c86c-6cdb3c72d12d"
      },
      "outputs": [
        {
          "name": "stdout",
          "output_type": "stream",
          "text": [
            "[907, 911, 919, 929, 937, 941, 947, 953, 967, 971, 977, 983, 991, 997]\n"
          ]
        }
      ],
      "source": [
        "lower = 900\n",
        "upper = 1000\n",
        "primes = []\n",
        "\n",
        "for num in range(lower, upper+1):\n",
        "  isPrime = True \n",
        "  for i in range(2, num):\n",
        "    if num % i == 0:\n",
        "      isPrime = False\n",
        "      break\n",
        "  if isPrime:\n",
        "    primes.append(num)\n",
        "\n",
        "print(primes)"
      ]
    },
    {
      "cell_type": "markdown",
      "metadata": {
        "colab_type": "text",
        "id": "5b8Yo6cmv79n"
      },
      "source": [
        " as soon isPrime is False, it is inefficient to keep on iterating. It would be more efficient to exit out of the loop."
      ]
    },
    {
      "cell_type": "markdown",
      "metadata": {
        "colab_type": "text",
        "id": "vr8BH5H12Fj9"
      },
      "source": [
        "Note: As a side note, you only need to iterate through 2 to the square root of p, since each factor has a pair. If you don't get a match there won't be any other factors after the square root, and the number will be prime."
      ]
    },
    {
      "cell_type": "code",
      "execution_count": 27,
      "metadata": {
        "colab": {
          "base_uri": "https://localhost:8080/",
          "height": 35
        },
        "colab_type": "code",
        "id": "dpHBc0Mj1bHx",
        "outputId": "12d690d7-2cdf-4dde-be65-68eaf993eaed"
      },
      "outputs": [
        {
          "name": "stdout",
          "output_type": "stream",
          "text": [
            "[907, 911, 919, 929, 937, 941, 947, 953, 967, 971, 977, 983, 991, 997]\n"
          ]
        }
      ],
      "source": [
        "lower = 900\n",
        "upper = 1000\n",
        "primes = []\n",
        "\n",
        "for num in range(lower, upper+1):\n",
        "  isPrime = True\n",
        "  for i in range(2, int(num ** 0.5) + 1):\n",
        "    if num % i == 0:\n",
        "      isPrime = False\n",
        "      break\n",
        "  if isPrime:\n",
        "    primes.append(num)\n",
        "\n",
        "print(primes)"
      ]
    },
    {
      "cell_type": "code",
      "execution_count": 25,
      "metadata": {
        "colab": {
          "base_uri": "https://localhost:8080/",
          "height": 35
        },
        "colab_type": "code",
        "id": "MtaDDDiczfo6",
        "outputId": "93e6cda9-f9eb-4292-f364-332a568fbed1"
      },
      "outputs": [
        {
          "name": "stdout",
          "output_type": "stream",
          "text": [
            "[2, 3, 5, 7, 11, 13, 17, 19]\n"
          ]
        }
      ],
      "source": []
    }
  ],
  "metadata": {
    "colab": {
      "authorship_tag": "ABX9TyOZubhG6xU5nHIVm8DXLRVd",
      "collapsed_sections": [],
      "include_colab_link": true,
      "name": "python-for-loops.ipynb",
      "provenance": []
    },
    "kernelspec": {
      "display_name": "Python 3.10.2 64-bit",
      "language": "python",
      "name": "python3"
    },
    "language_info": {
      "name": "python",
      "version": "3.10.2"
    },
    "vscode": {
      "interpreter": {
        "hash": "09efc2dda3d7051b6c86259a0fb4c247e9e408a5b46a784c2f599b53144d4be5"
      }
    }
  },
  "nbformat": 4,
  "nbformat_minor": 0
}
