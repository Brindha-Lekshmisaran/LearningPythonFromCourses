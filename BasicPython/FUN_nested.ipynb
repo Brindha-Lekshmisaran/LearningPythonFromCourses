{
 "cells": [
  {
   "cell_type": "code",
   "execution_count": 1,
   "metadata": {},
   "outputs": [
    {
     "name": "stdout",
     "output_type": "stream",
     "text": [
      "Hi,  quincy larson!\n"
     ]
    }
   ],
   "source": [
    "def greeting(first, last):\n",
    "    def getFullName():\n",
    "        return first + \" \" + last\n",
    "\n",
    "    print(\"Hi, \", getFullName() + \"!\")\n",
    "\n",
    "greeting('quincy', 'larson')"
   ]
  },
  {
   "cell_type": "markdown",
   "metadata": {},
   "source": [
    "As you can see, the nested getFullName function has access to the outer greeting function's parameters, first and last. "
   ]
  },
  {
   "cell_type": "code",
   "execution_count": 3,
   "metadata": {},
   "outputs": [],
   "source": [
    "# Data encapsulation\n",
    "def outer():\n",
    "    print(\"I'm outer function\")\n",
    "    def inner():\n",
    "        print(\"I'm inner function\")\n",
    "    inner()"
   ]
  },
  {
   "cell_type": "code",
   "execution_count": 4,
   "metadata": {},
   "outputs": [
    {
     "ename": "NameError",
     "evalue": "name 'inner' is not defined",
     "output_type": "error",
     "traceback": [
      "\u001b[1;31m---------------------------------------------------------------------------\u001b[0m",
      "\u001b[1;31mNameError\u001b[0m                                 Traceback (most recent call last)",
      "\u001b[1;32mc:\\Users\\brind\\Documents\\GitHub\\PythonPractice\\FUN_nested.ipynb Cell 4\u001b[0m in \u001b[0;36m1\n\u001b[1;32m----> <a href='vscode-notebook-cell:/c%3A/Users/brind/Documents/GitHub/PythonPractice/FUN_nested.ipynb#W3sZmlsZQ%3D%3D?line=0'>1</a>\u001b[0m inner()\n",
      "\u001b[1;31mNameError\u001b[0m: name 'inner' is not defined"
     ]
    }
   ],
   "source": [
    "inner()"
   ]
  },
  {
   "cell_type": "code",
   "execution_count": 5,
   "metadata": {},
   "outputs": [
    {
     "name": "stdout",
     "output_type": "stream",
     "text": [
      "I'm outer function\n",
      "I'm inner function\n"
     ]
    }
   ],
   "source": [
    "outer()"
   ]
  },
  {
   "cell_type": "code",
   "execution_count": 6,
   "metadata": {},
   "outputs": [
    {
     "name": "stdout",
     "output_type": "stream",
     "text": [
      "Hello, World\n"
     ]
    }
   ],
   "source": [
    "## Inner function can access variables from outer function.\n",
    "\n",
    "def outer(who):\n",
    "    def inner():\n",
    "        print(f\"Hello, {who}\")\n",
    "    inner()\n",
    "    \n",
    "outer(\"World\")"
   ]
  },
  {
   "cell_type": "markdown",
   "metadata": {},
   "source": [
    "pass a string as an argument to outer(), and inner() will access that argument through the name who. This name, however, is defined in the local scope of outer(). The names that you define in the local scope of an outer function are known as nonlocal names. They are nonlocal from the inner() point of view."
   ]
  },
  {
   "cell_type": "code",
   "execution_count": 7,
   "metadata": {},
   "outputs": [],
   "source": [
    "# Factorial\n",
    "def factorial(number):\n",
    "    # validating input\n",
    "    if not isinstance(number, int):\n",
    "        raise TypeError(\"Must be an integer\")\n",
    "    if number < 0:\n",
    "        raise ValueError(\"Must be zero or positive\")\n",
    "    # calculating the factorial\n",
    "    def inner_factorial(number):\n",
    "        if number <= 1:\n",
    "            return 1\n",
    "        return number * inner_factorial(number - 1)\n",
    "    return inner_factorial(number)"
   ]
  },
  {
   "cell_type": "code",
   "execution_count": 8,
   "metadata": {},
   "outputs": [
    {
     "data": {
      "text/plain": [
       "24"
      ]
     },
     "execution_count": 8,
     "metadata": {},
     "output_type": "execute_result"
    }
   ],
   "source": [
    "factorial(4)"
   ]
  },
  {
   "cell_type": "markdown",
   "metadata": {},
   "source": [
    "The main advantage of using this pattern is that, by performing all the argument checking in the outer function, you can safely skip error checking in the inner function and focus on the computation at hand."
   ]
  }
 ],
 "metadata": {
  "kernelspec": {
   "display_name": "Python 3",
   "language": "python",
   "name": "python3"
  },
  "language_info": {
   "codemirror_mode": {
    "name": "ipython",
    "version": 3
   },
   "file_extension": ".py",
   "mimetype": "text/x-python",
   "name": "python",
   "nbconvert_exporter": "python",
   "pygments_lexer": "ipython3",
   "version": "3.11.0"
  },
  "orig_nbformat": 4
 },
 "nbformat": 4,
 "nbformat_minor": 2
}
