{
 "cells": [
  {
   "cell_type": "markdown",
   "metadata": {},
   "source": [
    "## kwargs"
   ]
  },
  {
   "cell_type": "code",
   "execution_count": 1,
   "metadata": {},
   "outputs": [
    {
     "name": "stdout",
     "output_type": "stream",
     "text": [
      "a - 24\n",
      "b - 87\n",
      "c - 3\n",
      "d - 46\n"
     ]
    }
   ],
   "source": [
    "def myFunction(**kwargs):\n",
    "    for kw in kwargs:\n",
    "        print(kw, '-', kwargs[kw])\n",
    "    \n",
    "if __name__ == \"__main__\":\n",
    "    myFunction(a = 24, b = 87, c = 3, d = 46)"
   ]
  },
  {
   "cell_type": "markdown",
   "metadata": {},
   "source": [
    "Using the key value of the dictionary iterable of kwargs."
   ]
  },
  {
   "cell_type": "code",
   "execution_count": 4,
   "metadata": {},
   "outputs": [
    {
     "name": "stdout",
     "output_type": "stream",
     "text": [
      "a - 24\n",
      "b - 87\n",
      "c - 3\n",
      "d - 46\n"
     ]
    }
   ],
   "source": [
    "def myFunction(**kwargs):\n",
    "    for key, value in kwargs.items():\n",
    "        print(key, '-', value)\n",
    "\n",
    "if __name__ == \"__main__\":\n",
    "    myFunction(a  = 24, b = 87, c = 3, d = 46)"
   ]
  },
  {
   "cell_type": "markdown",
   "metadata": {},
   "source": [
    "A combination of both regular paramenters and variable keyword parameters"
   ]
  },
  {
   "cell_type": "code",
   "execution_count": 6,
   "metadata": {},
   "outputs": [
    {
     "name": "stdout",
     "output_type": "stream",
     "text": [
      "ABC\n",
      "MNO\n",
      "a - 24\n",
      "b - 87\n",
      "c - 3\n",
      "d - 46\n"
     ]
    }
   ],
   "source": [
    "def myFunction(x, y, **kwargs):\n",
    "    print(x)\n",
    "    print(y)\n",
    "    for key, value in kwargs.items():\n",
    "        print(key, \"-\", value)\n",
    "\n",
    "myFunction(\"ABC\", \"MNO\", a = 24, b = 87, c = 3, d = 46)"
   ]
  },
  {
   "cell_type": "markdown",
   "metadata": {},
   "source": [
    "## args : Variable Positional Arguments"
   ]
  },
  {
   "cell_type": "code",
   "execution_count": 9,
   "metadata": {},
   "outputs": [
    {
     "name": "stdout",
     "output_type": "stream",
     "text": [
      "10\n",
      "52\n"
     ]
    }
   ],
   "source": [
    "def addition(*args):\n",
    "    result = 0\n",
    "    for arg in args:\n",
    "        result += arg\n",
    "    return result\n",
    "\n",
    "print(addition(1, 2, 3, 4))\n",
    "print(addition(5, 6, 7, 8, 11, 15))\n"
   ]
  },
  {
   "cell_type": "markdown",
   "metadata": {},
   "source": [
    "A combination of regular parameters and variable positional arguments"
   ]
  },
  {
   "cell_type": "code",
   "execution_count": 10,
   "metadata": {},
   "outputs": [
    {
     "name": "stdout",
     "output_type": "stream",
     "text": [
      "9\n",
      "6720\n"
     ]
    }
   ],
   "source": [
    "def calculator(operation, *numbers):\n",
    "    if operation == \"add\":\n",
    "        result = 0\n",
    "        for num in numbers:\n",
    "            result += num\n",
    "        return result\n",
    "\n",
    "    if operation == \"product\":\n",
    "        result = 1\n",
    "        for num in numbers:\n",
    "            result *= num\n",
    "        return result\n",
    "\n",
    "print(calculator(\"add\", 2, 3, 4))\n",
    "print(calculator(\"product\", 4, 5,6,7, 8))"
   ]
  },
  {
   "cell_type": "markdown",
   "metadata": {},
   "source": [
    "## Combining *args and **kwargs"
   ]
  },
  {
   "cell_type": "code",
   "execution_count": 12,
   "metadata": {},
   "outputs": [
    {
     "name": "stdout",
     "output_type": "stream",
     "text": [
      "('hello', 'world')\n",
      "{'a': 2, 'b': 3, 'c': 4, 'd': 5}\n",
      "None\n"
     ]
    }
   ],
   "source": [
    "def myFunction(*args, **kwargs):\n",
    "    print(args)\n",
    "    print(kwargs)\n",
    "\n",
    "print(myFunction(\"hello\", \"world\", a = 2, b = 3, c = 4, d = 5))"
   ]
  },
  {
   "cell_type": "markdown",
   "metadata": {},
   "source": [
    "Note that the datatype of args is a tuple, and the datatype of kwargs is a dictionary."
   ]
  },
  {
   "cell_type": "code",
   "execution_count": null,
   "metadata": {},
   "outputs": [],
   "source": []
  }
 ],
 "metadata": {
  "interpreter": {
   "hash": "d688b627eadb31ff48a9147ba72a10b056553cb2a9fd8c7f8ddb500e616a3fb9"
  },
  "kernelspec": {
   "display_name": "Python 3.10.2 64-bit",
   "language": "python",
   "name": "python3"
  },
  "language_info": {
   "codemirror_mode": {
    "name": "ipython",
    "version": 3
   },
   "file_extension": ".py",
   "mimetype": "text/x-python",
   "name": "python",
   "nbconvert_exporter": "python",
   "pygments_lexer": "ipython3",
   "version": "3.10.2"
  },
  "orig_nbformat": 4
 },
 "nbformat": 4,
 "nbformat_minor": 2
}
