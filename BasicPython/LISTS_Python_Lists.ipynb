{
  "nbformat": 4,
  "nbformat_minor": 0,
  "metadata": {
    "colab": {
      "name": "Python - Lists.ipynb",
      "provenance": [],
      "collapsed_sections": [],
      "authorship_tag": "ABX9TyMQFjow0TTeP/LZPDM/omSx",
      "include_colab_link": true
    },
    "kernelspec": {
      "name": "python3",
      "display_name": "Python 3"
    }
  },
  "cells": [
    {
      "cell_type": "markdown",
      "metadata": {
        "id": "view-in-github",
        "colab_type": "text"
      },
      "source": [
        "<a href=\"https://colab.research.google.com/github/DataSciLearner/PythonPractice/blob/master/Python_Lists.ipynb\" target=\"_parent\"><img src=\"https://colab.research.google.com/assets/colab-badge.svg\" alt=\"Open In Colab\"/></a>"
      ]
    },
    {
      "cell_type": "markdown",
      "metadata": {
        "id": "2ArW6ryEPXIT",
        "colab_type": "text"
      },
      "source": [
        "# Bibliography\n",
        "\n",
        "https://www.coursera.org/learn/python-data/lecture/ss3cl/8-1-lists\n",
        "\n",
        "https://www.coursera.org/learn/python-data/lecture/IUkAn/8-2-manipulating-lists\n",
        "\n",
        "https://www.coursera.org/learn/python-data/lecture/ViAEF/8-3-lists-and-strings\n"
      ]
    },
    {
      "cell_type": "markdown",
      "metadata": {
        "id": "m5G-bqG4UJrz",
        "colab_type": "text"
      },
      "source": [
        "# What does the following codes print out?"
      ]
    },
    {
      "cell_type": "code",
      "metadata": {
        "id": "T1KR0AWlPLSR",
        "colab_type": "code",
        "colab": {}
      },
      "source": [
        "fruit = 'Banana'\n",
        "fruit[0] = 'b'\n",
        "print(fruit)"
      ],
      "execution_count": 0,
      "outputs": []
    },
    {
      "cell_type": "code",
      "metadata": {
        "id": "Z72KXn2cT10R",
        "colab_type": "code",
        "colab": {}
      },
      "source": [
        "list(range(5))"
      ],
      "execution_count": 0,
      "outputs": []
    },
    {
      "cell_type": "code",
      "metadata": {
        "id": "dAowelBwUAj7",
        "colab_type": "code",
        "colab": {}
      },
      "source": [
        "a = [1, 2, 3]\n",
        "b = [4, 5, 6]\n",
        "c = a + b\n",
        "print(len(c))"
      ],
      "execution_count": 0,
      "outputs": []
    },
    {
      "cell_type": "code",
      "metadata": {
        "id": "I_xDYFfYUHhH",
        "colab_type": "code",
        "colab": {}
      },
      "source": [
        "friends = [ 'Joseph', 'Glenn', 'Sally' ]\n",
        "friends.sort()\n",
        "print(friends[0])"
      ],
      "execution_count": 0,
      "outputs": []
    },
    {
      "cell_type": "markdown",
      "metadata": {
        "id": "Vs-zziavudJL",
        "colab_type": "text"
      },
      "source": [
        "## List comprehensions"
      ]
    },
    {
      "cell_type": "markdown",
      "metadata": {
        "id": "ZCXntCYAuh2L",
        "colab_type": "text"
      },
      "source": [
        "### List containing square of all odd numbers from 1 to 100"
      ]
    },
    {
      "cell_type": "code",
      "metadata": {
        "id": "IcZnKbuUuf7-",
        "colab_type": "code",
        "colab": {
          "base_uri": "https://localhost:8080/",
          "height": 55
        },
        "outputId": "7bbcafce-d7d7-4ef5-d805-b28d6f557265"
      },
      "source": [
        "odd_square = [x**2 for x in range(1,101) if x %2 != 0]\n",
        "print(odd_square)"
      ],
      "execution_count": 2,
      "outputs": [
        {
          "output_type": "stream",
          "text": [
            "[1, 9, 25, 49, 81, 121, 169, 225, 289, 361, 441, 529, 625, 729, 841, 961, 1089, 1225, 1369, 1521, 1681, 1849, 2025, 2209, 2401, 2601, 2809, 3025, 3249, 3481, 3721, 3969, 4225, 4489, 4761, 5041, 5329, 5625, 5929, 6241, 6561, 6889, 7225, 7569, 7921, 8281, 8649, 9025, 9409, 9801]\n"
          ],
          "name": "stdout"
        }
      ]
    },
    {
      "cell_type": "markdown",
      "metadata": {
        "id": "Rl66NAXxvHpO",
        "colab_type": "text"
      },
      "source": [
        "### List with prime and non-prime in range 1 to 50"
      ]
    },
    {
      "cell_type": "code",
      "metadata": {
        "id": "USupSoOIuvhg",
        "colab_type": "code",
        "colab": {
          "base_uri": "https://localhost:8080/",
          "height": 72
        },
        "outputId": "bc271704-0f25-41bb-8a87-2e79a2f4f05f"
      },
      "source": [
        "nonprimes = [j for i in range(2,8) for j in range(1*2, 50, i)]\n",
        "primes = [x for x in range(2, 50) if x not in nonprimes]\n",
        "print(nonprimes)\n",
        "print(primes)"
      ],
      "execution_count": 4,
      "outputs": [
        {
          "output_type": "stream",
          "text": [
            "[2, 4, 6, 8, 10, 12, 14, 16, 18, 20, 22, 24, 26, 28, 30, 32, 34, 36, 38, 40, 42, 44, 46, 48, 2, 5, 8, 11, 14, 17, 20, 23, 26, 29, 32, 35, 38, 41, 44, 47, 2, 6, 10, 14, 18, 22, 26, 30, 34, 38, 42, 46, 2, 7, 12, 17, 22, 27, 32, 37, 42, 47, 2, 8, 14, 20, 26, 32, 38, 44, 2, 9, 16, 23, 30, 37, 44]\n",
            "[3, 13, 15, 19, 21, 25, 31, 33, 39, 43, 45, 49]\n"
          ],
          "name": "stdout"
        }
      ]
    },
    {
      "cell_type": "code",
      "metadata": {
        "id": "DByuroSgv-Wo",
        "colab_type": "code",
        "colab": {
          "base_uri": "https://localhost:8080/",
          "height": 35
        },
        "outputId": "1c06f439-11e4-44bf-affa-c3c46d5289cd"
      },
      "source": [
        "# another method for inding primes\n",
        "[x for x in range(2, 51) if all(x % y != 0 for y in range(2,x))]"
      ],
      "execution_count": 6,
      "outputs": [
        {
          "output_type": "execute_result",
          "data": {
            "text/plain": [
              "[2, 3, 5, 7, 11, 13, 17, 19, 23, 29, 31, 37, 41, 43, 47]"
            ]
          },
          "metadata": {
            "tags": []
          },
          "execution_count": 6
        }
      ]
    },
    {
      "cell_type": "markdown",
      "metadata": {
        "id": "XFbRbmJtxmJz",
        "colab_type": "text"
      },
      "source": [
        ""
      ]
    },
    {
      "cell_type": "markdown",
      "metadata": {
        "id": "BnpRJRjdz3kR",
        "colab_type": "text"
      },
      "source": [
        "# Task\n",
        "Open the file romeo.txt and read it line by line. For each line, split the line into a list of words using the split() method. The program should build a list of words. For each word on each line check to see if the word is already in the list and if not append it to the list. When the program completes, sort and print the resulting words in alphabetical order."
      ]
    },
    {
      "cell_type": "code",
      "metadata": {
        "id": "xzhcvqC5UYlY",
        "colab_type": "code",
        "colab": {}
      },
      "source": [
        "fname = input(\"Enter file name: \")\n",
        "fh = open(fname)\n",
        "lst = list()\n",
        "for line in fh:\n",
        "    line.rstrip()\n",
        "    words = line.split()\n",
        "    for word in words:\n",
        "        if word not in lst:\n",
        "            lst.append(word)\n",
        "lst.sort()\n",
        "print(lst)\n"
      ],
      "execution_count": 0,
      "outputs": []
    },
    {
      "cell_type": "markdown",
      "metadata": {
        "id": "eR_0DbmFgb0C",
        "colab_type": "text"
      },
      "source": [
        "## Task: Sort nested list\n",
        "Given the names and grades for each student in a Physics class of  students, store them in a nested list and print the name(s) of any student(s) having the second lowest grade.\n",
        "\n",
        "https://www.hackerrank.com/challenges/nested-list/problem"
      ]
    },
    {
      "cell_type": "code",
      "metadata": {
        "id": "AVJ_a1sSgkUX",
        "colab_type": "code",
        "colab": {}
      },
      "source": [
        "if __name__ == '__main__':\n",
        "    students = []\n",
        "    temp = []\n",
        "    for _ in range(1,int(input())):\n",
        "        name = input()\n",
        "        score = float(input())\n",
        "        temp.append([name, score])\n",
        "    students.append(temp)\n",
        "    \n",
        "    #sort the nested list\n",
        "    students.sort(key = lambda x: x[1])\n",
        "    #print(students)\n",
        "    #To get the maximum value in a nested list\n",
        "    max(students, key = lambda x: x[1])\n",
        "\n",
        "    ### NOT DONE YET"
      ],
      "execution_count": 0,
      "outputs": []
    }
  ]
}