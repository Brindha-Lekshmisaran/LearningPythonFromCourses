{
 "cells": [
  {
   "cell_type": "code",
   "execution_count": 18,
   "metadata": {},
   "outputs": [],
   "source": [
    "\n",
    "\n",
    "import math\n",
    "\n",
    "class Vector:\n",
    "    def __init__(self, x = 0, y = 0):\n",
    "        \"\"\"\n",
    "        The __init__ function is called automatically every time the class is used to make a new object.\n",
    "        The values after the equals sign are default values. If a user makes an object without specifying\n",
    "        these values, they will be set to 0 by default.\n",
    "        \n",
    "        :param self: Reference the object itself\n",
    "        :param x: Set the x value of the point\n",
    "        :param y: Set the y value of the point\n",
    "        :return: A point object whose x and y values can be set by the user when the object is created\n",
    "        :doc-author: Trelent\n",
    "        \"\"\"\n",
    "        self.x = x\n",
    "        self.y = y\n",
    "        \n",
    "    def __repr__(self):\n",
    "        \"\"\"\n",
    "        The __repr__ function is a built-in function used to compute the &quot;official&quot; string reputation of an object.\n",
    "        If at all possible, this should look like a valid Python expression that could be used to recreate an object with\n",
    "        the same value (given an appropriate environment). \n",
    "        In simple terms, __repr__ returns the object's code representation.\n",
    "        \n",
    "        :param self: Refer to the instance of the class\n",
    "        :return: The string representation of the object\n",
    "        :doc-author: Trelent\n",
    "        \"\"\"\n",
    "        return f'Vector({self.x!r}, {self.y!r}'\n",
    "    \n",
    "    def __abs__(self):\n",
    "        \"\"\"\n",
    "        The __abs__ function returns the absolute value of a vector.\n",
    "        \n",
    "        :param self: Refer to the object itself\n",
    "        :return: The distance between the origin and the point\n",
    "        :doc-author: Trelent\n",
    "        \"\"\"\n",
    "        return math.hypot(self.x, self.y)\n",
    "    \n",
    "    def __bool__(self):\n",
    "        \"\"\"\n",
    "        The __bool__ function is called by the bool() function to decide what it should return.\n",
    "        bool(x) calls x.__bool__() and uses the result, if __bool__ is not defined bool() falls back to calling x.__len__().\n",
    "        If that returns zero, bool returns False; otherwise bool returns True.\n",
    "        \n",
    "        :param self: Refer to the instance of the class\n",
    "        :return: The boolean value of the absolute value of the complex number\n",
    "        :doc-author: Trelent\n",
    "        \"\"\"\n",
    "        return bool(abs(self))\n",
    "    \n",
    "    def __add__(self, other):\n",
    "        \"\"\"\n",
    "        The __add__ function adds two vectors together and returns a new vector with the sum of the x and y values.\n",
    "        :param self: Access the attributes and methods of the class\n",
    "        :return: A new instance of the vector class with x and y values added together\n",
    "        :doc-author: Trelent\n",
    "        \"\"\"\n",
    "        x = self.x + other.x\n",
    "        y = self.y + other.y\n",
    "        return Vector(x, y)\n",
    "    \n",
    "    def __mul__(self, scalar):\n",
    "        \"\"\"\n",
    "        The __mul__ function multiplies a vector by a scalar.\n",
    "        \n",
    "        :param self: Refer to the object itself\n",
    "        :param scalar: Multiply the x and y values of the vector by a scalar value\n",
    "        :return: A new vector object that is the result of multiplying each component of self by the scalar\n",
    "        :doc-author: Trelent\n",
    "        \"\"\"       \n",
    "        return Vector(self.x * scalar, self.y * scalar)"
   ]
  },
  {
   "cell_type": "code",
   "execution_count": 16,
   "metadata": {},
   "outputs": [],
   "source": [
    "# from vector2D import Vector"
   ]
  },
  {
   "cell_type": "code",
   "execution_count": 19,
   "metadata": {},
   "outputs": [
    {
     "data": {
      "text/plain": [
       "Vector(4, 5"
      ]
     },
     "execution_count": 19,
     "metadata": {},
     "output_type": "execute_result"
    }
   ],
   "source": [
    "v1 = Vector(2, 4)\n",
    "v2 = Vector(2, 1)\n",
    "v1 + v2"
   ]
  },
  {
   "cell_type": "code",
   "execution_count": 20,
   "metadata": {},
   "outputs": [
    {
     "data": {
      "text/plain": [
       "5.0"
      ]
     },
     "execution_count": 20,
     "metadata": {},
     "output_type": "execute_result"
    }
   ],
   "source": [
    "v = Vector(3, 4)\n",
    "abs(v)"
   ]
  },
  {
   "cell_type": "code",
   "execution_count": 22,
   "metadata": {},
   "outputs": [
    {
     "name": "stdout",
     "output_type": "stream",
     "text": [
      "Vector(9, 12\n"
     ]
    },
    {
     "data": {
      "text/plain": [
       "15.0"
      ]
     },
     "execution_count": 22,
     "metadata": {},
     "output_type": "execute_result"
    }
   ],
   "source": [
    "v * 3\n",
    "print(v * 3)\n",
    "abs(v * 3)"
   ]
  },
  {
   "cell_type": "code",
   "execution_count": null,
   "metadata": {},
   "outputs": [],
   "source": []
  },
  {
   "cell_type": "code",
   "execution_count": null,
   "metadata": {},
   "outputs": [],
   "source": []
  }
 ],
 "metadata": {
  "kernelspec": {
   "display_name": "Python 3.11.0 64-bit",
   "language": "python",
   "name": "python3"
  },
  "language_info": {
   "codemirror_mode": {
    "name": "ipython",
    "version": 3
   },
   "file_extension": ".py",
   "mimetype": "text/x-python",
   "name": "python",
   "nbconvert_exporter": "python",
   "pygments_lexer": "ipython3",
   "version": "3.11.0"
  },
  "orig_nbformat": 4,
  "vscode": {
   "interpreter": {
    "hash": "2d3806c16ef20be5697e4e7ff56f93892ebf8fd36e80081f977d5f918214dbcf"
   }
  }
 },
 "nbformat": 4,
 "nbformat_minor": 2
}
