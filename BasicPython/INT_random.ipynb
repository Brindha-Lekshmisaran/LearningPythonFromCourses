{
 "cells": [
  {
   "cell_type": "markdown",
   "metadata": {},
   "source": [
    "### Generate random integers between 0 and 9"
   ]
  },
  {
   "cell_type": "code",
   "execution_count": 10,
   "metadata": {},
   "outputs": [
    {
     "name": "stdout",
     "output_type": "stream",
     "text": [
      "3\n",
      "2\n",
      "5.359305483083082\n"
     ]
    }
   ],
   "source": [
    "from random import randrange, randint, uniform\n",
    "\n",
    "# randrange or randint gives integral value\n",
    "irand = randrange(0, 10)\n",
    "irand2 = randint(0, 10)\n",
    "\n",
    "# uniform gives float value\n",
    "frand = uniform(0,10)\n",
    "\n",
    "print(irand)\n",
    "print(irand2)\n",
    "print(frand)"
   ]
  },
  {
   "cell_type": "code",
   "execution_count": 5,
   "metadata": {},
   "outputs": [
    {
     "name": "stdout",
     "output_type": "stream",
     "text": [
      "3\n"
     ]
    }
   ],
   "source": [
    "from random import randrange\n",
    "print(randrange(10))"
   ]
  },
  {
   "cell_type": "markdown",
   "metadata": {},
   "source": [
    "Just a note, these are pseudorandom numbers and they are not cryptographically secure. Do not use this in any case where you don't want an attacker to guess your numbers. Use the secrets module for better random numbers.\n",
    "Note that the secrets module was first added to Python in version 3.6 "
   ]
  },
  {
   "cell_type": "code",
   "execution_count": 6,
   "metadata": {},
   "outputs": [
    {
     "data": {
      "text/plain": [
       "5"
      ]
     },
     "execution_count": 6,
     "metadata": {},
     "output_type": "execute_result"
    }
   ],
   "source": [
    "import secrets\n",
    "secrets.randbelow(10)"
   ]
  },
  {
   "cell_type": "markdown",
   "metadata": {},
   "source": [
    "### To generate a list of 10 pseudorandom integers between 0 to 9 inclusive"
   ]
  },
  {
   "cell_type": "code",
   "execution_count": 13,
   "metadata": {},
   "outputs": [
    {
     "name": "stdout",
     "output_type": "stream",
     "text": [
      "[2, 3, 9, 3, 8, 4, 5, 3, 0, 1]\n"
     ]
    }
   ],
   "source": [
    "from random import randint\n",
    "x = [randint(0, 9) for p in range(0,10)]\n",
    "print(x)"
   ]
  },
  {
   "cell_type": "code",
   "execution_count": 17,
   "metadata": {},
   "outputs": [
    {
     "data": {
      "text/plain": [
       "array([[3, 7, 1, 2, 1, 8, 2, 9, 0, 9]])"
      ]
     },
     "execution_count": 17,
     "metadata": {},
     "output_type": "execute_result"
    }
   ],
   "source": [
    "# Using numpy\n",
    "import numpy as np \n",
    "np.random.randint(10, size = (1, 10))"
   ]
  },
  {
   "cell_type": "markdown",
   "metadata": {},
   "source": [
    "### Generate a list of 10 pseudorandom float numbers between 0 to 9 inclusive"
   ]
  },
  {
   "cell_type": "code",
   "execution_count": 14,
   "metadata": {},
   "outputs": [
    {
     "name": "stdout",
     "output_type": "stream",
     "text": [
      "[8.001707267214693, 7.911892695507109, 7.56685002191508, 2.0931116704339217, 2.2421496653079354, 4.3049354996736175, 5.166779399586636, 2.367658162576844, 6.766253263026746, 6.3952938904209935]\n"
     ]
    }
   ],
   "source": [
    "from random import uniform\n",
    "y = [uniform(0,9) for p in range(0,10)]\n",
    "print(y)"
   ]
  },
  {
   "cell_type": "markdown",
   "metadata": {},
   "source": [
    "### Demonstrate the various random methods"
   ]
  },
  {
   "cell_type": "code",
   "execution_count": 26,
   "metadata": {},
   "outputs": [
    {
     "name": "stdout",
     "output_type": "stream",
     "text": [
      "[4, 7, 4, 2, 1]\n",
      "[0, 9, 2, 10, 8]\n",
      "[4, 3, 2, 7, 9]\n",
      "[1, 5, 4, 7, 6]\n",
      "[[4, 0, 9, 0, 6]]\n",
      "[20 14  0 12 -1]\n",
      "[0 2 1 2 0]\n",
      "[ 2  0 13  1  1]\n",
      "[8, 5, 7, 0, 1]\n"
     ]
    }
   ],
   "source": [
    "import random\n",
    "lo = 0\n",
    "hi = 10\n",
    "size = 5\n",
    "\n",
    "A = [lo + int(random.random() * (hi - lo)) for _ in range(size)]\n",
    "print(A)\n",
    "\n",
    "B = [random.randint(lo, hi) for _ in range(size)]\n",
    "print(B)\n",
    "\n",
    "C = [random.randrange(lo, hi) for _ in range(size)]\n",
    "print(C)\n",
    "\n",
    "D = [random.choice(range(lo, hi)) for _ in range(size)]\n",
    "print(D)\n",
    "\n",
    "E = [random.choices(range(lo, hi), k=size)]\n",
    "print(E)\n",
    "\n",
    "F = np.random.normal(loc=5, scale=10, size=size).astype(int)\n",
    "print(F)\n",
    "\n",
    "G = np.random.poisson(lam=1, size=size).astype(int)\n",
    "print(G)\n",
    "\n",
    "H = np.random.lognormal(mean=0.0, sigma=1.0, size=size).astype(int)\n",
    "print(H)\n",
    "\n",
    "# also there is random.shuffle\n",
    "lst = list(range(lo, hi))\n",
    "random.shuffle(lst)\n",
    "S = [lst[i] for i in range(size)]\n",
    "print(S)"
   ]
  },
  {
   "cell_type": "code",
   "execution_count": null,
   "metadata": {},
   "outputs": [],
   "source": []
  }
 ],
 "metadata": {
  "kernelspec": {
   "display_name": "Python 3",
   "language": "python",
   "name": "python3"
  },
  "language_info": {
   "codemirror_mode": {
    "name": "ipython",
    "version": 3
   },
   "file_extension": ".py",
   "mimetype": "text/x-python",
   "name": "python",
   "nbconvert_exporter": "python",
   "pygments_lexer": "ipython3",
   "version": "3.11.0"
  },
  "orig_nbformat": 4
 },
 "nbformat": 4,
 "nbformat_minor": 2
}
