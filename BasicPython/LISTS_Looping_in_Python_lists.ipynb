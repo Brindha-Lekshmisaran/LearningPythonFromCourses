{
 "cells": [
  {
   "cell_type": "code",
   "execution_count": 6,
   "metadata": {},
   "outputs": [
    {
     "name": "stdout",
     "output_type": "stream",
     "text": [
      "30\n"
     ]
    }
   ],
   "source": [
    "square = [1,4,9,16]\n",
    "total = 0\n",
    "\n",
    "for item in square:\n",
    "    total += item\n",
    "    #print(total)\n",
    "\n",
    "print(total)"
   ]
  },
  {
   "cell_type": "code",
   "execution_count": 9,
   "metadata": {},
   "outputs": [
    {
     "name": "stdout",
     "output_type": "stream",
     "text": [
      "http://www.bbc.com/ pear .html\n",
      "http://www.bbc.com/ apple .html\n",
      "http://www.bbc.com/ orange .html\n"
     ]
    }
   ],
   "source": [
    "fruits = [\"pear\", \"apple\", \"orange\"]\n",
    "\n",
    "for fruit in fruits:\n",
    "    print(\"http://www.bbc.com/\", fruit, \".html\")"
   ]
  }
 ],
 "metadata": {
  "interpreter": {
   "hash": "1375eed38d21eb9e9e089e0e04a01124d5d52b46959431b6992384a893423222"
  },
  "kernelspec": {
   "display_name": "Python 3.9.7 ('base')",
   "language": "python",
   "name": "python3"
  },
  "language_info": {
   "codemirror_mode": {
    "name": "ipython",
    "version": 3
   },
   "file_extension": ".py",
   "mimetype": "text/x-python",
   "name": "python",
   "nbconvert_exporter": "python",
   "pygments_lexer": "ipython3",
   "version": "3.9.7"
  },
  "orig_nbformat": 4
 },
 "nbformat": 4,
 "nbformat_minor": 2
}
