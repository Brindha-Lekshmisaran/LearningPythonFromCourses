{
 "cells": [
  {
   "cell_type": "markdown",
   "metadata": {},
   "source": [
    "## Counting fruits\n",
    "Given a list of fruits, the function counts the number of times each fruit appears, and returns a dictionary containing each fruit and its count."
   ]
  },
  {
   "cell_type": "code",
   "execution_count": 4,
   "metadata": {},
   "outputs": [],
   "source": [
    "def count_fruits(fruits):\n",
    "  ''''\n",
    "  input: ['apple', 'orange', 'apple']\n",
    "  output: {'apple':2, 'orange':1}\n",
    "  '''\n",
    "  out = {}\n",
    "  for fruit in fruits:\n",
    "      if fruit not in out:\n",
    "          out[fruit] = 1\n",
    "      else:\n",
    "          out[fruit] += 1\n",
    "  return out"
   ]
  },
  {
   "cell_type": "code",
   "execution_count": 5,
   "metadata": {},
   "outputs": [
    {
     "data": {
      "text/plain": [
       "{'apple': 2, 'orange': 1}"
      ]
     },
     "execution_count": 5,
     "metadata": {},
     "output_type": "execute_result"
    }
   ],
   "source": [
    "input = ['apple', 'orange', 'apple']\n",
    "count_fruits(input)"
   ]
  },
  {
   "cell_type": "markdown",
   "metadata": {},
   "source": [
    "## Instructions in leetcode format"
   ]
  },
  {
   "cell_type": "markdown",
   "metadata": {},
   "source": [
    "**Problem Statement:**\n",
    "\n",
    "You are given a list of fruits. Write a function `count_fruits` that counts the occurrences of each fruit in the list and returns a dictionary with the fruit names as keys and their respective counts as values.\n",
    "\n",
    "**Function Signature:**\n",
    "```python\n",
    "def count_fruits(fruits: List[str]) -> Dict[str, int]:\n",
    "```\n",
    "\n",
    "**Input:**\n",
    "- A list of strings `fruits` where 1 <= len(fruits) <= 10^4. Each element in the list represents the name of a fruit.\n",
    "\n",
    "**Output:**\n",
    "- Return a dictionary where keys are fruit names and values are the counts of each fruit in the input list.\n",
    "\n",
    "**Example:**\n",
    "```python\n",
    "assert count_fruits(['apple', 'orange', 'apple']) == {'apple': 2, 'orange': 1}\n",
    "assert count_fruits(['apple', 'banana', 'apple', 'banana', 'orange', 'apple']) == {'apple': 3, 'banana': 2, 'orange': 1}\n",
    "```\n",
    "\n",
    "**Note:**\n",
    "- The function should handle input lists with varying lengths.\n",
    "- The output dictionary should only include fruits that are present in the input list.\n",
    "- The order of fruits in the output dictionary does not matter.\n",
    "\n",
    "---"
   ]
  }
 ],
 "metadata": {
  "kernelspec": {
   "display_name": "Python 3",
   "language": "python",
   "name": "python3"
  },
  "language_info": {
   "codemirror_mode": {
    "name": "ipython",
    "version": 3
   },
   "file_extension": ".py",
   "mimetype": "text/x-python",
   "name": "python",
   "nbconvert_exporter": "python",
   "pygments_lexer": "ipython3",
   "version": "3.11.0"
  },
  "orig_nbformat": 4
 },
 "nbformat": 4,
 "nbformat_minor": 2
}
