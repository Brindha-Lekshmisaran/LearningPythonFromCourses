{
 "cells": [
  {
   "cell_type": "markdown",
   "metadata": {},
   "source": [
    "https://leetcode.com/problems/two-sum/description/?source=submission-ac"
   ]
  },
  {
   "cell_type": "markdown",
   "metadata": {},
   "source": [
    "Given an array of integers nums and an integer target, return indices of the two numbers such that they add up to target.\n",
    "\n",
    "You may assume that each input would have exactly one solution, and you may not use the same element twice.\n",
    "\n",
    "You can return the answer in any order."
   ]
  },
  {
   "cell_type": "code",
   "execution_count": 4,
   "metadata": {},
   "outputs": [],
   "source": [
    "class Solution:\n",
    "    def twoSum(self, nums: list[int], target: int) -> list[int]:\n",
    "        # input: array of integers\n",
    "        # output: the indices of the array items that add up to the target\n",
    "        ### Pseudocode ###\n",
    "        # First method:\n",
    "        # Grab each item of the array\n",
    "        # loop through the remainder and check if adding to each of the remaining ones gives the target value.\n",
    "        # if so return the two indices.\n",
    "        # Second method:\n",
    "        # Create a hashtable of the items and their indices\n",
    "        # Grab each item of the array, and find the difference with the target.\n",
    "        # Check if that difference is present in the hashtable.\n",
    "        # If so return the two indices.\n",
    "        for idx, item in enumerate(nums):\n",
    "            for n in range(idx+1, len(nums)):\n",
    "                if item + nums[n] == target:\n",
    "                    return([idx,n])"
   ]
  },
  {
   "cell_type": "code",
   "execution_count": 15,
   "metadata": {},
   "outputs": [],
   "source": [
    "test = Solution()\n",
    "# Test case 1: Check if the function returns the correct indices for a simple input array and target\n",
    "nums = [2, 7, 11, 15]\n",
    "target = 9\n",
    "expected = [0, 1]\n",
    "actual = test.twoSum(nums, target)\n",
    "assert actual == expected, f\"Expected {expected}, got {actual}\"\n",
    "\n",
    "# Test case 2: Check if the function returns the correct indices for an input array with duplicate elements and target\n",
    "nums = [3, 2, 4]\n",
    "target = 6\n",
    "expected = [1, 2]\n",
    "actual = test.twoSum(nums, target)\n",
    "assert actual == expected, f\"Expected {expected}, got {actual}\"\n",
    "\n",
    "# Test case 3: Check if the function raises an exception for an input array that has no solution\n",
    "# nums = [1, 2, 3]\n",
    "# target = 7\n",
    "# expected = \"No solution found\"\n",
    "# try:\n",
    "#     actual = test.twoSum(nums, target)\n",
    "#     assert False, f\"Expected an exception, got {actual}\"\n",
    "# except Exception as e:\n",
    "#     assert str(e) == expected, f\"Expected {expected}, got {str(e)}\"\n",
    "\n",
    "# Test case 4: Check if the function returns the correct indices for an input array with negative elements and target\n",
    "nums = [-1, -2, -3, -4, -5]\n",
    "target = -8\n",
    "expected = [2, 4]\n",
    "actual = test.twoSum(nums, target)\n",
    "assert actual == expected, f\"Expected {expected}, got {actual}\"\n"
   ]
  },
  {
   "cell_type": "code",
   "execution_count": 13,
   "metadata": {},
   "outputs": [],
   "source": [
    "# Another way\n",
    "# Time : O(n^2)\n",
    "# Space: O(1)\n",
    "class Solution:\n",
    "    def twoSum(self, nums: list[int], target: int) -> list[int]:\n",
    "        for i in range(len(nums)):\n",
    "            for j in range(i + 1, len(nums)):\n",
    "                if nums[j] == target - nums[i]:\n",
    "                    return [i, j]"
   ]
  },
  {
   "cell_type": "code",
   "execution_count": 14,
   "metadata": {},
   "outputs": [],
   "source": [
    "# Using hashmaps\n",
    "# Time : O(n)\n",
    "# Space : O(n)\n",
    "class Solution:\n",
    "    def twoSum(self, nums: list[int], target: int) -> list[int]:\n",
    "        hashmap = {}\n",
    "        for i in range(len(nums)):\n",
    "            hashmap[nums[i]] = i\n",
    "        for i in range(len(nums)):\n",
    "            complement = target - nums[i]\n",
    "            if complement in hashmap and hashmap[complement] != i:\n",
    "                return [i, hashmap[complement]] "
   ]
  },
  {
   "cell_type": "markdown",
   "metadata": {},
   "source": [
    "This algorithm aims to find two numbers in a list that add up to a specific target. Here's a step-by-step breakdown:\n",
    "\n",
    "1. **Initialize a HashMap:** The function initializes an empty hashmap (`{}`).\n",
    "\n",
    "2. **Populate the HashMap:** It loops through the `nums` list, where each element is associated with its index in the `hashmap` (value as the key and index as the value).\n",
    "\n",
    "3. **Finding Complements:** It then iterates through the `nums` list again.\n",
    "\n",
    "4. **Calculate Complement:** For each element `nums[i]`, it calculates the `complement` by subtracting the element from the `target`.\n",
    "\n",
    "5. **Check for Complement in HashMap:** It checks if the `complement` exists in the `hashmap` and also verifies that the index of the `complement` in the `hashmap` is not the same as the current index `i`.\n",
    "\n",
    "6. **Return the Indices:** If such a `complement` exists and it has a different index than the current element, it returns the indices of the two elements `[i, hashmap[complement]]`.\n",
    "\n",
    "This algorithm essentially uses a hashmap to store the elements and their indices and then traverses the list again to find the complement needed to reach the target sum. If found, it returns the indices of the two elements that sum up to the target."
   ]
  }
 ],
 "metadata": {
  "kernelspec": {
   "display_name": "Python 3",
   "language": "python",
   "name": "python3"
  },
  "language_info": {
   "codemirror_mode": {
    "name": "ipython",
    "version": 3
   },
   "file_extension": ".py",
   "mimetype": "text/x-python",
   "name": "python",
   "nbconvert_exporter": "python",
   "pygments_lexer": "ipython3",
   "version": "3.11.0"
  },
  "orig_nbformat": 4
 },
 "nbformat": 4,
 "nbformat_minor": 2
}
