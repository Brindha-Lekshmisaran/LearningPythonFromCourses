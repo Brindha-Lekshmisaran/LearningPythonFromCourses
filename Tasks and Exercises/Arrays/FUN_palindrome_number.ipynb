{
 "cells": [
  {
   "cell_type": "markdown",
   "metadata": {},
   "source": [
    "https://leetcode.com/problems/palindrome-number/description/"
   ]
  },
  {
   "cell_type": "markdown",
   "metadata": {},
   "source": [
    "Given an integer x, return true if x is a \n",
    "palindrome, and false otherwise."
   ]
  },
  {
   "cell_type": "code",
   "execution_count": 3,
   "metadata": {},
   "outputs": [],
   "source": [
    "class Solution:\n",
    "    def isPalindrome(self, x: int) -> bool:\n",
    "        # check if the array of the number is equal to the reverse of the number\n",
    "        x = str(x)\n",
    "        revx = x[::-1]\n",
    "        print(revx)\n",
    "        if x == revx:\n",
    "            return True\n",
    "        "
   ]
  },
  {
   "cell_type": "markdown",
   "metadata": {},
   "source": [
    "## Test cases"
   ]
  },
  {
   "cell_type": "code",
   "execution_count": 21,
   "metadata": {},
   "outputs": [
    {
     "name": "stderr",
     "output_type": "stream",
     "text": [
      ".....\n",
      "----------------------------------------------------------------------\n",
      "Ran 5 tests in 0.004s\n",
      "\n",
      "OK\n"
     ]
    }
   ],
   "source": [
    "import unittest\n",
    "\n",
    "class TestSolution(unittest.TestCase):\n",
    "    def setUp(self):\n",
    "        self.solution = Solution()\n",
    "\n",
    "    def test_palindrome_positive(self):\n",
    "        self.assertTrue(self.solution.isPalindrome(121), \"Error: 121 is a palindrome.\")\n",
    "\n",
    "    def test_palindrome_negative(self):\n",
    "        self.assertFalse(self.solution.isPalindrome(-121), \"Error: -121 is not a palindrome.\")\n",
    "\n",
    "    def test_non_palindrome(self):\n",
    "        self.assertFalse(self.solution.isPalindrome(123), \"Error: 123 is not a palindrome.\")\n",
    "\n",
    "    def test_single_digit_palindrome(self):\n",
    "        self.assertTrue(self.solution.isPalindrome(5), \"Error: Single digit number is a palindrome.\")\n",
    "\n",
    "    def test_zero_palindrome(self):\n",
    "        self.assertTrue(self.solution.isPalindrome(0), \"Error: 0 is a palindrome.\")\n",
    "\n",
    "if __name__ == '__main__':\n",
    "    # unittest.main()\n",
    "    # for vscode jupyter\n",
    "    unittest.main(argv=[''], exit=False)\n"
   ]
  },
  {
   "cell_type": "code",
   "execution_count": 7,
   "metadata": {},
   "outputs": [],
   "source": [
    "# Another method\n",
    "class Solution:\n",
    "    def isPalindrome(self, x: int) -> bool:\n",
    "        return True if str(x)[::-1] == str(x) else False "
   ]
  },
  {
   "cell_type": "code",
   "execution_count": 9,
   "metadata": {},
   "outputs": [],
   "source": [
    "# A more succinct way\n",
    "class Solution:\n",
    "   def isPalindrome(self, x: int) -> bool:\n",
    "       return str(x) == str(x)[::-1]"
   ]
  },
  {
   "cell_type": "markdown",
   "metadata": {},
   "source": [
    "Time Complexity: Converting the integer to a string takes O(log10(n)) time, where n is the input integer. The slicing to reverse the string takes O(n) time. Comparing both strings also takes O(n) time. Therefore, the overall time complexity is O(n), where n is the number of digits in the integer.\n",
    "Space Complexity: The space complexity is O(n) because the string representation and its reverse are stored in memory, where n is the number of digits in the integer. This could be inefficient for larger integers due to the additional space used to store the string representations."
   ]
  },
  {
   "cell_type": "code",
   "execution_count": 12,
   "metadata": {},
   "outputs": [],
   "source": [
    "# Adding additional check\n",
    "class Solution:\n",
    "    def isPalindrome(self, x: int) -> bool:\n",
    "        if x < 0:\n",
    "            return False\n",
    "        \n",
    "        return str(x) == str(x)[::-1]"
   ]
  },
  {
   "cell_type": "markdown",
   "metadata": {},
   "source": [
    "If we don't want to convert the number to string, then recreate a new number in reverse order."
   ]
  },
  {
   "cell_type": "code",
   "execution_count": 14,
   "metadata": {},
   "outputs": [],
   "source": [
    "class Solution:\n",
    "\tdef isPalindrome(self, x: int) -> bool:\n",
    "\t\tif x<0:\n",
    "\t\t\treturn False\n",
    "\n",
    "\t\tinputNum = x\n",
    "\t\tnewNum = 0\n",
    "\t\twhile x>0:\n",
    "\t\t\tnewNum = newNum * 10 + x%10\n",
    "\t\t\tx = x//10\n",
    "\t\treturn newNum == inputNum"
   ]
  },
  {
   "cell_type": "markdown",
   "metadata": {},
   "source": [
    "## A more efficient method"
   ]
  },
  {
   "cell_type": "code",
   "execution_count": 20,
   "metadata": {},
   "outputs": [],
   "source": [
    "class Solution:\n",
    "\tdef isPalindrome(self, x: int) -> bool:\n",
    "     # if the number is negative or \n",
    "     # if it's a positive number ending in zero (as a number ending in zero cannot form a palindrome). \n",
    "\t\tif x < 0 or (x > 0 and x%10 == 0):   # if x is negative, return False. if x is positive and last digit is 0, that also cannot form a palindrome, return False.\n",
    "\t\t\treturn False\n",
    "\t\t\n",
    "\t\tresult = 0\n",
    "  \t\t# reversing the first half of the number\n",
    "\t\twhile x > result:\n",
    "      \t\t# itaking the last digit of the number \n",
    "        \t# and adding it to result after multiplying result by 10 to shift its position to the left.\n",
    "\t\t\tresult = result * 10 + x % 10\n",
    "   \t\t\t# removing the last digit from the original number by performing integer division\n",
    "\t\t\tx = x // 10\n",
    "   \t\t\n",
    "     \t# Returns True, if following two conditions are met\n",
    "\t\t# If the original number's length was odd, \n",
    "\t\t# it compares x and result // 10 (to disregard the middle digit in an odd-length number).\n",
    "\t\t# If the original number's length was even, \n",
    "\t\t# it compares x and result.\n",
    "\t\treturn x == result or x == result // 10"
   ]
  },
  {
   "cell_type": "markdown",
   "metadata": {},
   "source": [
    "### Logic:\n",
    "The approach in the given code works by only reversing half of the number, making the comparison more efficient, especially for larger numbers. It avoids the higher space complexity due to string conversions, especially for larger integers. \n",
    "It effectively handles both even and odd-length numbers. For odd-length numbers, it ignores the middle digit by comparing x and result // 10, effectively excluding it from the comparison.\n",
    "\n",
    "### Explanation of each step:\n",
    "1. **Initial Checks**: The function first verifies if the number is negative or if it's a positive number ending in zero (as a number ending in zero cannot form a palindrome). If either condition is met, the function returns False.\n",
    "   \n",
    "2. **Palindrome Check**:\n",
    "    - Initialize a variable `result` to 0.\n",
    "    - The code uses a while loop to reverse the first half of the input number.\n",
    "    - In each iteration of the loop, it takes the last digit of the number and adds it to `result` after multiplying `result` by 10 to shift its position to the left.\n",
    "    - Simultaneously, it removes the last digit from the original number by performing integer division (`x = x // 10`).\n",
    "    - The loop continues until the reversed half is equal to or exceeds the remaining digits in `x`.\n",
    "    \n",
    "3. **Return**:\n",
    "    - After the loop, the function checks for two conditions:\n",
    "        - If the original number's length was odd, it compares `x` and `result // 10` (to disregard the middle digit in an odd-length number).\n",
    "        - If the original number's length was even, it compares `x` and `result`.\n",
    "    - Returns True if either of these conditions is met, indicating a palindrome. Otherwise, returns False.\n",
    "\n",
    "### Time and Space complexities:\n",
    "- **Time Complexity**: The time complexity is O(log10(n)) where n is the input number. The code processes the input number by dividing it by 10 in each iteration until the number becomes 0, which takes logarithmic time relative to the input.\n",
    "- **Space Complexity**: The space complexity is O(1) since the algorithm uses a fixed amount of extra space regardless of the input size. It only uses a few variables (`result`, `x`) that do not grow with the input size."
   ]
  }
 ],
 "metadata": {
  "kernelspec": {
   "display_name": "Python 3",
   "language": "python",
   "name": "python3"
  },
  "language_info": {
   "codemirror_mode": {
    "name": "ipython",
    "version": 3
   },
   "file_extension": ".py",
   "mimetype": "text/x-python",
   "name": "python",
   "nbconvert_exporter": "python",
   "pygments_lexer": "ipython3",
   "version": "3.11.0"
  }
 },
 "nbformat": 4,
 "nbformat_minor": 2
}
