{
 "cells": [
  {
   "cell_type": "markdown",
   "metadata": {},
   "source": [
    "## Removing vowels\n",
    "This function takes in a string, and returns the same string, but with all vowels removed eg. applepie becomes pplp"
   ]
  },
  {
   "cell_type": "code",
   "execution_count": 1,
   "metadata": {},
   "outputs": [],
   "source": [
    "def remove_vowels(string):\n",
    "  '''\n",
    "  input: some string\n",
    "  output: same string, but without vowels\n",
    "  '''\n",
    "  output = ''\n",
    "  for letter in string:\n",
    "      if letter in 'aeiou':\n",
    "          output += letter\n",
    "  return output"
   ]
  },
  {
   "cell_type": "code",
   "execution_count": 2,
   "metadata": {},
   "outputs": [],
   "source": [
    "# Test case 1: empty string\n",
    "assert remove_vowels('') == '', 'Empty string should return empty string'\n",
    "\n",
    "# Test case 2: string with no vowels\n",
    "assert remove_vowels('bcdfg') == '', 'String with no vowels should return empty string'\n",
    "\n",
    "# Test case 3: string with only vowels\n",
    "assert remove_vowels('aeiou') == 'aeiou', 'String with only vowels should return the same string'\n",
    "\n",
    "# Test case 4: string with mixed vowels and consonants\n",
    "assert remove_vowels('hello') == 'eo', 'String with mixed vowels and consonants should return only the vowels'\n"
   ]
  },
  {
   "cell_type": "markdown",
   "metadata": {},
   "source": [
    "## Instructions in leetcode style"
   ]
  },
  {
   "cell_type": "markdown",
   "metadata": {},
   "source": [
    "# Remove Vowels\n",
    "\n",
    "Given a string `s`, write a function that returns a new string that contains only the vowels of `s`.\n",
    "\n",
    "## Example 1:\n",
    "\n",
    "Input: `s = \"hello\"`\n",
    "Output: `\"eo\"`\n",
    "\n",
    "## Example 2:\n",
    "\n",
    "Input: `s = \"bcdfg\"`\n",
    "Output: `\"\"`\n",
    "\n",
    "## Constraints:\n",
    "\n",
    "- `s` is a non-empty string consisting of lowercase English letters.\n",
    "- You may assume that there are no spaces or punctuation marks in `s`.\n"
   ]
  }
 ],
 "metadata": {
  "kernelspec": {
   "display_name": "Python 3",
   "language": "python",
   "name": "python3"
  },
  "language_info": {
   "codemirror_mode": {
    "name": "ipython",
    "version": 3
   },
   "file_extension": ".py",
   "mimetype": "text/x-python",
   "name": "python",
   "nbconvert_exporter": "python",
   "pygments_lexer": "ipython3",
   "version": "3.11.0"
  },
  "orig_nbformat": 4
 },
 "nbformat": 4,
 "nbformat_minor": 2
}
