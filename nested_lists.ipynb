{
 "cells": [
  {
   "cell_type": "code",
   "execution_count": 3,
   "metadata": {},
   "outputs": [
    {
     "name": "stdout",
     "output_type": "stream",
     "text": [
      "matrix is  [1, 2, 3, 4]\n",
      "length is  4\n",
      "list item is  0\n",
      "list item is  1\n",
      "list item is  2\n",
      "list item is  3\n"
     ]
    }
   ],
   "source": [
    "# Accessing the first list in the nested list\n",
    "matrix = [[1,2,3,4],[4,5,6,8]]\n",
    "# Print(\"matrix is \", matrix[0])\n",
    "# print(\"length is \", len(matrix[0]))\n",
    "# for i in range(len(matrix[0])):\n",
    "#     print(\"list item is \", i)\n",
    "print(\"matrix is \", matrix[0])\n",
    "print(\"length is \", len(matrix[0]))\n",
    "for i in range(len(matrix[0])):\n",
    "    print(\"list item is \", i)"
   ]
  },
  {
   "cell_type": "code",
   "execution_count": 4,
   "metadata": {},
   "outputs": [
    {
     "name": "stdout",
     "output_type": "stream",
     "text": [
      "0 [1, 2, 3, 4]\n",
      "0 [4, 5, 6, 8]\n",
      "1 [1, 2, 3, 4]\n",
      "1 [4, 5, 6, 8]\n",
      "2 [1, 2, 3, 4]\n",
      "2 [4, 5, 6, 8]\n",
      "3 [1, 2, 3, 4]\n",
      "3 [4, 5, 6, 8]\n"
     ]
    }
   ],
   "source": [
    "# Accessing the first list and then second list in the nested list\n",
    "matrix = [[1,2,3,4],[4,5,6,8]]\n",
    "# iterate through first list in nested list\n",
    "for i in range(len(matrix[0])):\n",
    "    for row in matrix:\n",
    "        print(i, row)"
   ]
  }
 ],
 "metadata": {
  "interpreter": {
   "hash": "d688b627eadb31ff48a9147ba72a10b056553cb2a9fd8c7f8ddb500e616a3fb9"
  },
  "kernelspec": {
   "display_name": "Python 3.10.2 64-bit",
   "language": "python",
   "name": "python3"
  },
  "language_info": {
   "codemirror_mode": {
    "name": "ipython",
    "version": 3
   },
   "file_extension": ".py",
   "mimetype": "text/x-python",
   "name": "python",
   "nbconvert_exporter": "python",
   "pygments_lexer": "ipython3",
   "version": "3.10.2"
  },
  "orig_nbformat": 4
 },
 "nbformat": 4,
 "nbformat_minor": 2
}
