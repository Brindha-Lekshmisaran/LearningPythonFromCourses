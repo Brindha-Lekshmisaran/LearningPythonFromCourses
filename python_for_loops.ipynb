{
  "nbformat": 4,
  "nbformat_minor": 0,
  "metadata": {
    "colab": {
      "name": "python-for-loops.ipynb",
      "provenance": [],
      "collapsed_sections": [],
      "authorship_tag": "ABX9TyOZubhG6xU5nHIVm8DXLRVd",
      "include_colab_link": true
    },
    "kernelspec": {
      "name": "python3",
      "display_name": "Python 3"
    }
  },
  "cells": [
    {
      "cell_type": "markdown",
      "metadata": {
        "id": "view-in-github",
        "colab_type": "text"
      },
      "source": [
        "<a href=\"https://colab.research.google.com/github/DataSciLearner/PythonPractice/blob/master/python_for_loops.ipynb\" target=\"_parent\"><img src=\"https://colab.research.google.com/assets/colab-badge.svg\" alt=\"Open In Colab\"/></a>"
      ]
    },
    {
      "cell_type": "markdown",
      "metadata": {
        "id": "Ve7ssZOB05sB",
        "colab_type": "text"
      },
      "source": [
        "## Find all prime numbers in an interval\n",
        "https://medium.com/@GalarnykMichael/prime-numbers-using-python-824ff4b3ea19"
      ]
    },
    {
      "cell_type": "code",
      "metadata": {
        "id": "sv5QdwRf0vnh",
        "colab_type": "code",
        "colab": {
          "base_uri": "https://localhost:8080/",
          "height": 35
        },
        "outputId": "7dcfa6c4-b4e2-4327-f878-373ca3939afc"
      },
      "source": [
        "lower = 900\n",
        "upper = 1000\n",
        "\n",
        "primes = []\n",
        "for num in range(lower, upper + 1):\n",
        "  # all prime numbers greater than 1\n",
        "  if num > 1:\n",
        "    for i in range(2, num):\n",
        "      if(num %i) == 0:\n",
        "        break\n",
        "    else:\n",
        "      primes.append(num)\n",
        "\n",
        "print(primes)"
      ],
      "execution_count": 15,
      "outputs": [
        {
          "output_type": "stream",
          "text": [
            "[907, 911, 919, 929, 937, 941, 947, 953, 967, 971, 977, 983, 991, 997]\n"
          ],
          "name": "stdout"
        }
      ]
    },
    {
      "cell_type": "markdown",
      "metadata": {
        "id": "lOGWpbi81023",
        "colab_type": "text"
      },
      "source": [
        "### Code explanation\n",
        "1. The outer for loop iterates through all the numbers from 2 to n.\n",
        "\n",
        "2. The inner one iterates to all numbers from 2 to p. If it reaches a number that divides evenly into p, then it breaks out of the inner loop.\n",
        "\n",
        "3. The else block executes every time the for loop isn't broken out of "
      ]
    },
    {
      "cell_type": "markdown",
      "metadata": {
        "id": "0h-NTYFmKRSC",
        "colab_type": "text"
      },
      "source": [
        "To do with list comp, see this [colab](https://colab.research.google.com/drive/1_6QkvtEJ-2__81YwvBfXsweVAISpa5jU#scrollTo=DByuroSgv-Wo&line=2&uniqifier=1)."
      ]
    },
    {
      "cell_type": "markdown",
      "metadata": {
        "id": "bCChR-X2u6cz",
        "colab_type": "text"
      },
      "source": [
        "You can do a boolean to check if prime."
      ]
    },
    {
      "cell_type": "code",
      "metadata": {
        "id": "VHy0eY2gu-C5",
        "colab_type": "code",
        "colab": {
          "base_uri": "https://localhost:8080/",
          "height": 35
        },
        "outputId": "e3c4e5b7-2381-4f48-c86c-6cdb3c72d12d"
      },
      "source": [
        "lower = 900\n",
        "upper = 1000\n",
        "primes = []\n",
        "\n",
        "for num in range(lower, upper+1):\n",
        "  isPrime = True \n",
        "  for i in range(2, num):\n",
        "    if num % i == 0:\n",
        "      isPrime = False\n",
        "      break\n",
        "  if isPrime:\n",
        "    primes.append(num)\n",
        "\n",
        "print(primes)"
      ],
      "execution_count": 26,
      "outputs": [
        {
          "output_type": "stream",
          "text": [
            "[907, 911, 919, 929, 937, 941, 947, 953, 967, 971, 977, 983, 991, 997]\n"
          ],
          "name": "stdout"
        }
      ]
    },
    {
      "cell_type": "markdown",
      "metadata": {
        "id": "5b8Yo6cmv79n",
        "colab_type": "text"
      },
      "source": [
        " as soon isPrime is False, it is inefficient to keep on iterating. It would be more efficient to exit out of the loop."
      ]
    },
    {
      "cell_type": "markdown",
      "metadata": {
        "id": "vr8BH5H12Fj9",
        "colab_type": "text"
      },
      "source": [
        "Note: As a side note, you only need to iterate through 2 to the square root of p, since each factor has a pair. If you don't get a match there won't be any other factors after the square root, and the number will be prime."
      ]
    },
    {
      "cell_type": "code",
      "metadata": {
        "id": "dpHBc0Mj1bHx",
        "colab_type": "code",
        "colab": {
          "base_uri": "https://localhost:8080/",
          "height": 35
        },
        "outputId": "12d690d7-2cdf-4dde-be65-68eaf993eaed"
      },
      "source": [
        "lower = 900\n",
        "upper = 1000\n",
        "primes = []\n",
        "\n",
        "for num in range(lower, upper+1):\n",
        "  isPrime = True\n",
        "  for i in range(2, int(num ** 0.5) + 1):\n",
        "    if num % i == 0:\n",
        "      isPrime = False\n",
        "      break\n",
        "  if isPrime:\n",
        "    primes.append(num)\n",
        "\n",
        "print(primes)"
      ],
      "execution_count": 27,
      "outputs": [
        {
          "output_type": "stream",
          "text": [
            "[907, 911, 919, 929, 937, 941, 947, 953, 967, 971, 977, 983, 991, 997]\n"
          ],
          "name": "stdout"
        }
      ]
    },
    {
      "cell_type": "code",
      "metadata": {
        "id": "MtaDDDiczfo6",
        "colab_type": "code",
        "colab": {
          "base_uri": "https://localhost:8080/",
          "height": 35
        },
        "outputId": "93e6cda9-f9eb-4292-f364-332a568fbed1"
      },
      "source": [
        ""
      ],
      "execution_count": 25,
      "outputs": [
        {
          "output_type": "stream",
          "text": [
            "[2, 3, 5, 7, 11, 13, 17, 19]\n"
          ],
          "name": "stdout"
        }
      ]
    }
  ]
}