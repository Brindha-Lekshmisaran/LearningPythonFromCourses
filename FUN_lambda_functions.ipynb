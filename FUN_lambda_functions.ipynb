{
  "nbformat": 4,
  "nbformat_minor": 0,
  "metadata": {
    "colab": {
      "name": "Python_lambda_functions.ipynb",
      "provenance": [],
      "collapsed_sections": [
        "GCmvknEa4iYi",
        "1ErBPRqz4hdI",
        "D6Gy1bO-4gh1"
      ],
      "authorship_tag": "ABX9TyPU0yHiVKZ0hY+5uRkDffBs",
      "include_colab_link": true
    },
    "kernelspec": {
      "name": "python3",
      "display_name": "Python 3"
    }
  },
  "cells": [
    {
      "cell_type": "markdown",
      "metadata": {
        "id": "view-in-github",
        "colab_type": "text"
      },
      "source": [
        "<a href=\"https://colab.research.google.com/github/DataSciLearner/PythonPractice/blob/master/Python_lambda_functions.ipynb\" target=\"_parent\"><img src=\"https://colab.research.google.com/assets/colab-badge.svg\" alt=\"Open In Colab\"/></a>"
      ]
    },
    {
      "cell_type": "markdown",
      "metadata": {
        "id": "f9ZNq0tPmJ4L",
        "colab_type": "text"
      },
      "source": [
        "Every anonymous function you define in Python will have 3 essential parts:\n",
        "\n",
        ". The lambda keyword.\n",
        ". The parameters (or bound variables), and\n",
        ". The function body.\n",
        "\n",
        "A lambda function can have any number of parameters, but the function body can only contain one expression."
      ]
    },
    {
      "cell_type": "markdown",
      "metadata": {
        "id": "du8NhVVkn8SD",
        "colab_type": "text"
      },
      "source": [
        "## Bibliography\n",
        "https://www.guru99.com/python-lambda-function.html\n",
        "\n",
        "https://www.geeksforgeeks.org/python-lambda-anonymous-functions-filter-map-reduce/\n",
        "https://www.geeksforgeeks.org/lambda-filter-python-examples/\n",
        "https://www.geeksforgeeks.org/overuse-of-lambda-expressions-in-python/\n"
      ]
    },
    {
      "cell_type": "markdown",
      "metadata": {
        "id": "cZScv-blnbT_",
        "colab_type": "text"
      },
      "source": [
        "## Lambda with two parameters"
      ]
    },
    {
      "cell_type": "code",
      "metadata": {
        "id": "VSNCepsjmEYV",
        "colab_type": "code",
        "outputId": "77569e71-6ec3-4f1b-be76-38a618d4d516",
        "colab": {
          "base_uri": "https://localhost:8080/",
          "height": 34
        }
      },
      "source": [
        "adder = lambda x, y : x + y\n",
        "print(adder(1,2))"
      ],
      "execution_count": 0,
      "outputs": [
        {
          "output_type": "stream",
          "text": [
            "3\n"
          ],
          "name": "stdout"
        }
      ]
    },
    {
      "cell_type": "markdown",
      "metadata": {
        "id": "GCmvknEa4iYi",
        "colab_type": "text"
      },
      "source": [
        "### Code Explanation:"
      ]
    },
    {
      "cell_type": "markdown",
      "metadata": {
        "id": "HCae_4GambuB",
        "colab_type": "text"
      },
      "source": [
        "Code Explanation\n",
        "Here, we define a variable that will hold the result returned by the lambda function.\n",
        "\n",
        "1. The lambda keyword used to define an anonymous function.\n",
        "\n",
        "2. x and y are the parameters that we pass to the lambda function.\n",
        "\n",
        "3. This is the body of the function, which adds the 2 parameters we passed. Notice that it is a single expression. You cannot write multiple statements in the body of a lambda function.\n",
        "\n",
        "4. We call the function and print the returned value."
      ]
    },
    {
      "cell_type": "markdown",
      "metadata": {
        "id": "VdY480gYmsjv",
        "colab_type": "text"
      },
      "source": [
        "Note: Lambda itself returns a function object"
      ]
    },
    {
      "cell_type": "code",
      "metadata": {
        "id": "6v5Jd3N5d3N2",
        "colab_type": "code",
        "outputId": "2a6fe4af-2f93-4dbc-de75-888128d0da1c",
        "colab": {
          "base_uri": "https://localhost:8080/",
          "height": 34
        }
      },
      "source": [
        "(lambda x: x + x) (2)"
      ],
      "execution_count": 0,
      "outputs": [
        {
          "output_type": "execute_result",
          "data": {
            "text/plain": [
              "4"
            ]
          },
          "metadata": {
            "tags": []
          },
          "execution_count": 1
        }
      ]
    },
    {
      "cell_type": "markdown",
      "metadata": {
        "id": "6Vvh8ccqnib3",
        "colab_type": "text"
      },
      "source": [
        "## Lambda and print string"
      ]
    },
    {
      "cell_type": "code",
      "metadata": {
        "id": "WG5DR3YlmZvg",
        "colab_type": "code",
        "outputId": "b704d658-8888-400e-f99c-45c65fa56edf",
        "colab": {
          "base_uri": "https://localhost:8080/",
          "height": 34
        }
      },
      "source": [
        "#What a lambda returns\n",
        "string='some kind of a useless lambda'\n",
        "print(lambda string : print(string))"
      ],
      "execution_count": 0,
      "outputs": [
        {
          "output_type": "stream",
          "text": [
            "<function <lambda> at 0x7fee5d251620>\n"
          ],
          "name": "stdout"
        }
      ]
    },
    {
      "cell_type": "code",
      "metadata": {
        "id": "GZ4ItyakmzhR",
        "colab_type": "code",
        "outputId": "0e9ece92-3c79-422b-8016-2bac01f0b6ae",
        "colab": {
          "base_uri": "https://localhost:8080/",
          "height": 34
        }
      },
      "source": [
        "#What a lambda returns #2\n",
        "x=\"some kind of a useless lambda\"\n",
        "(lambda x : print(x))(x)"
      ],
      "execution_count": 0,
      "outputs": [
        {
          "output_type": "stream",
          "text": [
            "some kind of a useless lambda\n"
          ],
          "name": "stdout"
        }
      ]
    },
    {
      "cell_type": "markdown",
      "metadata": {
        "id": "1ErBPRqz4hdI",
        "colab_type": "text"
      },
      "source": [
        "### Code Explanation:"
      ]
    },
    {
      "cell_type": "markdown",
      "metadata": {
        "id": "YZhcy3nAm9xs",
        "colab_type": "text"
      },
      "source": [
        "Code Explanation\n",
        "\n",
        "Here is the same string we defined in the previous example.\n",
        "In this part, we are defining a lambda and calling it immediately by passing the string as an argument. This is something called an IIFE"
      ]
    },
    {
      "cell_type": "markdown",
      "metadata": {
        "id": "VYDljmcAnPQ5",
        "colab_type": "text"
      },
      "source": [
        "## Lambda functions and regular functions"
      ]
    },
    {
      "cell_type": "code",
      "metadata": {
        "id": "5QzW8kjym1xh",
        "colab_type": "code",
        "outputId": "40f09ee2-bf15-4bd9-dd2f-78f222484473",
        "colab": {
          "base_uri": "https://localhost:8080/",
          "height": 101
        }
      },
      "source": [
        "#A REGULAR FUNCTION\n",
        "def guru( funct, *args ):\n",
        "  funct( *args )\n",
        "def printer_one( arg ):\n",
        "  return print (arg)\n",
        "def printer_two( arg ):\n",
        "  print(arg)\n",
        "#CALL A REGULAR FUNCTION \n",
        "guru( printer_one, 'printer 1 REGULAR CALL' )\n",
        "guru( printer_two, 'printer 2 REGULAR CALL \\n' )\n",
        "#CALL A REGULAR FUNCTION THRU A LAMBDA\n",
        "guru(lambda: printer_one('printer 1 LAMBDA CALL'))\n",
        "guru(lambda: printer_two('printer 2 LAMBDA CALL'))"
      ],
      "execution_count": 0,
      "outputs": [
        {
          "output_type": "stream",
          "text": [
            "printer 1 REGULAR CALL\n",
            "printer 2 REGULAR CALL \n",
            "\n",
            "printer 1 LAMBDA CALL\n",
            "printer 2 LAMBDA CALL\n"
          ],
          "name": "stdout"
        }
      ]
    },
    {
      "cell_type": "markdown",
      "metadata": {
        "id": "D6Gy1bO-4gh1",
        "colab_type": "text"
      },
      "source": [
        "### Code Explanation:"
      ]
    },
    {
      "cell_type": "markdown",
      "metadata": {
        "id": "Q-g5cu1foCHp",
        "colab_type": "text"
      },
      "source": [
        "Code Explanation\n",
        "\n",
        "1. A function called guru that takes another function as the first parameter and any other arguments following it.\n",
        "2. printer_one is a simple function which prints the parameter passed to it and returns it.\n",
        "3. printer_two is similar to printer_one but without the return statement.\n",
        "4. In this part, we are calling the guru function and passing the printer functions and a string as parameters.\n",
        "5. This is the syntax to achieve the fourth step (i.e., calling the guru function) but using lambdas."
      ]
    },
    {
      "cell_type": "markdown",
      "metadata": {
        "id": "RY9ygLT8eHMw",
        "colab_type": "text"
      },
      "source": [
        "## Lambdas in filter"
      ]
    },
    {
      "cell_type": "markdown",
      "metadata": {
        "id": "W5rQIAg5eXVW",
        "colab_type": "text"
      },
      "source": [
        "The elements which will be selected is based on some pre-defined constraint. It takes 2 parameters:\n",
        "\n",
        "1. A function that defines the filtering constraint\n",
        "2. A sequence (any iterator like lists, tuples, etc.)"
      ]
    },
    {
      "cell_type": "code",
      "metadata": {
        "id": "xTTF5L9mnTLK",
        "colab_type": "code",
        "outputId": "73b4fa86-1475-496f-d984-2c3ff4f56cb2",
        "colab": {
          "base_uri": "https://localhost:8080/",
          "height": 34
        }
      },
      "source": [
        "sequences = [10,2,8,7,5,4,3,11,0, 1]\n",
        "filtered_result = filter(lambda x: x > 4, sequences)\n",
        "print(list(filtered_result))"
      ],
      "execution_count": 0,
      "outputs": [
        {
          "output_type": "stream",
          "text": [
            "[10, 8, 7, 5, 11]\n"
          ],
          "name": "stdout"
        }
      ]
    },
    {
      "cell_type": "markdown",
      "metadata": {
        "id": "J2LarsP24due",
        "colab_type": "text"
      },
      "source": [
        "### Code Explanation:"
      ]
    },
    {
      "cell_type": "markdown",
      "metadata": {
        "id": "NVVd99F8e9D-",
        "colab_type": "text"
      },
      "source": [
        "Code Explanation:\n",
        "\n",
        "1. In the first statement, we define a list called sequences which contains some numbers.\n",
        "\n",
        "2. Here, we declare a variable called filtered_result, which will store the filtered values returned by the filter() function.\n",
        "\n",
        "3. A lambda function which runs on each element of the list and returns true if it is greater than 4.\n",
        "\n",
        "4. Print the result returned by the filter function."
      ]
    },
    {
      "cell_type": "markdown",
      "metadata": {
        "id": "u5C5Mo4l5RRl",
        "colab_type": "text"
      },
      "source": [
        "## Filter for the even numbers"
      ]
    },
    {
      "cell_type": "code",
      "metadata": {
        "id": "Sw8xgiioenI7",
        "colab_type": "code",
        "outputId": "f596b212-4dee-4b1e-e35d-6d59a6b4a38d",
        "colab": {
          "base_uri": "https://localhost:8080/",
          "height": 34
        }
      },
      "source": [
        "my_list = [1, 5, 4, 6, 8, 11, 3, 12]\n",
        "new_list = list(filter(lambda x: (x % 2 == 0), my_list))\n",
        "print(new_list)"
      ],
      "execution_count": 0,
      "outputs": [
        {
          "output_type": "stream",
          "text": [
            "[4, 6, 8, 12]\n"
          ],
          "name": "stdout"
        }
      ]
    },
    {
      "cell_type": "markdown",
      "metadata": {
        "id": "hFU9GDJD5jYw",
        "colab_type": "text"
      },
      "source": [
        "## Lambdas with map"
      ]
    },
    {
      "cell_type": "code",
      "metadata": {
        "colab_type": "code",
        "outputId": "d42e2763-d1cb-4abd-bffc-4694385ad537",
        "id": "-HW5F2-H5noy",
        "colab": {
          "base_uri": "https://localhost:8080/",
          "height": 34
        }
      },
      "source": [
        "my_list = [1, 5, 4, 6, 8, 11, 3, 12]\n",
        "new_list = list(map(lambda x: (x % 2 == 0), my_list))\n",
        "print(new_list)"
      ],
      "execution_count": 0,
      "outputs": [
        {
          "output_type": "stream",
          "text": [
            "[False, False, True, True, True, False, False, True]\n"
          ],
          "name": "stdout"
        }
      ]
    },
    {
      "cell_type": "markdown",
      "metadata": {
        "id": "_EMyo3ZJ5wn1",
        "colab_type": "text"
      },
      "source": [
        "### Program to double each item in the list"
      ]
    },
    {
      "cell_type": "code",
      "metadata": {
        "id": "Q05ApGVp5O1y",
        "colab_type": "code",
        "outputId": "55f701d0-075e-48c7-fdd2-f575af1cc352",
        "colab": {
          "base_uri": "https://localhost:8080/",
          "height": 34
        }
      },
      "source": [
        "my_list = [1, 5, 4, 6, 8, 11, 3, 12]\n",
        "new_list = list(map(lambda x: (x * 2), my_list))\n",
        "print(new_list)"
      ],
      "execution_count": 0,
      "outputs": [
        {
          "output_type": "stream",
          "text": [
            "[2, 10, 8, 12, 16, 22, 6, 24]\n"
          ],
          "name": "stdout"
        }
      ]
    },
    {
      "cell_type": "markdown",
      "metadata": {
        "id": "ySxcbQrX8gJi",
        "colab_type": "text"
      },
      "source": [
        "## Program to square each item in the list"
      ]
    },
    {
      "cell_type": "code",
      "metadata": {
        "id": "2HPxo2BC50Gl",
        "colab_type": "code",
        "outputId": "ff07d0a4-8e07-4dcc-d30f-1ac05980c94c",
        "colab": {
          "base_uri": "https://localhost:8080/",
          "height": 34
        }
      },
      "source": [
        "sequences = [10,2,8,7,5,4,3,11,0, 1]\n",
        "filtered_result = map (lambda x: x*x, sequences) \n",
        "print(list(filtered_result))"
      ],
      "execution_count": 0,
      "outputs": [
        {
          "output_type": "stream",
          "text": [
            "[100, 4, 64, 49, 25, 16, 9, 121, 0, 1]\n"
          ],
          "name": "stdout"
        }
      ]
    },
    {
      "cell_type": "markdown",
      "metadata": {
        "id": "tgXsx4fj8mOW",
        "colab_type": "text"
      },
      "source": [
        "## Lambda with reduce"
      ]
    },
    {
      "cell_type": "markdown",
      "metadata": {
        "id": "RI0FFkVo852a",
        "colab_type": "text"
      },
      "source": [
        "The reduce function, like map(), is used to apply an operation to every element in a sequence. However, it differs from the map in its working. These are the steps followed by the reduce() function to compute an output:\n",
        "\n",
        "Step 1) Perform the defined operation on the first 2 elements of the sequence.\n",
        "\n",
        "Step 2) Save this result\n",
        "\n",
        "Step 3) Perform the operation with the saved result and the next element in the sequence.\n",
        "\n",
        "Step 4) Repeat until no more elements are left."
      ]
    },
    {
      "cell_type": "code",
      "metadata": {
        "id": "bHtkqg-s8ckj",
        "colab_type": "code",
        "outputId": "691cc927-8c2a-4661-fab4-53280e2a7c6c",
        "colab": {
          "base_uri": "https://localhost:8080/",
          "height": 34
        }
      },
      "source": [
        "from functools import reduce\n",
        "sequences = [1,2,3,4,5]\n",
        "product = reduce(lambda x, y: x * y, sequences)\n",
        "print(product)"
      ],
      "execution_count": 0,
      "outputs": [
        {
          "output_type": "stream",
          "text": [
            "120\n"
          ],
          "name": "stdout"
        }
      ]
    },
    {
      "cell_type": "markdown",
      "metadata": {
        "id": "yylRNe46jFYD",
        "colab_type": "text"
      },
      "source": [
        "## To sort using Lambda"
      ]
    },
    {
      "cell_type": "markdown",
      "metadata": {
        "id": "EWo9pRKejI0M",
        "colab_type": "text"
      },
      "source": [
        "### In place"
      ]
    },
    {
      "cell_type": "code",
      "metadata": {
        "id": "gDWs80k-jKPW",
        "colab_type": "code",
        "colab": {
          "base_uri": "https://localhost:8080/",
          "height": 35
        },
        "outputId": "f04faf06-e48c-4919-9aad-2646b4ac2ea8"
      },
      "source": [
        "lis = [ 1,23,4,5,2,7,8,45,23,1,5,3,8]\n",
        "lis.sort(key = lambda x: x, reverse = True)\n",
        "print(lis)"
      ],
      "execution_count": 4,
      "outputs": [
        {
          "output_type": "stream",
          "text": [
            "[45, 23, 23, 8, 8, 7, 5, 5, 4, 3, 2, 1, 1]\n"
          ],
          "name": "stdout"
        }
      ]
    },
    {
      "cell_type": "markdown",
      "metadata": {
        "id": "NRtxNnFKkFZ-",
        "colab_type": "text"
      },
      "source": [
        "## To sort nested lists using lambda"
      ]
    },
    {
      "cell_type": "code",
      "metadata": {
        "id": "459RyHs3jVDm",
        "colab_type": "code",
        "colab": {
          "base_uri": "https://localhost:8080/",
          "height": 35
        },
        "outputId": "64bc0a61-d486-4a44-aff8-ad9b041acf85"
      },
      "source": [
        "a = [(1, 2), (4, 1), (9, 10), (13, -3)]\n",
        "a.sort(key = lambda x: x[1])\n",
        "print(a)"
      ],
      "execution_count": 5,
      "outputs": [
        {
          "output_type": "stream",
          "text": [
            "[(13, -3), (4, 1), (1, 2), (9, 10)]\n"
          ],
          "name": "stdout"
        }
      ]
    },
    {
      "cell_type": "markdown",
      "metadata": {
        "id": "4-RWJnsokRAX",
        "colab_type": "text"
      },
      "source": [
        "## Parallel sorting of lists"
      ]
    },
    {
      "cell_type": "code",
      "metadata": {
        "id": "ahq8dcgakOAq",
        "colab_type": "code",
        "colab": {}
      },
      "source": [
        ""
      ],
      "execution_count": 0,
      "outputs": []
    },
    {
      "cell_type": "markdown",
      "metadata": {
        "id": "2EMvXKaRkcxZ",
        "colab_type": "text"
      },
      "source": [
        "## Sorting a list of tuples by second item"
      ]
    },
    {
      "cell_type": "code",
      "metadata": {
        "id": "U4MJe7UtkfzX",
        "colab_type": "code",
        "colab": {
          "base_uri": "https://localhost:8080/",
          "height": 35
        },
        "outputId": "ca8e0c82-67c6-4813-e72b-fd857a69c377"
      },
      "source": [
        "# List of tuples i.e. word and its frequency count    \n",
        "wordFreq = [ ('the' , 34) , ('at' , 23), ('should' , 1) , ('from' , 3) ]\n",
        "\n",
        "wordFreq.sort(key = lambda x: x[1])\n",
        "print(wordFreq)"
      ],
      "execution_count": 6,
      "outputs": [
        {
          "output_type": "stream",
          "text": [
            "[('should', 1), ('from', 3), ('at', 23), ('the', 34)]\n"
          ],
          "name": "stdout"
        }
      ]
    },
    {
      "cell_type": "markdown",
      "metadata": {
        "id": "l3YhJIdDlLii",
        "colab_type": "text"
      },
      "source": [
        "## Sort dictionary by value"
      ]
    },
    {
      "cell_type": "code",
      "metadata": {
        "id": "m-Is3824kwQt",
        "colab_type": "code",
        "colab": {
          "base_uri": "https://localhost:8080/",
          "height": 35
        },
        "outputId": "a25b70ad-1afc-4cbf-90a5-bcb1f83e468e"
      },
      "source": [
        "ages = {'billy':16,'anna':17,'joe':15,'kelly':19}\n",
        "sorted(ages.items(),key=lambda x:x[1])"
      ],
      "execution_count": 7,
      "outputs": [
        {
          "output_type": "execute_result",
          "data": {
            "text/plain": [
              "[('joe', 15), ('billy', 16), ('anna', 17), ('kelly', 19)]"
            ]
          },
          "metadata": {
            "tags": []
          },
          "execution_count": 7
        }
      ]
    },
    {
      "cell_type": "markdown",
      "metadata": {
        "id": "c1DJ0tSGlTU4",
        "colab_type": "text"
      },
      "source": [
        ".items() returns a list of all key-value pairs as tuples, and the lambda function tells it to sort by the second item in each tuple, i.e. the value."
      ]
    },
    {
      "cell_type": "markdown",
      "metadata": {
        "id": "sEIl4208lc8b",
        "colab_type": "text"
      },
      "source": [
        "### Combining it with a dictionary comprehension"
      ]
    },
    {
      "cell_type": "code",
      "metadata": {
        "id": "fhD-rGhAlOwV",
        "colab_type": "code",
        "colab": {
          "base_uri": "https://localhost:8080/",
          "height": 35
        },
        "outputId": "ae6db347-acbb-4823-a4ff-465d7ff57a30"
      },
      "source": [
        "ages = {'billy':16,'anna':17,'joe':15,'kelly':19}\n",
        "{k: v for k,v in sorted(ages.items(),key=lambda x:x[1])}\n",
        "\n",
        "##This is giving WRONG answer. NOt sure why. Check it later."
      ],
      "execution_count": 14,
      "outputs": [
        {
          "output_type": "execute_result",
          "data": {
            "text/plain": [
              "{'anna': 17, 'billy': 16, 'joe': 15, 'kelly': 19}"
            ]
          },
          "metadata": {
            "tags": []
          },
          "execution_count": 14
        }
      ]
    },
    {
      "cell_type": "code",
      "metadata": {
        "id": "3cnUrKPcln_f",
        "colab_type": "code",
        "colab": {}
      },
      "source": [
        ""
      ],
      "execution_count": 0,
      "outputs": []
    },
    {
      "cell_type": "markdown",
      "metadata": {
        "id": "aSEJm2hd-xME",
        "colab_type": "text"
      },
      "source": [
        "# Tasks"
      ]
    },
    {
      "cell_type": "markdown",
      "metadata": {
        "id": "dk-h2spx-zfr",
        "colab_type": "text"
      },
      "source": [
        "## Find numbers divisible by 13"
      ]
    },
    {
      "cell_type": "code",
      "metadata": {
        "id": "kKlHKHHc9GBN",
        "colab_type": "code",
        "outputId": "2db0ddef-404f-4d40-c192-b3ff5bda343f",
        "colab": {
          "base_uri": "https://localhost:8080/",
          "height": 34
        }
      },
      "source": [
        "# Take a list of numbers.  \n",
        "my_list = [12, 65, 54, 39, 102, 339, 221, 50, 70, ] \n",
        "\n",
        "result = list(filter(lambda x: (x % 13 == 0), my_list))\n",
        "\n",
        "print(result)"
      ],
      "execution_count": 0,
      "outputs": [
        {
          "output_type": "stream",
          "text": [
            "[65, 39, 221]\n"
          ],
          "name": "stdout"
        }
      ]
    },
    {
      "cell_type": "markdown",
      "metadata": {
        "id": "yUu3ZBU66-LA",
        "colab_type": "text"
      },
      "source": [
        "## Given a list of strings, find all palindromes."
      ]
    },
    {
      "cell_type": "code",
      "metadata": {
        "id": "pqt10cZc_A5c",
        "colab_type": "code",
        "outputId": "162df9aa-be15-424a-a277-f07b5462b9b1",
        "colab": {
          "base_uri": "https://localhost:8080/",
          "height": 34
        }
      },
      "source": [
        "my_list = [\"geeks\", \"geeg\", \"keek\", \"practice\", \"aa\"] \n",
        "\n",
        "# use anonymous function to filter palindromes. \n",
        "result = list(filter(lambda x: (x == \"\".join(reversed(x))), my_list))\n",
        "print(result)"
      ],
      "execution_count": 0,
      "outputs": [
        {
          "output_type": "stream",
          "text": [
            "['geeg', 'keek', 'aa']\n"
          ],
          "name": "stdout"
        }
      ]
    },
    {
      "cell_type": "markdown",
      "metadata": {
        "id": "UfDBC1eW8L_8",
        "colab_type": "text"
      },
      "source": [
        "### Code step by step"
      ]
    },
    {
      "cell_type": "code",
      "metadata": {
        "id": "x248wgtu52dj",
        "colab_type": "code",
        "outputId": "d4bd28d7-b261-4515-87c7-b96c2446b97c",
        "colab": {
          "base_uri": "https://localhost:8080/",
          "height": 34
        }
      },
      "source": [
        "reversed(\"geek\")"
      ],
      "execution_count": 0,
      "outputs": [
        {
          "output_type": "execute_result",
          "data": {
            "text/plain": [
              "<reversed at 0x7f87d26db048>"
            ]
          },
          "metadata": {
            "tags": []
          },
          "execution_count": 2
        }
      ]
    },
    {
      "cell_type": "code",
      "metadata": {
        "id": "J6mGRivc7VcK",
        "colab_type": "code",
        "outputId": "c713d89b-c292-4ab5-bf1d-7be088fd2839",
        "colab": {
          "base_uri": "https://localhost:8080/",
          "height": 34
        }
      },
      "source": [
        "\"\".join(reversed(\"geek\"))"
      ],
      "execution_count": 0,
      "outputs": [
        {
          "output_type": "execute_result",
          "data": {
            "text/plain": [
              "'keeg'"
            ]
          },
          "metadata": {
            "tags": []
          },
          "execution_count": 3
        }
      ]
    },
    {
      "cell_type": "code",
      "metadata": {
        "id": "nfn3kSZp7aQy",
        "colab_type": "code",
        "outputId": "3f9e0c6b-807a-4cce-bee2-0e6da1a18a53",
        "colab": {
          "base_uri": "https://localhost:8080/",
          "height": 34
        }
      },
      "source": [
        "lambda x: (x == \"\".join(reversed(x))), [\"geek\"]"
      ],
      "execution_count": 0,
      "outputs": [
        {
          "output_type": "execute_result",
          "data": {
            "text/plain": [
              "(<function __main__.<lambda>>, ['geek'])"
            ]
          },
          "metadata": {
            "tags": []
          },
          "execution_count": 6
        }
      ]
    },
    {
      "cell_type": "code",
      "metadata": {
        "id": "sTOxX2k27xXh",
        "colab_type": "code",
        "outputId": "629c396c-51d7-442a-f0ee-7cb7eaa9dd4e",
        "colab": {
          "base_uri": "https://localhost:8080/",
          "height": 34
        }
      },
      "source": [
        "lambda x: (x == \"\".join(reversed(x))), [\"geek\", \"keek\"]"
      ],
      "execution_count": 0,
      "outputs": [
        {
          "output_type": "execute_result",
          "data": {
            "text/plain": [
              "(<function __main__.<lambda>>, ['geek', 'keek'])"
            ]
          },
          "metadata": {
            "tags": []
          },
          "execution_count": 7
        }
      ]
    },
    {
      "cell_type": "code",
      "metadata": {
        "id": "-SRlgHBS7_rH",
        "colab_type": "code",
        "outputId": "5d00de43-0054-4f99-ecd2-b910a4468762",
        "colab": {
          "base_uri": "https://localhost:8080/",
          "height": 34
        }
      },
      "source": [
        "filter(lambda x: (x == \"\".join(reversed(x))), [\"geek\", \"keek\"])"
      ],
      "execution_count": 0,
      "outputs": [
        {
          "output_type": "execute_result",
          "data": {
            "text/plain": [
              "<filter at 0x7f87d26294a8>"
            ]
          },
          "metadata": {
            "tags": []
          },
          "execution_count": 9
        }
      ]
    },
    {
      "cell_type": "code",
      "metadata": {
        "id": "4-F31Sdp8D5g",
        "colab_type": "code",
        "outputId": "883f7ac7-d43a-41d5-ba17-8108e3cdd2b6",
        "colab": {
          "base_uri": "https://localhost:8080/",
          "height": 34
        }
      },
      "source": [
        "list(filter(lambda x: (x == \"\".join(reversed(x))), [\"geek\", \"keek\"]))"
      ],
      "execution_count": 0,
      "outputs": [
        {
          "output_type": "execute_result",
          "data": {
            "text/plain": [
              "['keek']"
            ]
          },
          "metadata": {
            "tags": []
          },
          "execution_count": 10
        }
      ]
    },
    {
      "cell_type": "markdown",
      "metadata": {
        "id": "G6VXcXKE8VzI",
        "colab_type": "text"
      },
      "source": [
        "## Given a list of strings and a string str, print all anagrams of str"
      ]
    },
    {
      "cell_type": "code",
      "metadata": {
        "id": "T6bLQ-mt8Ju7",
        "colab_type": "code",
        "outputId": "bea9505d-fa1b-4f7b-eee8-34bce2d1efeb",
        "colab": {
          "base_uri": "https://localhost:8080/",
          "height": 34
        }
      },
      "source": [
        "from collections import Counter \n",
        "  \n",
        "my_list = [\"geeks\", \"geeg\", \"keegs\", \"practice\", \"aa\"] \n",
        "str = \"eegsk\"\n",
        "\n",
        "# use anonymous function to filter anagrams of x.\n",
        "result = list(filter(lambda x: (Counter(str) == Counter(x)), my_list))\n",
        "print(result)"
      ],
      "execution_count": 0,
      "outputs": [
        {
          "output_type": "stream",
          "text": [
            "['geeks', 'keegs']\n"
          ],
          "name": "stdout"
        }
      ]
    },
    {
      "cell_type": "markdown",
      "metadata": {
        "id": "bBEAEpEX_AY4",
        "colab_type": "text"
      },
      "source": [
        "## Sort dictionaries by values using lambda\n"
      ]
    },
    {
      "cell_type": "code",
      "metadata": {
        "id": "NEDX8cCK84JS",
        "colab_type": "code",
        "outputId": "8dd47b65-74c3-4157-9aa9-12fc9336e2fb",
        "colab": {
          "base_uri": "https://localhost:8080/",
          "height": 70
        }
      },
      "source": [
        "# Initializing list of dictionaries \n",
        "lis = [{ \"name\" : \"Nandini\", \"age\" : 20},  \n",
        "{ \"name\" : \"Manjeet\", \"age\" : 20 }, \n",
        "{ \"name\" : \"Nikhil\" , \"age\" : 19 }] \n",
        "\n",
        "print(\"The list sorted by age:\")\n",
        "print(sorted(lis, key = lambda i: i['age']))"
      ],
      "execution_count": 0,
      "outputs": [
        {
          "output_type": "stream",
          "text": [
            "The list sorted by age:\n",
            "[{'name': 'Nikhil', 'age': 19}, {'name': 'Nandini', 'age': 20}, {'name': 'Manjeet', 'age': 20}]\n"
          ],
          "name": "stdout"
        }
      ]
    },
    {
      "cell_type": "code",
      "metadata": {
        "id": "6o6uM0EB_O1z",
        "colab_type": "code",
        "outputId": "90e360c6-fd7f-46a6-ee5c-e15bdc7787d9",
        "colab": {
          "base_uri": "https://localhost:8080/",
          "height": 70
        }
      },
      "source": [
        "# sorted by age and name\n",
        "\n",
        "print(\"Sort by age and name\")\n",
        "print(sorted(lis, key = lambda i: (i['age'], i['name'])))"
      ],
      "execution_count": 0,
      "outputs": [
        {
          "output_type": "stream",
          "text": [
            "Sort by age and name\n",
            "[{'name': 'Nikhil', 'age': 19}, {'name': 'Manjeet', 'age': 20}, {'name': 'Nandini', 'age': 20}]\n"
          ],
          "name": "stdout"
        }
      ]
    },
    {
      "cell_type": "code",
      "metadata": {
        "id": "J8P6DUkNAAry",
        "colab_type": "code",
        "outputId": "2289df38-f89b-4db9-d709-c7f24b192d5d",
        "colab": {
          "base_uri": "https://localhost:8080/",
          "height": 54
        }
      },
      "source": [
        "# sort by age in descending order\n",
        "\n",
        "print(sorted(lis, key = lambda i: i['age'], reverse = True))"
      ],
      "execution_count": 0,
      "outputs": [
        {
          "output_type": "stream",
          "text": [
            "[{'name': 'Nandini', 'age': 20}, {'name': 'Manjeet', 'age': 20}, {'name': 'Nikhil', 'age': 19}]\n"
          ],
          "name": "stdout"
        }
      ]
    },
    {
      "cell_type": "markdown",
      "metadata": {
        "id": "PKLtGx_bOsHD",
        "colab_type": "text"
      },
      "source": [
        "## Find sum of a list"
      ]
    },
    {
      "cell_type": "code",
      "metadata": {
        "id": "qamIZa0XOcqr",
        "colab_type": "code",
        "colab": {}
      },
      "source": [
        "import functools\n",
        "lis = [1,3,5,6,2,1]\n",
        "\n",
        "print(functools.reduce(lambda a,b: a+b, lis))"
      ],
      "execution_count": 0,
      "outputs": []
    },
    {
      "cell_type": "markdown",
      "metadata": {
        "id": "Oib6Ll5UPBpD",
        "colab_type": "text"
      },
      "source": [
        "## Find maximum element in a list"
      ]
    },
    {
      "cell_type": "code",
      "metadata": {
        "id": "5_f-nobGPD4t",
        "colab_type": "code",
        "outputId": "d4bfdcf5-34d1-4572-cb02-6612d6e2d2b5",
        "colab": {
          "base_uri": "https://localhost:8080/",
          "height": 34
        }
      },
      "source": [
        "import functools\n",
        "lis = [1,3,5,6,2,1]\n",
        "\n",
        "print(functools.reduce(lambda a,b: a if a > b else b, lis))"
      ],
      "execution_count": 0,
      "outputs": [
        {
          "output_type": "stream",
          "text": [
            "6\n"
          ],
          "name": "stdout"
        }
      ]
    },
    {
      "cell_type": "code",
      "metadata": {
        "id": "5twni5b1PT4o",
        "colab_type": "code",
        "colab": {}
      },
      "source": [
        ""
      ],
      "execution_count": 0,
      "outputs": []
    },
    {
      "cell_type": "code",
      "metadata": {
        "id": "G6a8F19QPPd9",
        "colab_type": "code",
        "colab": {}
      },
      "source": [
        ""
      ],
      "execution_count": 0,
      "outputs": []
    },
    {
      "cell_type": "code",
      "metadata": {
        "id": "uvg32i3-PNdK",
        "colab_type": "code",
        "colab": {}
      },
      "source": [
        ""
      ],
      "execution_count": 0,
      "outputs": []
    }
  ]
}