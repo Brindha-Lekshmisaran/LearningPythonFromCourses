{
 "cells": [
  {
   "cell_type": "markdown",
   "metadata": {},
   "source": [
    "## Without the assignment exression"
   ]
  },
  {
   "cell_type": "code",
   "execution_count": 1,
   "metadata": {},
   "outputs": [
    {
     "name": "stdout",
     "output_type": "stream",
     "text": [
      "Not divisible! The remainder is 2\n"
     ]
    }
   ],
   "source": [
    "value = 20\n",
    "modulus = 3\n",
    "remainder = value % modulus\n",
    "if remainder:\n",
    "    print(f\"Not divisible! The remainder is {remainder}\") "
   ]
  },
  {
   "cell_type": "markdown",
   "metadata": {},
   "source": [
    "## With the assignment expression"
   ]
  },
  {
   "cell_type": "code",
   "execution_count": 2,
   "metadata": {},
   "outputs": [
    {
     "name": "stdout",
     "output_type": "stream",
     "text": [
      "Not divisible! The remainder is 2\n"
     ]
    }
   ],
   "source": [
    "value = 20\n",
    "modulus = 3\n",
    "if remainder := value % modulus:\n",
    "    print(f\"Not divisible! The remainder is {remainder}\") "
   ]
  }
 ],
 "metadata": {
  "kernelspec": {
   "display_name": "Python 3",
   "language": "python",
   "name": "python3"
  },
  "language_info": {
   "codemirror_mode": {
    "name": "ipython",
    "version": 3
   },
   "file_extension": ".py",
   "mimetype": "text/x-python",
   "name": "python",
   "nbconvert_exporter": "python",
   "pygments_lexer": "ipython3",
   "version": "3.11.0"
  }
 },
 "nbformat": 4,
 "nbformat_minor": 2
}
