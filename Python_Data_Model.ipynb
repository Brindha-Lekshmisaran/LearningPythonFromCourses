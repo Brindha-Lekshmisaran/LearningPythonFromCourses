{
 "cells": [
  {
   "cell_type": "markdown",
   "metadata": {},
   "source": [
    "# Immutable Objects"
   ]
  },
  {
   "cell_type": "markdown",
   "metadata": {},
   "source": [
    "## Integer"
   ]
  },
  {
   "cell_type": "code",
   "execution_count": 5,
   "metadata": {},
   "outputs": [
    {
     "name": "stdout",
     "output_type": "stream",
     "text": [
      "140706036749248\n",
      "<class 'int'>\n"
     ]
    },
    {
     "data": {
      "text/plain": [
       "True"
      ]
     },
     "execution_count": 5,
     "metadata": {},
     "output_type": "execute_result"
    }
   ],
   "source": [
    "# immutable objects\n",
    "x = 5\n",
    "print(id(x))\n",
    "print(type(x))\n",
    "isinstance(x, int)"
   ]
  },
  {
   "cell_type": "code",
   "execution_count": 8,
   "metadata": {},
   "outputs": [
    {
     "name": "stdout",
     "output_type": "stream",
     "text": [
      "5\n",
      "100 5\n",
      "5\n"
     ]
    }
   ],
   "source": [
    "x = 5\n",
    "# Reassign to a new variable\n",
    "y = x\n",
    "print(y)\n",
    "\n",
    "# change value of x\n",
    "x = 100\n",
    "print(x, y)\n",
    "# You can see that the value of the new variable is unchanged. \n",
    "# That is, y continues to point to the original value.\n",
    "# while, x now points to the new value."
   ]
  },
  {
   "cell_type": "code",
   "execution_count": 9,
   "metadata": {},
   "outputs": [
    {
     "name": "stdout",
     "output_type": "stream",
     "text": [
      "10 11\n"
     ]
    }
   ],
   "source": [
    "a = 10\n",
    "# Reassign to a new variable\n",
    "b = a\n",
    "\n",
    "# Now do some operation on b\n",
    "b += 1\n",
    "print(a, b)\n",
    "# You can see that only the value of b has changed. \n",
    "# That is, the memory location of b has changed and it is now pointing to a new value."
   ]
  },
  {
   "cell_type": "code",
   "execution_count": 13,
   "metadata": {},
   "outputs": [
    {
     "name": "stdout",
     "output_type": "stream",
     "text": [
      "140706036749248\n",
      "140706036749408\n",
      "140706036749248\n"
     ]
    }
   ],
   "source": [
    "# What happens the memory location when you revert back to the previous value\n",
    "x = 5\n",
    "print(id(x))\n",
    "x = 10\n",
    "print(id(x))\n",
    "x = 5\n",
    "print(id(x))\n",
    "# You can see that the memory location of a particular value is fixed."
   ]
  },
  {
   "cell_type": "code",
   "execution_count": 14,
   "metadata": {},
   "outputs": [
    {
     "name": "stdout",
     "output_type": "stream",
     "text": [
      "2682488895792\n",
      "2682488895344\n",
      "2682488895312\n"
     ]
    }
   ],
   "source": [
    "# What about bigger numbers?\n",
    "x = 123456\n",
    "print(id(x))\n",
    "# Reassign\n",
    "x = 234567\n",
    "print(id(x))\n",
    "# Reassign\n",
    "x = 123456\n",
    "print(id(x))\n",
    "# Here you can see the memory location of a larger value is changed even when you revert back to the original number"
   ]
  },
  {
   "cell_type": "code",
   "execution_count": 15,
   "metadata": {},
   "outputs": [
    {
     "name": "stdout",
     "output_type": "stream",
     "text": [
      "2682488905424 2682488905424\n",
      "2682488905616 2682488905424\n",
      "2682488905392 2682488905424\n"
     ]
    }
   ],
   "source": [
    "# In the above lorge numebr scenario, what happens if you had another variable pointing to same location\n",
    "x = 123456\n",
    "y = x\n",
    "print(id(x), id(y))\n",
    "# Reassign\n",
    "x = 234567\n",
    "print(id(x), id(y))\n",
    "# Reassign\n",
    "x = 123456\n",
    "print(id(x), id(y))\n",
    "# Here you can see the memory location of a larger value is changed for x when you revert back to the original number, \n",
    "# but y still points to the previous memory location. "
   ]
  },
  {
   "cell_type": "markdown",
   "metadata": {},
   "source": [
    "## String"
   ]
  },
  {
   "cell_type": "code",
   "execution_count": 11,
   "metadata": {},
   "outputs": [
    {
     "name": "stdout",
     "output_type": "stream",
     "text": [
      "apples is in the memory location at  2682491507968\n",
      "apples and mangoes. is in the memory location at  2682496451472\n"
     ]
    }
   ],
   "source": [
    "# Any change to the value of the string, makes the variable point to a new memory location. \n",
    "s = \"apples\"\n",
    "print(s, \"is in the memory location at \", id(s))\n",
    "\n",
    "# Adding content to the string s\n",
    "s = s + \" and mangoes.\"\n",
    "print(s, \"is in the memory location at \", id(s))\n",
    "\n",
    "# You can see that any change to its value makes the string variable point to a new memory location.\n"
   ]
  },
  {
   "cell_type": "code",
   "execution_count": 31,
   "metadata": {},
   "outputs": [
    {
     "name": "stdout",
     "output_type": "stream",
     "text": [
      "Homer 2682491596904\n",
      "HOMER 2682491484456\n",
      "Homer 2682491596904\n"
     ]
    }
   ],
   "source": [
    "# calling a function on the string to change its value\n",
    "name = 'Homer'\n",
    "print(name, id(name))\n",
    "print(name.upper(), id(name.upper())) # Points to a new memory location here.\n",
    "print(name, id(name))\n",
    "# As you can see the function, doesn't permenantly the memory location of the original string.\n"
   ]
  },
  {
   "cell_type": "code",
   "execution_count": 32,
   "metadata": {},
   "outputs": [
    {
     "name": "stdout",
     "output_type": "stream",
     "text": [
      "Homer 2682491596904\n",
      "HOMER 2682491484120\n"
     ]
    }
   ],
   "source": [
    "# What happens when you reassign a string to itself after you change?\n",
    "name = 'Homer'\n",
    "print(name, id(name))\n",
    "# Reassign to itself\n",
    "name = name.upper()\n",
    "print(name, id(name))"
   ]
  },
  {
   "cell_type": "markdown",
   "metadata": {},
   "source": [
    "## None, True and False"
   ]
  },
  {
   "cell_type": "code",
   "execution_count": 16,
   "metadata": {},
   "outputs": [
    {
     "name": "stdout",
     "output_type": "stream",
     "text": [
      "140706036272352\n",
      "140706036226384\n",
      "140706036226416\n",
      "140706036226384\n",
      "140706036272352\n"
     ]
    }
   ],
   "source": [
    "# The interpretor has the same memory location for these values\n",
    "a = None\n",
    "print(id(a))\n",
    "# Reassign\n",
    "a = True\n",
    "print(id(a))\n",
    "# Reassign\n",
    "a = False\n",
    "print(id(a))\n",
    "# Revert it all back\n",
    "a = True\n",
    "print(id(a))\n",
    "a = None\n",
    "print(id(a))\n",
    "# You see it has the original memory locations."
   ]
  },
  {
   "cell_type": "code",
   "execution_count": 19,
   "metadata": {},
   "outputs": [
    {
     "name": "stdout",
     "output_type": "stream",
     "text": [
      "140706036272352\n",
      "140706036226384\n",
      "140706036226416\n"
     ]
    }
   ],
   "source": [
    "# What if it were another variable pointing\n",
    "b = None\n",
    "print(id(b))\n",
    "c = True\n",
    "print(id(c))\n",
    "d = False\n",
    "print(id(d))\n",
    "# The memory locations of None, True and False don't change."
   ]
  },
  {
   "cell_type": "code",
   "execution_count": 21,
   "metadata": {},
   "outputs": [
    {
     "name": "stdout",
     "output_type": "stream",
     "text": [
      "140706036272352\n",
      "140706036226384\n",
      "140706036226416\n"
     ]
    }
   ],
   "source": [
    "print(id(None))\n",
    "print(id(True))\n",
    "print(id(False))"
   ]
  },
  {
   "cell_type": "markdown",
   "metadata": {},
   "source": [
    "## DateTime Objects"
   ]
  },
  {
   "cell_type": "raw",
   "metadata": {},
   "source": [
    "datetime objects also are immutable as the functions which you use to modify \n",
    "the datetime object all return values instead of changing them in place."
   ]
  },
  {
   "cell_type": "code",
   "execution_count": 26,
   "metadata": {},
   "outputs": [
    {
     "name": "stdout",
     "output_type": "stream",
     "text": [
      "2000-01-01 00:00:00\n",
      "2682491543640\n",
      "2000-01-01 00:00:00\n",
      "2682491544720\n"
     ]
    }
   ],
   "source": [
    "import datetime\n",
    "\n",
    "new_date = datetime.datetime(year=2000, month=1, day=1, hour=0, minute=0, second=0, microsecond=0)\n",
    "print(new_date)\n",
    "print(id(new_date))\n",
    "\n",
    "# Change the date by returning the value.\n",
    "new_date = new_date.replace(year = 2000)\n",
    "print(new_date)\n",
    "print(id(new_date))"
   ]
  },
  {
   "cell_type": "markdown",
   "metadata": {},
   "source": [
    "# Mutable Objects"
   ]
  },
  {
   "cell_type": "markdown",
   "metadata": {},
   "source": [
    "## Dictionaries"
   ]
  },
  {
   "cell_type": "code",
   "execution_count": 22,
   "metadata": {},
   "outputs": [
    {
     "name": "stdout",
     "output_type": "stream",
     "text": [
      "2682495430800\n",
      "2682495430800\n"
     ]
    }
   ],
   "source": [
    "a = {'name': 'Raj', 'interests': ['computer science', 'music', 'astronomy']}\n",
    "print(id(a))\n",
    "# Add a new entry\n",
    "a['age'] = 25\n",
    "print(id(a))\n",
    "# You can see that the memory address remains unchanged, \n",
    "# even though the dictionary contents have been changed."
   ]
  },
  {
   "cell_type": "code",
   "execution_count": 24,
   "metadata": {},
   "outputs": [
    {
     "name": "stdout",
     "output_type": "stream",
     "text": [
      "{'a': 2} {'a': 2}\n",
      "2682491378496 2682491378496\n"
     ]
    }
   ],
   "source": [
    "# Potential bugs when you have int in dictionary  \n",
    "a = {'a': 1} \n",
    "# new variable b now points to the same dictionary.\n",
    "b = a\n",
    "# change the value of b\n",
    "b['a'] = 2\n",
    "print(a, b)\n",
    "print(id(a), id(b))"
   ]
  }
 ],
 "metadata": {
  "interpreter": {
   "hash": "13ef6dfa202335908c408655295c82a88bb78ed4d9d86f1411986ab9257cfb0e"
  },
  "kernelspec": {
   "display_name": "Python 3.7.9 64-bit (windows store)",
   "language": "python",
   "name": "python3"
  },
  "language_info": {
   "codemirror_mode": {
    "name": "ipython",
    "version": 3
   },
   "file_extension": ".py",
   "mimetype": "text/x-python",
   "name": "python",
   "nbconvert_exporter": "python",
   "pygments_lexer": "ipython3",
   "version": "3.7.3"
  },
  "orig_nbformat": 4
 },
 "nbformat": 4,
 "nbformat_minor": 2
}
