{
  "nbformat": 4,
  "nbformat_minor": 0,
  "metadata": {
    "colab": {
      "name": "BasicPython - Files.ipynb",
      "provenance": [],
      "collapsed_sections": [],
      "authorship_tag": "ABX9TyO365WTSIdrIAMAUs6i4U0S",
      "include_colab_link": true
    },
    "kernelspec": {
      "name": "python3",
      "display_name": "Python 3"
    }
  },
  "cells": [
    {
      "cell_type": "markdown",
      "metadata": {
        "id": "view-in-github",
        "colab_type": "text"
      },
      "source": [
        "<a href=\"https://colab.research.google.com/github/DataSciLearner/PythonPractice/blob/master/BasicPython_Files.ipynb\" target=\"_parent\"><img src=\"https://colab.research.google.com/assets/colab-badge.svg\" alt=\"Open In Colab\"/></a>"
      ]
    },
    {
      "cell_type": "markdown",
      "metadata": {
        "id": "G_X9FWSgAVAF",
        "colab_type": "text"
      },
      "source": [
        "# Basic file operations\n",
        "\n",
        "## Create file contents"
      ]
    },
    {
      "cell_type": "code",
      "metadata": {
        "id": "EB3pkRob5WSB",
        "colab_type": "code",
        "colab": {}
      },
      "source": [
        "! echo \"This is a file\" > file1.txt\n",
        "! echo \"This is line 2\" >> file1.txt\n",
        "! echo \"This is line 3\" >> file1.txt"
      ],
      "execution_count": 0,
      "outputs": []
    },
    {
      "cell_type": "code",
      "metadata": {
        "id": "MZmla2--8OZm",
        "colab_type": "code",
        "outputId": "0c8b40c4-c8c6-4a0e-e550-b084bec256ed",
        "colab": {
          "base_uri": "https://localhost:8080/",
          "height": 84
        }
      },
      "source": [
        "! ls\n",
        "! cat file1.txt"
      ],
      "execution_count": 0,
      "outputs": [
        {
          "output_type": "stream",
          "text": [
            "file1.txt  sample_data\n",
            "This is a file\n",
            "This is line 2\n",
            "This is line 3\n"
          ],
          "name": "stdout"
        }
      ]
    },
    {
      "cell_type": "markdown",
      "metadata": {
        "id": "7jAN1_h9Ac6O",
        "colab_type": "text"
      },
      "source": [
        "## Open and print contents"
      ]
    },
    {
      "cell_type": "code",
      "metadata": {
        "id": "jbQa6t8E8STR",
        "colab_type": "code",
        "outputId": "fa7bb784-48b4-45d5-92ed-4e1b8fb2d659",
        "colab": {
          "base_uri": "https://localhost:8080/",
          "height": 134
        }
      },
      "source": [
        "fhand = open(\"file1.txt\") #The handle is like a string sequence\n",
        "print(type(fhand))\n",
        "for line in fhand:\n",
        "  print(line)\n",
        "fhand.close()"
      ],
      "execution_count": 0,
      "outputs": [
        {
          "output_type": "stream",
          "text": [
            "<class '_io.TextIOWrapper'>\n",
            "This is a file\n",
            "\n",
            "This is line 2\n",
            "\n",
            "This is line 3\n",
            "\n"
          ],
          "name": "stdout"
        }
      ]
    },
    {
      "cell_type": "markdown",
      "metadata": {
        "id": "rOn58wktAgnf",
        "colab_type": "text"
      },
      "source": [
        "## Read whole file"
      ]
    },
    {
      "cell_type": "code",
      "metadata": {
        "id": "weP4m_K69gW7",
        "colab_type": "code",
        "outputId": "0d6580d5-f752-4d70-a221-63173b2df41c",
        "colab": {
          "base_uri": "https://localhost:8080/",
          "height": 84
        }
      },
      "source": [
        "# To read the whole file\n",
        "fhand = open(\"file1.txt\")\n",
        "\n",
        "inp = fhand.read()\n",
        "print(inp)\n",
        "fhand.close()"
      ],
      "execution_count": 0,
      "outputs": [
        {
          "output_type": "stream",
          "text": [
            "This is a file\n",
            "This is line 2\n",
            "This is line 3\n",
            "\n"
          ],
          "name": "stdout"
        }
      ]
    },
    {
      "cell_type": "code",
      "metadata": {
        "id": "I7Bcmp1H9kww",
        "colab_type": "code",
        "outputId": "41876b3b-1f63-4d27-9c01-4c755402baac",
        "colab": {
          "base_uri": "https://localhost:8080/",
          "height": 34
        }
      },
      "source": [
        "len(inp)"
      ],
      "execution_count": 0,
      "outputs": [
        {
          "output_type": "execute_result",
          "data": {
            "text/plain": [
              "45"
            ]
          },
          "metadata": {
            "tags": []
          },
          "execution_count": 19
        }
      ]
    },
    {
      "cell_type": "markdown",
      "metadata": {
        "id": "YH7j06mKAjA6",
        "colab_type": "text"
      },
      "source": [
        "## Search through the file"
      ]
    },
    {
      "cell_type": "code",
      "metadata": {
        "id": "QlRxIehK967c",
        "colab_type": "code",
        "outputId": "72f90105-3ca7-4431-a313-3ddde29e52b7",
        "colab": {
          "base_uri": "https://localhost:8080/",
          "height": 34
        }
      },
      "source": [
        "# Search through the file\n",
        "\n",
        "fhand = open(\"file1.txt\")\n",
        "for item in fhand:\n",
        "  item = item.rstrip() #remove the trailing newline\n",
        "  if item.endswith('2'):\n",
        "    print(item)\n",
        "\n",
        "fhand.close()"
      ],
      "execution_count": 0,
      "outputs": [
        {
          "output_type": "stream",
          "text": [
            "This is line 2\n"
          ],
          "name": "stdout"
        }
      ]
    },
    {
      "cell_type": "code",
      "metadata": {
        "id": "XJfr_19f-OJ3",
        "colab_type": "code",
        "outputId": "bbac0909-7241-49ca-954b-31ac76b3ba4f",
        "colab": {
          "base_uri": "https://localhost:8080/",
          "height": 34
        }
      },
      "source": [
        "# Search through the file\n",
        "#Use not and continue this time.\n",
        "\n",
        "fhand = open(\"file1.txt\")\n",
        "for item in fhand:\n",
        "  item = item.rstrip() #remove the trailing newline\n",
        "  if not item.endswith('2'):\n",
        "    continue\n",
        "  print(item)\n",
        "\n",
        "fhand.close()"
      ],
      "execution_count": 0,
      "outputs": [
        {
          "output_type": "stream",
          "text": [
            "This is line 2\n"
          ],
          "name": "stdout"
        }
      ]
    },
    {
      "cell_type": "markdown",
      "metadata": {
        "id": "agOYZ08DAm-C",
        "colab_type": "text"
      },
      "source": [
        "## Input filename from user & catch exceptions"
      ]
    },
    {
      "cell_type": "code",
      "metadata": {
        "id": "VbwKOrfZ_eKl",
        "colab_type": "code",
        "outputId": "73b3ef59-cb6b-427e-c916-e13ebfab58ab",
        "colab": {
          "base_uri": "https://localhost:8080/",
          "height": 50
        }
      },
      "source": [
        "# Catch any exceptions\n",
        "\n",
        "fname = input(\"Enter a file name\")\n",
        "try:\n",
        "  fhand = open(fname)\n",
        "except:\n",
        "  print(\"File cannot be opened:\", fname)\n",
        "  quit()\n",
        "\n",
        "print(\"Length of file is\", len(fhand.read()))\n",
        "fhand.close()\n"
      ],
      "execution_count": 0,
      "outputs": [
        {
          "output_type": "stream",
          "text": [
            "Enter a file namefile1.txt\n",
            "Length of file is 45\n"
          ],
          "name": "stdout"
        }
      ]
    },
    {
      "cell_type": "markdown",
      "metadata": {
        "id": "-TecAqqiAxIJ",
        "colab_type": "text"
      },
      "source": [
        "## Count contents"
      ]
    },
    {
      "cell_type": "code",
      "metadata": {
        "id": "oFyGYgHQAy-O",
        "colab_type": "code",
        "outputId": "a70f11e4-aa13-4ac1-fe13-654618eb2da0",
        "colab": {
          "base_uri": "https://localhost:8080/",
          "height": 34
        }
      },
      "source": [
        "fhand = open(\"file1.txt\")\n",
        "\n",
        "count = 0\n",
        "for line in fhand:\n",
        "  if line.startswith(\"This\"):\n",
        "    count = count + 1\n",
        "print(count)\n",
        "\n",
        "fhand.close()"
      ],
      "execution_count": 0,
      "outputs": [
        {
          "output_type": "stream",
          "text": [
            "3\n"
          ],
          "name": "stdout"
        }
      ]
    },
    {
      "cell_type": "markdown",
      "metadata": {
        "id": "2gJNnDK0EYVp",
        "colab_type": "text"
      },
      "source": [
        "# Task\n",
        " Write a program that prompts for a file name, then opens that file and reads through the file, looking for lines of the form:\n",
        "X-DSPAM-Confidence:    0.8475\n",
        "Count these lines and extract the floating point values from each of the lines and compute the average of those values and produce an output as shown below. Do not use the sum() function or a variable named sum in your solution.\n",
        "You can download the sample data at http://www.py4e.com/code3/mbox-short.txt when you are testing below enter mbox-short.txt as the file name."
      ]
    },
    {
      "cell_type": "code",
      "metadata": {
        "id": "RArpns3cA_tg",
        "colab_type": "code",
        "outputId": "09455d70-9dcc-4fa5-9e1e-faacdf74fb54",
        "colab": {
          "base_uri": "https://localhost:8080/",
          "height": 34
        }
      },
      "source": [
        "fhand = open(\"mbox-short.txt\") #Temporarily upload file from left hand side\n",
        "count = 0\n",
        "total = 0\n",
        "\n",
        "for line in fhand:\n",
        "  #looking just for lines of the form: X-DSPAM-Confidence: 0.8475 \n",
        "  if not line.startswith(\"X-DSPAM-Confidence:\"): continue\n",
        "\n",
        "  line = line.rstrip()\n",
        "  #now extract the floating point value\n",
        "  pos = line.find(\":\")\n",
        "  num = line[pos+1:]\n",
        "\n",
        "  #increment the count and then increment the total\n",
        "  count = count + 1\n",
        "  total = total + float(num)\n",
        "\n",
        "average = total/count\n",
        "print(\"average is\", average)"
      ],
      "execution_count": 0,
      "outputs": [
        {
          "output_type": "stream",
          "text": [
            "average is 0.7507185185185187\n"
          ],
          "name": "stdout"
        }
      ]
    },
    {
      "cell_type": "code",
      "metadata": {
        "id": "1GL4cnspFVdj",
        "colab_type": "code",
        "colab": {}
      },
      "source": [
        ""
      ],
      "execution_count": 0,
      "outputs": []
    }
  ]
}