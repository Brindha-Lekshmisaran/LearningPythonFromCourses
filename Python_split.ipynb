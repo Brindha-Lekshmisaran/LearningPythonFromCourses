{
  "nbformat": 4,
  "nbformat_minor": 0,
  "metadata": {
    "colab": {
      "name": "Python_split.ipynb",
      "provenance": [],
      "collapsed_sections": [],
      "authorship_tag": "ABX9TyNgtDTD033U/6diktpMEKR+",
      "include_colab_link": true
    },
    "kernelspec": {
      "name": "python3",
      "display_name": "Python 3"
    }
  },
  "cells": [
    {
      "cell_type": "markdown",
      "metadata": {
        "id": "view-in-github",
        "colab_type": "text"
      },
      "source": [
        "<a href=\"https://colab.research.google.com/github/DataSciLearner/PythonPractice/blob/master/Python_split.ipynb\" target=\"_parent\"><img src=\"https://colab.research.google.com/assets/colab-badge.svg\" alt=\"Open In Colab\"/></a>"
      ]
    },
    {
      "cell_type": "markdown",
      "metadata": {
        "id": "85VFjkRmo9h-",
        "colab_type": "text"
      },
      "source": [
        "## Bibliography\n",
        "https://www.programiz.com/python-programming/methods/string/split\n",
        "https://www.geeksforgeeks.org/python-string-split/"
      ]
    },
    {
      "cell_type": "code",
      "metadata": {
        "id": "h-lD3A8Zo4Bg",
        "colab_type": "code",
        "outputId": "85855681-b374-44fd-b7e6-d15cbb9fd547",
        "colab": {
          "base_uri": "https://localhost:8080/",
          "height": 67
        }
      },
      "source": [
        "text = \"Milk, Chicken, Bread\"\n",
        "print(text.split())\n",
        "print(text.split(','))\n",
        "print(text.split(':'))"
      ],
      "execution_count": 0,
      "outputs": [
        {
          "output_type": "stream",
          "text": [
            "['Milk,', 'Chicken,', 'Bread']\n",
            "['Milk', ' Chicken', ' Bread']\n",
            "['Milk, Chicken, Bread']\n"
          ],
          "name": "stdout"
        }
      ]
    },
    {
      "cell_type": "code",
      "metadata": {
        "id": "I3ipqTUSpu14",
        "colab_type": "code",
        "outputId": "8878699a-6d08-4759-bf92-dbe5a7259c40",
        "colab": {
          "base_uri": "https://localhost:8080/",
          "height": 67
        }
      },
      "source": [
        "text = \"Milk, Chicken, Bread, Butter\"\n",
        "print(text.split(',', 2))\n",
        "print(text.split(',', 3))\n",
        "print(text.split(',', 0))"
      ],
      "execution_count": 0,
      "outputs": [
        {
          "output_type": "stream",
          "text": [
            "['Milk', ' Chicken', ' Bread, Butter']\n",
            "['Milk', ' Chicken', ' Bread', ' Butter']\n",
            "['Milk, Chicken, Bread, Butter']\n"
          ],
          "name": "stdout"
        }
      ]
    },
    {
      "cell_type": "markdown",
      "metadata": {
        "id": "fxJEH9RmqkPK",
        "colab_type": "text"
      },
      "source": [
        "## Split string including spaces"
      ]
    },
    {
      "cell_type": "code",
      "metadata": {
        "id": "-kOfGDxmp_uB",
        "colab_type": "code",
        "outputId": "31e0a9c7-13da-4b31-d848-74307634739e",
        "colab": {
          "base_uri": "https://localhost:8080/",
          "height": 34
        }
      },
      "source": [
        "test = \"This is a string\"\n",
        "\n",
        "result = [i for j in test.split() for i in (j, ' ')][:-1]\n",
        "\n",
        "print(\"List without omitting spaces\", str(result))"
      ],
      "execution_count": 0,
      "outputs": [
        {
          "output_type": "stream",
          "text": [
            "List without omitting spaces ['This', ' ', 'is', ' ', 'a', ' ', 'string']\n"
          ],
          "name": "stdout"
        }
      ]
    },
    {
      "cell_type": "markdown",
      "metadata": {
        "id": "Ra5appO3VCU6",
        "colab_type": "text"
      },
      "source": [
        "## Multiline split"
      ]
    },
    {
      "cell_type": "code",
      "metadata": {
        "id": "bH4VvGETpogN",
        "colab_type": "code",
        "colab": {
          "base_uri": "https://localhost:8080/",
          "height": 35
        },
        "outputId": "959320cc-fa57-42bd-cb8f-099a67fab59c"
      },
      "source": [
        "multiline = \"Hi there\\nHow are you?\\nI'm fine.\"\n",
        "print(multiline.split(sep = '\\n'))"
      ],
      "execution_count": 1,
      "outputs": [
        {
          "output_type": "stream",
          "text": [
            "['Hi there', 'How are you?', \"I'm fine.\"]\n"
          ],
          "name": "stdout"
        }
      ]
    },
    {
      "cell_type": "code",
      "metadata": {
        "id": "eS9vf0NcVLHD",
        "colab_type": "code",
        "colab": {}
      },
      "source": [
        ""
      ],
      "execution_count": 0,
      "outputs": []
    }
  ]
}