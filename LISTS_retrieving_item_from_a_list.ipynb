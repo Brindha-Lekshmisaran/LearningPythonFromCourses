{
  "nbformat": 4,
  "nbformat_minor": 0,
  "metadata": {
    "colab": {
      "name": "retrieving item from a list.ipynb",
      "provenance": [],
      "authorship_tag": "ABX9TyNPbIqkzvo6maSMMRdDpFQD",
      "include_colab_link": true
    },
    "kernelspec": {
      "name": "python3",
      "display_name": "Python 3"
    },
    "language_info": {
      "name": "python"
    }
  },
  "cells": [
    {
      "cell_type": "markdown",
      "metadata": {
        "id": "view-in-github",
        "colab_type": "text"
      },
      "source": [
        "<a href=\"https://colab.research.google.com/github/DataSciLearner/PythonPractice/blob/master/retrieving_item_from_a_list.ipynb\" target=\"_parent\"><img src=\"https://colab.research.google.com/assets/colab-badge.svg\" alt=\"Open In Colab\"/></a>"
      ]
    },
    {
      "cell_type": "code",
      "execution_count": null,
      "metadata": {
        "id": "udCi5Z2dAkma",
        "colab": {
          "base_uri": "https://localhost:8080/"
        },
        "outputId": "85c6cee7-5e31-445a-ed2b-4513978ec42f"
      },
      "outputs": [
        {
          "output_type": "stream",
          "name": "stdout",
          "text": [
            "1\n"
          ]
        }
      ],
      "source": [
        "animals = ['cat', 'dog', 'rabbit', 'horse']\n",
        "\n",
        "# get the index of 'dog'\n",
        "index = animals.index('dog')\n",
        "\n",
        "\n",
        "print(index)\n",
        "\n",
        "# Output: 1"
      ]
    },
    {
      "cell_type": "code",
      "source": [
        "# alphabets list\n",
        "alphabets = ['a', 'e', 'i', 'o', 'g', 'l', 'i', 'u']\n",
        "\n",
        "# index of 'i' in alphabets\n",
        "index = alphabets.index('e')   # 1\n",
        "\n",
        "print('The index of e:', index)\n",
        "\n",
        "# 'i' after the 4th index is searched\n",
        "index = alphabets.index('i', 4)   # 6\n",
        "\n",
        "print('The index of i:', index)\n",
        "\n"
      ],
      "metadata": {
        "colab": {
          "base_uri": "https://localhost:8080/"
        },
        "id": "obysE95hF5MR",
        "outputId": "a0080a0f-2852-4b7e-fca6-3f4a53cc09a6"
      },
      "execution_count": null,
      "outputs": [
        {
          "output_type": "stream",
          "name": "stdout",
          "text": [
            "The index of e: 1\n",
            "The index of i: 6\n"
          ]
        }
      ]
    },
    {
      "cell_type": "code",
      "source": [
        "# 'i' between 3rd and 5th index is searched\n",
        "index = alphabets.index('i', 3, 5)   # Error!\n",
        "\n",
        "print('The index of i:', index)"
      ],
      "metadata": {
        "id": "5MZbnglXGEL0",
        "outputId": "6f2d3917-8bd8-4655-e1c7-942dd971660c",
        "colab": {
          "base_uri": "https://localhost:8080/",
          "height": 261
        }
      },
      "execution_count": null,
      "outputs": [
        {
          "output_type": "error",
          "ename": "ValueError",
          "evalue": "ignored",
          "traceback": [
            "\u001b[0;31m---------------------------------------------------------------------------\u001b[0m",
            "\u001b[0;31mValueError\u001b[0m                                Traceback (most recent call last)",
            "\u001b[0;32m<ipython-input-4-99f6d02c84bc>\u001b[0m in \u001b[0;36m<module>\u001b[0;34m()\u001b[0m\n\u001b[1;32m      1\u001b[0m \u001b[0;31m# 'i' between 3rd and 5th index is searched\u001b[0m\u001b[0;34m\u001b[0m\u001b[0;34m\u001b[0m\u001b[0;34m\u001b[0m\u001b[0m\n\u001b[0;32m----> 2\u001b[0;31m \u001b[0mindex\u001b[0m \u001b[0;34m=\u001b[0m \u001b[0malphabets\u001b[0m\u001b[0;34m.\u001b[0m\u001b[0mindex\u001b[0m\u001b[0;34m(\u001b[0m\u001b[0;34m'i'\u001b[0m\u001b[0;34m,\u001b[0m \u001b[0;36m3\u001b[0m\u001b[0;34m,\u001b[0m \u001b[0;36m5\u001b[0m\u001b[0;34m)\u001b[0m   \u001b[0;31m# Error!\u001b[0m\u001b[0;34m\u001b[0m\u001b[0;34m\u001b[0m\u001b[0m\n\u001b[0m\u001b[1;32m      3\u001b[0m \u001b[0;34m\u001b[0m\u001b[0m\n\u001b[1;32m      4\u001b[0m \u001b[0mprint\u001b[0m\u001b[0;34m(\u001b[0m\u001b[0;34m'The index of i:'\u001b[0m\u001b[0;34m,\u001b[0m \u001b[0mindex\u001b[0m\u001b[0;34m)\u001b[0m\u001b[0;34m\u001b[0m\u001b[0;34m\u001b[0m\u001b[0m\n",
            "\u001b[0;31mValueError\u001b[0m: 'i' is not in list"
          ]
        }
      ]
    }
  ]
}