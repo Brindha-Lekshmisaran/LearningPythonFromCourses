{
  "nbformat": 4,
  "nbformat_minor": 0,
  "metadata": {
    "colab": {
      "name": "Python-zip.ipynb",
      "provenance": [],
      "collapsed_sections": [],
      "authorship_tag": "ABX9TyNwx/ss/+Gc+kuPiHzYXeA6",
      "include_colab_link": true
    },
    "kernelspec": {
      "name": "python3",
      "display_name": "Python 3"
    }
  },
  "cells": [
    {
      "cell_type": "markdown",
      "metadata": {
        "id": "view-in-github",
        "colab_type": "text"
      },
      "source": [
        "<a href=\"https://colab.research.google.com/github/DataSciLearner/PythonPractice/blob/master/Python_zip.ipynb\" target=\"_parent\"><img src=\"https://colab.research.google.com/assets/colab-badge.svg\" alt=\"Open In Colab\"/></a>"
      ]
    },
    {
      "cell_type": "markdown",
      "metadata": {
        "id": "qNQC2IRxMNoz",
        "colab_type": "text"
      },
      "source": [
        "## Bibliography\n",
        "https://www.programiz.com/python-programming/methods/built-in/zip\n",
        "geeksforgeeks.org/zip-in-python/"
      ]
    },
    {
      "cell_type": "markdown",
      "metadata": {
        "id": "qIsBjDANLyhu",
        "colab_type": "text"
      },
      "source": [
        "## Zip with variable number of iterables"
      ]
    },
    {
      "cell_type": "code",
      "metadata": {
        "id": "lEn4_SnUfQ3i",
        "colab_type": "code",
        "colab": {
          "base_uri": "https://localhost:8080/",
          "height": 52
        },
        "outputId": "6458e9c4-b192-41f1-a9a8-5d46b75b0919"
      },
      "source": [
        "# When no iterables are passed\n",
        "\n",
        "result = zip()\n",
        "print(result)\n",
        "# Converting this iterator into a list\n",
        "print(list(result))"
      ],
      "execution_count": 5,
      "outputs": [
        {
          "output_type": "stream",
          "text": [
            "<zip object at 0x7fd46ff96dc8>\n",
            "[]\n"
          ],
          "name": "stdout"
        }
      ]
    },
    {
      "cell_type": "code",
      "metadata": {
        "id": "FogioD9yK-rN",
        "colab_type": "code",
        "colab": {
          "base_uri": "https://localhost:8080/",
          "height": 52
        },
        "outputId": "fcf43547-5287-4106-da8c-0444f23d8808"
      },
      "source": [
        "# When one iterable is passed\n",
        "nums = [1,2,3]\n",
        "print(zip(nums))\n",
        "print(list(zip(nums)))"
      ],
      "execution_count": 4,
      "outputs": [
        {
          "output_type": "stream",
          "text": [
            "<zip object at 0x7fd46ff961c8>\n",
            "[(1,), (2,), (3,)]\n"
          ],
          "name": "stdout"
        }
      ]
    },
    {
      "cell_type": "code",
      "metadata": {
        "id": "TK6JxCLiKosn",
        "colab_type": "code",
        "colab": {
          "base_uri": "https://localhost:8080/",
          "height": 52
        },
        "outputId": "4c430020-e29c-4195-c356-fe69f52421c6"
      },
      "source": [
        "# When two iterables are passed\n",
        "\n",
        "nums = [1,3,4]\n",
        "strs = ['one', 'three', 'four']\n",
        "result = zip(nums, strs)\n",
        "print(result)\n",
        "\n",
        "result_list = list(result)\n",
        "print(result_list)"
      ],
      "execution_count": 3,
      "outputs": [
        {
          "output_type": "stream",
          "text": [
            "<zip object at 0x7fd46ff96908>\n",
            "[(1, 'one'), (3, 'three'), (4, 'four')]\n"
          ],
          "name": "stdout"
        }
      ]
    },
    {
      "cell_type": "code",
      "metadata": {
        "id": "txW4Pp6qKhbm",
        "colab_type": "code",
        "colab": {
          "base_uri": "https://localhost:8080/",
          "height": 52
        },
        "outputId": "2032c20c-9faa-482c-d929-2e17e347e7b0"
      },
      "source": [
        "# If the two iterables are of unequal length\n",
        "\n",
        "nums = [1,3,4,6,7,8]\n",
        "strs = ['one', 'three', 'four']\n",
        "result = zip(nums, strs)\n",
        "print(result)\n",
        "print(list(result))"
      ],
      "execution_count": 6,
      "outputs": [
        {
          "output_type": "stream",
          "text": [
            "<zip object at 0x7fd46ff96608>\n",
            "[(1, 'one'), (3, 'three'), (4, 'four')]\n"
          ],
          "name": "stdout"
        }
      ]
    },
    {
      "cell_type": "markdown",
      "metadata": {
        "id": "lj4HbLlzLgEr",
        "colab_type": "text"
      },
      "source": [
        "the returned iterator will contain three tuples. It's because iterator stops when the shortest iterable is exhausted."
      ]
    },
    {
      "cell_type": "code",
      "metadata": {
        "id": "sMAEsMp6LE7a",
        "colab_type": "code",
        "colab": {
          "base_uri": "https://localhost:8080/",
          "height": 35
        },
        "outputId": "67181308-6c4d-4399-ceea-47c2a6cd0696"
      },
      "source": [
        "numbersList = [1, 2, 3]\n",
        "str_list = ['one', 'two']\n",
        "numbers_tuple = ('ONE', 'TWO', 'THREE', 'FOUR')\n",
        "\n",
        "print(list(zip(numbersList, str_list, numbers_tuple)))"
      ],
      "execution_count": 7,
      "outputs": [
        {
          "output_type": "stream",
          "text": [
            "[(1, 'one', 'ONE'), (2, 'two', 'TWO')]\n"
          ],
          "name": "stdout"
        }
      ]
    },
    {
      "cell_type": "markdown",
      "metadata": {
        "id": "fVTYNy04L1tz",
        "colab_type": "text"
      },
      "source": [
        "## Unzipping the value"
      ]
    },
    {
      "cell_type": "code",
      "metadata": {
        "id": "wej7IXQXK5ib",
        "colab_type": "code",
        "colab": {
          "base_uri": "https://localhost:8080/",
          "height": 52
        },
        "outputId": "f3f30827-ca57-4040-8836-8d25f6afff85"
      },
      "source": [
        "coordinate = ['x', 'y', 'z']\n",
        "value = [3, 4, 5]\n",
        "\n",
        "result = list(zip(coordinate, value))\n",
        "print(result)\n",
        "\n",
        "#unzipping\n",
        "c,v = zip(*result)\n",
        "print(\"c is {}, v is {}\".format(c,v))"
      ],
      "execution_count": 8,
      "outputs": [
        {
          "output_type": "stream",
          "text": [
            "[('x', 3), ('y', 4), ('z', 5)]\n",
            "c is ('x', 'y', 'z'), v is (3, 4, 5)\n"
          ],
          "name": "stdout"
        }
      ]
    },
    {
      "cell_type": "markdown",
      "metadata": {
        "id": "a8CxrA8aMYsO",
        "colab_type": "text"
      },
      "source": [
        "## Using set for the zipped items"
      ]
    },
    {
      "cell_type": "code",
      "metadata": {
        "id": "arVI4FFRMF-f",
        "colab_type": "code",
        "colab": {
          "base_uri": "https://localhost:8080/",
          "height": 35
        },
        "outputId": "69f70412-7210-4798-b459-339b9740b312"
      },
      "source": [
        "# initializing lists \n",
        "name = [ \"Manjeet\", \"Nikhil\", \"Shambhavi\", \"Astha\" ] \n",
        "roll_no = [ 4, 1, 3, 2 ] \n",
        "marks = [ 40, 50, 60, 70 ] \n",
        "\n",
        "# using zip() to map values \n",
        "mapped = zip(name, roll_no, marks) \n",
        "\n",
        "# converting values to print as set \n",
        "mapped = set(mapped) \n",
        "\n",
        "print(mapped)"
      ],
      "execution_count": 9,
      "outputs": [
        {
          "output_type": "stream",
          "text": [
            "{('Astha', 2, 70), ('Shambhavi', 3, 60), ('Nikhil', 1, 50), ('Manjeet', 4, 40)}\n"
          ],
          "name": "stdout"
        }
      ]
    },
    {
      "cell_type": "code",
      "metadata": {
        "id": "HJT7WPWJMjNg",
        "colab_type": "code",
        "colab": {}
      },
      "source": [
        ""
      ],
      "execution_count": 0,
      "outputs": []
    }
  ]
}