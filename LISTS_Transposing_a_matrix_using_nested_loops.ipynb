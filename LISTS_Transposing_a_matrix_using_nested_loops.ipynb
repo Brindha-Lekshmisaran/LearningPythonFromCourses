{
 "cells": [
  {
   "cell_type": "code",
   "execution_count": 1,
   "metadata": {},
   "outputs": [
    {
     "name": "stdout",
     "output_type": "stream",
     "text": [
      "[[1, 4], [1, 4], [2, 5], [2, 5], [3, 6], [3, 6], [4, 8], [4, 8]]\n"
     ]
    }
   ],
   "source": [
    "# Doing the transpose of the matrix using nested loops.\n",
    "matrix = [[1,2,3,4],[4,5,6,8]]\n",
    "transposed = []\n",
    "\n",
    "# len(matrix[0]): first list of the nested list\n",
    "# Iterating through the first list of the nested list.\n",
    "for i in range(len(matrix[0])):\n",
    "  transposed_row = []\n",
    "  # Iterating through the nested list.\n",
    "  for row in matrix:\n",
    "    # Appending the transposed_row with the row[i]\n",
    "    transposed_row.append(row[i])\n",
    "    # Appending the transposed_row to the transposed list.\n",
    "    transposed.append(transposed_row)\n",
    "print(transposed)"
   ]
  }
 ],
 "metadata": {
  "interpreter": {
   "hash": "d688b627eadb31ff48a9147ba72a10b056553cb2a9fd8c7f8ddb500e616a3fb9"
  },
  "kernelspec": {
   "display_name": "Python 3.10.2 64-bit",
   "language": "python",
   "name": "python3"
  },
  "language_info": {
   "codemirror_mode": {
    "name": "ipython",
    "version": 3
   },
   "file_extension": ".py",
   "mimetype": "text/x-python",
   "name": "python",
   "nbconvert_exporter": "python",
   "pygments_lexer": "ipython3",
   "version": "3.10.2"
  },
  "orig_nbformat": 4
 },
 "nbformat": 4,
 "nbformat_minor": 2
}
