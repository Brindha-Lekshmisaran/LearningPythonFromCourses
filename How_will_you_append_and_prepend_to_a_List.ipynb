{
  "nbformat": 4,
  "nbformat_minor": 0,
  "metadata": {
    "colab": {
      "name": "How will you append and prepend to a List.ipynb",
      "provenance": [],
      "collapsed_sections": [],
      "authorship_tag": "ABX9TyMAVaKDRk3p/eDsoJtwlR3Q",
      "include_colab_link": true
    },
    "kernelspec": {
      "name": "python3",
      "display_name": "Python 3"
    },
    "language_info": {
      "name": "python"
    }
  },
  "cells": [
    {
      "cell_type": "markdown",
      "metadata": {
        "id": "view-in-github",
        "colab_type": "text"
      },
      "source": [
        "<a href=\"https://colab.research.google.com/github/DataSciLearner/PythonPractice/blob/master/How_will_you_append_and_prepend_to_a_List.ipynb\" target=\"_parent\"><img src=\"https://colab.research.google.com/assets/colab-badge.svg\" alt=\"Open In Colab\"/></a>"
      ]
    },
    {
      "cell_type": "code",
      "execution_count": null,
      "metadata": {
        "id": "1rtzRL1FIhOF"
      },
      "outputs": [],
      "source": [
        "## Appending to a list\n",
        "\n",
        "x = [1, 2, 3, 4]   .\n",
        "x[len(x):] = [5, 6, 7]    \n",
        "x  # [1, 2, 3, 4, 5, 6, 7]"
      ]
    },
    {
      "cell_type": "code",
      "source": [
        "# Prepending to a list\n",
        "\n",
        "x = [1, 2, 3, 4] \n",
        "x[:0] = [-1, 0]   \n",
        "x  #[-1, 0, 1, 2, 3, 4, 5, 6, 7] ."
      ],
      "metadata": {
        "id": "Zo8cGwQnIr00"
      },
      "execution_count": null,
      "outputs": []
    }
  ]
}