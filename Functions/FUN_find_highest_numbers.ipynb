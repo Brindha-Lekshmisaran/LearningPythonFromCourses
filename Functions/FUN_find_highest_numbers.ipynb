{
 "cells": [
  {
   "cell_type": "markdown",
   "metadata": {},
   "source": [
    "## Top 3 highest numbers\n",
    "This function takes in a list containing more than 3 numbers, and returns a list of length 3, containing the highest 3 numbers."
   ]
  },
  {
   "cell_type": "code",
   "execution_count": 2,
   "metadata": {},
   "outputs": [],
   "source": [
    "def top3(nums):\n",
    "  '''\n",
    "  input: a list containing more than 3 numbers\n",
    "  output: a list containing the highest 3 numbers\n",
    "  '''\n",
    "  nums.sort()\n",
    "  return nums[-3:]"
   ]
  },
  {
   "cell_type": "markdown",
   "metadata": {},
   "source": [
    "Note: The sort() method sorts the list in-place and returns None, so assigning it to nums will make nums become None."
   ]
  },
  {
   "cell_type": "code",
   "execution_count": 4,
   "metadata": {},
   "outputs": [],
   "source": [
    "# Test case 1: General case\n",
    "nums1 = [4, 2, 7, 1, 9, 5]\n",
    "assert top3(nums1) == [5, 7, 9]\n",
    "\n",
    "# Test case 2: Descending order\n",
    "nums2 = [10, 8, 6, 4, 2]\n",
    "assert top3(nums2) == [6, 8, 10]\n",
    "\n",
    "# Test case 3: Random order\n",
    "nums3 = [1, 5, 3, 7, 2, 9]\n",
    "assert top3(nums3) == [5, 7, 9]\n",
    "\n",
    "# Test case 4: All equal numbers\n",
    "nums4 = [3, 3, 3, 3, 3]\n",
    "assert top3(nums4) == [3, 3, 3]\n",
    "\n",
    "# Test case 5: Negative numbers\n",
    "nums5 = [-2, -5, -1, -8, -3]\n",
    "assert top3(nums5) == [-3, -2, -1]\n"
   ]
  },
  {
   "cell_type": "markdown",
   "metadata": {},
   "source": [
    "## Instructions in Leetcode format"
   ]
  },
  {
   "cell_type": "markdown",
   "metadata": {},
   "source": [
    "**Problem Statement:**\n",
    "\n",
    "You are given a list `nums` containing more than 3 numbers. Write a function `top3` that returns a list containing the highest 3 numbers from the input list.\n",
    "\n",
    "**Function Signature:**\n",
    "```python\n",
    "def top3(nums: List[int]) -> List[int]:\n",
    "```\n",
    "\n",
    "**Input:**\n",
    "- A list `nums` containing more than 3 integers. The length of `nums` is guaranteed to be greater than 3.\n",
    "\n",
    "**Output:**\n",
    "- Return a list containing the highest 3 numbers from the input list.\n",
    "\n",
    "**Example:**\n",
    "```python\n",
    "assert top3([4, 2, 7, 1, 9, 5]) == [5, 7, 9]\n",
    "assert top3([10, 8, 6, 4, 2]) == [6, 8, 10]\n",
    "assert top3([1, 5, 3, 7, 2, 9]) == [5, 7, 9]\n",
    "assert top3([3, 3, 3, 3, 3]) == [3, 3, 3]\n",
    "assert top3([-2, -5, -1, -8, -3]) == [-3, -2, -1]\n",
    "```\n",
    "\n",
    "**Note:**\n",
    "- The function should modify the original list in-place and return a new list containing the highest 3 numbers.\n",
    "\n",
    "---"
   ]
  }
 ],
 "metadata": {
  "kernelspec": {
   "display_name": "Python 3",
   "language": "python",
   "name": "python3"
  },
  "language_info": {
   "codemirror_mode": {
    "name": "ipython",
    "version": 3
   },
   "file_extension": ".py",
   "mimetype": "text/x-python",
   "name": "python",
   "nbconvert_exporter": "python",
   "pygments_lexer": "ipython3",
   "version": "3.11.0"
  },
  "orig_nbformat": 4
 },
 "nbformat": 4,
 "nbformat_minor": 2
}
