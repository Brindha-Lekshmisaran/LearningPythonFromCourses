{
 "cells": [
  {
   "cell_type": "markdown",
   "metadata": {},
   "source": [
    "## Check for prime numbers\n",
    "Write  a function that takes in an integer, and returns True if the input integer is a prime number, and False otherwise. A prime number is defined as an integer larger than 1 that can only be divided by 1 and itself."
   ]
  },
  {
   "cell_type": "code",
   "execution_count": 40,
   "metadata": {},
   "outputs": [],
   "source": [
    "def is_prime(n):\n",
    "  '''\n",
    "  if n is a prime number, return True\n",
    "  if n isn't a prime number, return False\n",
    "  '''\n",
    "  if n <= 1:\n",
    "    return False\n",
    "  for i in range(2, n//2 + 1):\n",
    "    if n % i == 0:\n",
    "      return False\n",
    "  return True  "
   ]
  },
  {
   "cell_type": "code",
   "execution_count": 43,
   "metadata": {},
   "outputs": [],
   "source": [
    "# Test case 1: Prime number\n",
    "assert is_prime(17) == True\n",
    "\n",
    "# Test case 2: Non-prime number\n",
    "assert is_prime(10) == False\n",
    "\n",
    "# Test case 3: Edge case - 1 (not a prime number)\n",
    "#assert is_prime(1) == False\n",
    "\n",
    "# Test case 4: Edge case - 2 (smallest prime number)\n",
    "assert is_prime(2) == True\n",
    "\n",
    "# Test case 5: Large prime number\n",
    "assert is_prime(997) == True\n",
    "\n",
    "# Test case 6: Large non-prime number\n",
    "assert is_prime(1000) == False\n",
    "\n",
    "# Test case 7: Number less than 1\n",
    "assert is_prime(0.3) == False\n"
   ]
  },
  {
   "cell_type": "markdown",
   "metadata": {},
   "source": [
    "### How does this code work?\n",
    "This code defines a function `is_prime` that checks if a given number `n` is a prime number or not. Here's a breakdown of how it works:\n",
    "\n",
    "1. The function takes an integer `n` as input.\n",
    "\n",
    "2. It uses a for loop to iterate through the range of numbers from 2 to `n//2 + 1`. The `//` operator performs integer division, ensuring that the loop iterates over integers only.\n",
    "\n",
    "3. Within the loop, it checks if `n` is divisible by the current value of `i` (i.e., if `n` modulo `i` is equal to 0). If this condition is true, it means that `n` is divisible by a number other than 1 and itself, making it non-prime. In such a case, the function returns `False`.\n",
    "\n",
    "4. If the loop completes without finding a divisor, the function returns `True`, indicating that `n` is a prime number.\n",
    "\n",
    "So, in summary, the function iterates through potential divisors from 2 to `n//2 + 1` and checks if any of them evenly divide `n`. If any do, it returns `False`; otherwise, it returns `True`."
   ]
  },
  {
   "cell_type": "markdown",
   "metadata": {},
   "source": [
    "#### Why n//2 + 1?\n",
    "When checking if a number n is prime, you only need to check divisors up to the square root of n. This is because if n is not a prime number and has a divisor greater than its square root, it must also have a divisor smaller than its square root.\n",
    "\n",
    "By using n//2 + 1, the loop only checks potential divisors up to half of n (rounded up to the nearest integer). This reduces the number of iterations in the loop, making the primality check more efficient. "
   ]
  },
  {
   "cell_type": "markdown",
   "metadata": {},
   "source": [
    "## Pythonic ways to rewrite this code"
   ]
  },
  {
   "cell_type": "code",
   "execution_count": 42,
   "metadata": {},
   "outputs": [],
   "source": [
    "def is_prime(n):\n",
    "    return n > 1 and all(n % i != 0 for i in range(2, n//2 + 1))\n"
   ]
  },
  {
   "cell_type": "code",
   "execution_count": 30,
   "metadata": {},
   "outputs": [],
   "source": [
    "def is_prime(n):\n",
    "    return n > 1 and all(n % i != 0 for i in range(2, int(n**0.5) + 1))\n"
   ]
  },
  {
   "cell_type": "markdown",
   "metadata": {},
   "source": [
    "\n",
    "- `n > 1`: Ensures that the number is greater than 1, as prime numbers are defined to be greater than 1.\n",
    "- `range(2, int(n**0.5) + 1)`: Iterates from 2 to the square root of `n`, using `int(n**0.5) + 1` to ensure the range covers the necessary values.\n",
    "- `all(...)`: Checks that the condition `n % i != 0` holds for all values of `i` in the specified range."
   ]
  },
  {
   "cell_type": "code",
   "execution_count": 31,
   "metadata": {},
   "outputs": [],
   "source": [
    "import math\n",
    "\n",
    "def is_prime(n):\n",
    "    return n > 1 and all(n % i != 0 for i in range(2, math.isqrt(n) + 1))\n"
   ]
  },
  {
   "cell_type": "markdown",
   "metadata": {},
   "source": [
    "This version is similar to the previous one but uses math.isqrt(n) to find the square root of n. This can be more efficient than int(n**0.5) + 1, especially for large values of n. The rest of the code remains the same, leveraging a generator expression and the all function for conciseness and readability."
   ]
  },
  {
   "cell_type": "code",
   "execution_count": 32,
   "metadata": {},
   "outputs": [],
   "source": [
    "import math\n",
    "\n",
    "def is_prime(n):\n",
    "    return n > 1 and not any(n % i == 0 for i in range(2, math.isqrt(n) + 1))\n"
   ]
  },
  {
   "cell_type": "markdown",
   "metadata": {},
   "source": [
    "In this version, the any function is used to check if there are any divisors in the specified range. The not operator is then used to invert the result, ensuring that the function returns True if there are no divisors, indicating that n is a prime number."
   ]
  },
  {
   "cell_type": "markdown",
   "metadata": {},
   "source": [
    "## Instructions in a Leetcode format"
   ]
  },
  {
   "cell_type": "markdown",
   "metadata": {},
   "source": [
    "**Problem Statement:**\n",
    "\n",
    "Given an integer `n`, write a function `is_prime` that determines whether `n` is a prime number.\n",
    "\n",
    "**Function Signature:**\n",
    "```python\n",
    "def is_prime(n: int) -> bool:\n",
    "```\n",
    "\n",
    "**Input:**\n",
    "- An integer `n` (0 <= n <= 2^31 - 1).\n",
    "\n",
    "**Output:**\n",
    "- Return `True` if `n` is a prime number, and `False` otherwise.\n",
    "\n",
    "**Example:**\n",
    "```python\n",
    "assert is_prime(17) == True\n",
    "assert is_prime(10) == False\n",
    "assert is_prime(1) == False\n",
    "assert is_prime(2) == True\n",
    "assert is_prime(997) == True\n",
    "assert is_prime(1000) == False\n",
    "```\n",
    "\n",
    "**Note:**\n",
    "- A prime number is a natural number greater than 1 that is not a product of two smaller natural numbers.\n",
    "- The function should handle edge cases where `n` is less than or equal to 1.\n",
    "\n",
    "---"
   ]
  }
 ],
 "metadata": {
  "kernelspec": {
   "display_name": "Python 3",
   "language": "python",
   "name": "python3"
  },
  "language_info": {
   "codemirror_mode": {
    "name": "ipython",
    "version": 3
   },
   "file_extension": ".py",
   "mimetype": "text/x-python",
   "name": "python",
   "nbconvert_exporter": "python",
   "pygments_lexer": "ipython3",
   "version": "3.11.0"
  },
  "orig_nbformat": 4
 },
 "nbformat": 4,
 "nbformat_minor": 2
}
